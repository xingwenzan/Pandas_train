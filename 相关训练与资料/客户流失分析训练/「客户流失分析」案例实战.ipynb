{
 "cells": [
  {
   "cell_type": "markdown",
   "metadata": {},
   "source": [
    "# pandas 进阶修炼\n",
    "<br>\n",
    "本习题基于 `pandas` 版本 `1.1.3`，所有内容应当在 `Jupyter Notebook` 中执行以获得最佳效果。\n",
    "\n",
    "不同版本之间写法可能会有少许不同，如若碰到此情况，你应该学会如何自行检索解决。"
   ]
  },
  {
   "cell_type": "markdown",
   "metadata": {},
   "source": [
    "## 实战｜客户流失分析\n",
    "\n",
    "\n",
    "\n",
    "<br>\n",
    "\n",
    "\n",
    "**<font color = '#5172F0'><font size=3.5>必读👇👇👇</font>**\n",
    "    \n",
    "  \n",
    "### 项目目的\n",
    "\n",
    "深入了解用户画像及行为偏好，挖掘出影响用户流失的关键因素，并通过算法预测客户访问的转化结果，从而更好地完善产品设计、提升用户体验！\n",
    "\n",
    "### 数据说明\n",
    "\n",
    "此次数据是携程用户一周的访问数据，为保护客户隐私，已经将数据经过了脱敏，和实际商品的订单量、浏览量、转化率等有一些差距，不影响问题的可解性。\n",
    "\n",
    "### 案例说明\n",
    "\n",
    "分类信息app，通过数据挖掘分析影响用户流失的关键因素、深入了解用户行为偏好以此做出调整，提升客户留存率，增强客户黏性，并通过随机森林算法预测客户流失，通过特征创造使模型分数提高2个百分点。\n",
    "\n",
    "### 项目内容\n",
    "探索数据分布，缺失情况，针对性的进行缺失值填补，对于缺失较少的重要特征选择随机森林缺失填补法，使用3sigma、箱型图分析等对异常值进行处理，对分类型变量进行编码。\n",
    "\n",
    "使用方差过滤、F检验过滤掉一部分特征，进行WOE分箱，对每个特征分箱结果进行可视化，分析每个特征分箱情况并以此分析 用户行为偏好，使用各个特征的IV值进一步筛选特征。\n",
    "\n",
    "训练随机森林模型，模型调参、评估，输出模型，以此模型对用户流失进行预测，以便针对性地挽留用户。训练逻辑回归模型，通过其算法可解释性强的特点(特征系数)来对用户流失关键因素进行阐述。\n",
    "\n",
    "本次案例分析仅展示数据清洗、特征工程及建模（随机森林分类模型）部分。完整案例可参见原文。\n",
    "\n",
    "![p1.png](./picture/p1.png)\n",
    "\n"
   ]
  },
  {
   "cell_type": "markdown",
   "metadata": {},
   "source": [
    "**<font color = '#5172F0'><font size=3.5>注意事项👇👇👇</font>**  \n",
    "    \n",
    "**注意1**：为了尽可能还原一次真实的数据分析项目，在食用本notebook时，可能会出现我们没有提示（解决方案）的报错，你应学会如何自行解决！\n",
    "\n",
    "**注意2**：由于本案例后半部分涉及内容大多为机器学习相关，因此将不做习题使用，提供用于pandas操作练习的部分仅到20题为止！\n",
    "   \n",
    "**注意3**：为了尽可能让大家理解题意，我将保留每一题的运行结果，该结果仅供参考，只要完成题目要求，在样式和文字上无需保持一致！"
   ]
  },
  {
   "cell_type": "markdown",
   "metadata": {},
   "source": [
    "## 初始化\n",
    "\n",
    "<br>\n",
    "\n",
    "该 `Notebook` 版本为**习题+答案版**\n",
    "\n",
    "\n",
    "请执行下方单元格以初始化读取本节习题的答案\n",
    "\n",
    "执行完毕后，你可以使用 `ans(1)` 来查看第 1 题的参考解答，其余习题类似。\n",
    "\n",
    "注意：所有答案并非固定（唯一），我提供的答案仅供参考（并非推荐答案或者最优解）"
   ]
  },
  {
   "cell_type": "code",
   "execution_count": 74,
   "metadata": {},
   "outputs": [
    {
     "name": "stdout",
     "output_type": "stream",
     "text": [
      "***************正在初始化***************\n",
      "*************读取到配置文件*************\n",
      "***************初始化成功***************\n"
     ]
    }
   ],
   "source": [
    "import sys\n",
    "sys.path.append('../document/')\n",
    "from init import initialize, ans\n",
    "res = initialize(\"../document/answer-s2.txt\")"
   ]
  },
  {
   "cell_type": "markdown",
   "metadata": {},
   "source": [
    "## 数据导入与探索性分析"
   ]
  },
  {
   "cell_type": "markdown",
   "metadata": {},
   "source": [
    "![p1.png](picture\\Snipaste_2022-08-27_10-54-43.png)"
   ]
  },
  {
   "cell_type": "markdown",
   "metadata": {
    "id": "W1hcMkbFQypB"
   },
   "source": [
    "### 导入依赖包\n",
    "\n",
    "执行以下代码来导入本项目使用到的相关库\n",
    "\n",
    "**如果有任何导入相关的错误，大概率是因为你没有安装，根据报错提示使用 pip 安装即可。**\n",
    "\n",
    "**导入库相关的问题不应在知识星球或者微信群进行提问！**"
   ]
  },
  {
   "cell_type": "code",
   "execution_count": 1,
   "metadata": {},
   "outputs": [],
   "source": [
    "import pandas as pd\n",
    "import numpy as np\n",
    "import matplotlib.pyplot as plt\n",
    "import seaborn as sns\n",
    "from time import time\n",
    "import datetime # 计时器\n",
    "from sklearn.model_selection import train_test_split\n",
    "from sklearn.feature_selection import f_classif\n",
    "from sklearn.ensemble import RandomForestClassifier as RFC\n",
    "from sklearn.feature_selection import SelectFromModel\n",
    "from sklearn.model_selection import cross_val_score\n",
    "from sklearn.feature_selection import VarianceThreshold\n",
    "%matplotlib inline\n",
    "\n",
    "#plt.rcParams['font.family'] = ['Arial Unicode MS']#显示中文,解决图中无法显示中文的问题\n",
    "plt.rcParams['font.family'] = ['SimHei']\n",
    "plt.rcParams['axes.unicode_minus']=False"
   ]
  },
  {
   "cell_type": "markdown",
   "metadata": {},
   "source": [
    "### 1 -  导入数据\n",
    "\n",
    "导入当前目录下 `userlostprob.txt`"
   ]
  },
  {
   "cell_type": "code",
   "execution_count": 2,
   "metadata": {},
   "outputs": [],
   "source": [
    "data = pd.read_table('./userlostprob.txt')"
   ]
  },
  {
   "cell_type": "markdown",
   "metadata": {},
   "source": [
    "### 2 - 数据查看"
   ]
  },
  {
   "cell_type": "markdown",
   "metadata": {},
   "source": [
    "查看数据前几行"
   ]
  },
  {
   "cell_type": "code",
   "execution_count": 7,
   "metadata": {},
   "outputs": [
    {
     "data": {
      "text/html": [
       "<div>\n",
       "<style scoped>\n",
       "    .dataframe tbody tr th:only-of-type {\n",
       "        vertical-align: middle;\n",
       "    }\n",
       "\n",
       "    .dataframe tbody tr th {\n",
       "        vertical-align: top;\n",
       "    }\n",
       "\n",
       "    .dataframe thead th {\n",
       "        text-align: right;\n",
       "    }\n",
       "</style>\n",
       "<table border=\"1\" class=\"dataframe\">\n",
       "  <thead>\n",
       "    <tr style=\"text-align: right;\">\n",
       "      <th></th>\n",
       "      <th>label</th>\n",
       "      <th>sampleid</th>\n",
       "      <th>d</th>\n",
       "      <th>arrival</th>\n",
       "      <th>iforderpv_24h</th>\n",
       "      <th>decisionhabit_user</th>\n",
       "      <th>historyvisit_7ordernum</th>\n",
       "      <th>historyvisit_totalordernum</th>\n",
       "      <th>hotelcr</th>\n",
       "      <th>ordercanceledprecent</th>\n",
       "      <th>...</th>\n",
       "      <th>lowestprice_pre2</th>\n",
       "      <th>lasthtlordergap</th>\n",
       "      <th>businessrate_pre2</th>\n",
       "      <th>cityuvs</th>\n",
       "      <th>cityorders</th>\n",
       "      <th>lastpvgap</th>\n",
       "      <th>cr</th>\n",
       "      <th>sid</th>\n",
       "      <th>visitnum_oneyear</th>\n",
       "      <th>h</th>\n",
       "    </tr>\n",
       "  </thead>\n",
       "  <tbody>\n",
       "    <tr>\n",
       "      <th>0</th>\n",
       "      <td>0</td>\n",
       "      <td>24636</td>\n",
       "      <td>2016-05-18</td>\n",
       "      <td>2016-05-18</td>\n",
       "      <td>0</td>\n",
       "      <td>NaN</td>\n",
       "      <td>NaN</td>\n",
       "      <td>NaN</td>\n",
       "      <td>1.04</td>\n",
       "      <td>NaN</td>\n",
       "      <td>...</td>\n",
       "      <td>615.0</td>\n",
       "      <td>NaN</td>\n",
       "      <td>0.29</td>\n",
       "      <td>12.880</td>\n",
       "      <td>3.147</td>\n",
       "      <td>NaN</td>\n",
       "      <td>NaN</td>\n",
       "      <td>7</td>\n",
       "      <td>NaN</td>\n",
       "      <td>12</td>\n",
       "    </tr>\n",
       "    <tr>\n",
       "      <th>1</th>\n",
       "      <td>1</td>\n",
       "      <td>24637</td>\n",
       "      <td>2016-05-18</td>\n",
       "      <td>2016-05-18</td>\n",
       "      <td>0</td>\n",
       "      <td>NaN</td>\n",
       "      <td>NaN</td>\n",
       "      <td>NaN</td>\n",
       "      <td>1.06</td>\n",
       "      <td>NaN</td>\n",
       "      <td>...</td>\n",
       "      <td>513.0</td>\n",
       "      <td>NaN</td>\n",
       "      <td>0.53</td>\n",
       "      <td>17.933</td>\n",
       "      <td>4.913</td>\n",
       "      <td>NaN</td>\n",
       "      <td>NaN</td>\n",
       "      <td>33</td>\n",
       "      <td>NaN</td>\n",
       "      <td>14</td>\n",
       "    </tr>\n",
       "    <tr>\n",
       "      <th>2</th>\n",
       "      <td>0</td>\n",
       "      <td>24641</td>\n",
       "      <td>2016-05-18</td>\n",
       "      <td>2016-05-19</td>\n",
       "      <td>0</td>\n",
       "      <td>NaN</td>\n",
       "      <td>NaN</td>\n",
       "      <td>NaN</td>\n",
       "      <td>1.05</td>\n",
       "      <td>NaN</td>\n",
       "      <td>...</td>\n",
       "      <td>382.0</td>\n",
       "      <td>NaN</td>\n",
       "      <td>0.60</td>\n",
       "      <td>3.993</td>\n",
       "      <td>0.760</td>\n",
       "      <td>NaN</td>\n",
       "      <td>NaN</td>\n",
       "      <td>10</td>\n",
       "      <td>NaN</td>\n",
       "      <td>19</td>\n",
       "    </tr>\n",
       "    <tr>\n",
       "      <th>3</th>\n",
       "      <td>0</td>\n",
       "      <td>24642</td>\n",
       "      <td>2016-05-18</td>\n",
       "      <td>2016-05-18</td>\n",
       "      <td>0</td>\n",
       "      <td>NaN</td>\n",
       "      <td>NaN</td>\n",
       "      <td>NaN</td>\n",
       "      <td>1.01</td>\n",
       "      <td>NaN</td>\n",
       "      <td>...</td>\n",
       "      <td>203.0</td>\n",
       "      <td>NaN</td>\n",
       "      <td>0.18</td>\n",
       "      <td>3.220</td>\n",
       "      <td>0.660</td>\n",
       "      <td>NaN</td>\n",
       "      <td>NaN</td>\n",
       "      <td>8</td>\n",
       "      <td>NaN</td>\n",
       "      <td>16</td>\n",
       "    </tr>\n",
       "    <tr>\n",
       "      <th>4</th>\n",
       "      <td>1</td>\n",
       "      <td>24644</td>\n",
       "      <td>2016-05-18</td>\n",
       "      <td>2016-05-19</td>\n",
       "      <td>0</td>\n",
       "      <td>NaN</td>\n",
       "      <td>NaN</td>\n",
       "      <td>NaN</td>\n",
       "      <td>1.00</td>\n",
       "      <td>NaN</td>\n",
       "      <td>...</td>\n",
       "      <td>84.0</td>\n",
       "      <td>NaN</td>\n",
       "      <td>NaN</td>\n",
       "      <td>0.013</td>\n",
       "      <td>NaN</td>\n",
       "      <td>NaN</td>\n",
       "      <td>NaN</td>\n",
       "      <td>1</td>\n",
       "      <td>NaN</td>\n",
       "      <td>21</td>\n",
       "    </tr>\n",
       "  </tbody>\n",
       "</table>\n",
       "<p>5 rows × 51 columns</p>\n",
       "</div>"
      ],
      "text/plain": [
       "   label  sampleid           d     arrival  iforderpv_24h  decisionhabit_user  \\\n",
       "0      0     24636  2016-05-18  2016-05-18              0                 NaN   \n",
       "1      1     24637  2016-05-18  2016-05-18              0                 NaN   \n",
       "2      0     24641  2016-05-18  2016-05-19              0                 NaN   \n",
       "3      0     24642  2016-05-18  2016-05-18              0                 NaN   \n",
       "4      1     24644  2016-05-18  2016-05-19              0                 NaN   \n",
       "\n",
       "   historyvisit_7ordernum  historyvisit_totalordernum  hotelcr  \\\n",
       "0                     NaN                         NaN     1.04   \n",
       "1                     NaN                         NaN     1.06   \n",
       "2                     NaN                         NaN     1.05   \n",
       "3                     NaN                         NaN     1.01   \n",
       "4                     NaN                         NaN     1.00   \n",
       "\n",
       "   ordercanceledprecent  ...  lowestprice_pre2  lasthtlordergap  \\\n",
       "0                   NaN  ...             615.0              NaN   \n",
       "1                   NaN  ...             513.0              NaN   \n",
       "2                   NaN  ...             382.0              NaN   \n",
       "3                   NaN  ...             203.0              NaN   \n",
       "4                   NaN  ...              84.0              NaN   \n",
       "\n",
       "   businessrate_pre2  cityuvs  cityorders  lastpvgap  cr  sid  \\\n",
       "0               0.29   12.880       3.147        NaN NaN    7   \n",
       "1               0.53   17.933       4.913        NaN NaN   33   \n",
       "2               0.60    3.993       0.760        NaN NaN   10   \n",
       "3               0.18    3.220       0.660        NaN NaN    8   \n",
       "4                NaN    0.013         NaN        NaN NaN    1   \n",
       "\n",
       "   visitnum_oneyear   h  \n",
       "0               NaN  12  \n",
       "1               NaN  14  \n",
       "2               NaN  19  \n",
       "3               NaN  16  \n",
       "4               NaN  21  \n",
       "\n",
       "[5 rows x 51 columns]"
      ]
     },
     "execution_count": 7,
     "metadata": {},
     "output_type": "execute_result"
    }
   ],
   "source": [
    "data.head()"
   ]
  },
  {
   "cell_type": "markdown",
   "metadata": {},
   "source": [
    "### 3 - 数据查看"
   ]
  },
  {
   "cell_type": "markdown",
   "metadata": {},
   "source": [
    "查看数据尾部5行"
   ]
  },
  {
   "cell_type": "code",
   "execution_count": 8,
   "metadata": {},
   "outputs": [
    {
     "data": {
      "text/html": [
       "<div>\n",
       "<style scoped>\n",
       "    .dataframe tbody tr th:only-of-type {\n",
       "        vertical-align: middle;\n",
       "    }\n",
       "\n",
       "    .dataframe tbody tr th {\n",
       "        vertical-align: top;\n",
       "    }\n",
       "\n",
       "    .dataframe thead th {\n",
       "        text-align: right;\n",
       "    }\n",
       "</style>\n",
       "<table border=\"1\" class=\"dataframe\">\n",
       "  <thead>\n",
       "    <tr style=\"text-align: right;\">\n",
       "      <th></th>\n",
       "      <th>label</th>\n",
       "      <th>sampleid</th>\n",
       "      <th>d</th>\n",
       "      <th>arrival</th>\n",
       "      <th>iforderpv_24h</th>\n",
       "      <th>decisionhabit_user</th>\n",
       "      <th>historyvisit_7ordernum</th>\n",
       "      <th>historyvisit_totalordernum</th>\n",
       "      <th>hotelcr</th>\n",
       "      <th>ordercanceledprecent</th>\n",
       "      <th>...</th>\n",
       "      <th>lowestprice_pre2</th>\n",
       "      <th>lasthtlordergap</th>\n",
       "      <th>businessrate_pre2</th>\n",
       "      <th>cityuvs</th>\n",
       "      <th>cityorders</th>\n",
       "      <th>lastpvgap</th>\n",
       "      <th>cr</th>\n",
       "      <th>sid</th>\n",
       "      <th>visitnum_oneyear</th>\n",
       "      <th>h</th>\n",
       "    </tr>\n",
       "  </thead>\n",
       "  <tbody>\n",
       "    <tr>\n",
       "      <th>689940</th>\n",
       "      <td>1</td>\n",
       "      <td>2238419</td>\n",
       "      <td>2016-05-15</td>\n",
       "      <td>2016-05-17</td>\n",
       "      <td>1</td>\n",
       "      <td>19.0</td>\n",
       "      <td>NaN</td>\n",
       "      <td>NaN</td>\n",
       "      <td>1.06</td>\n",
       "      <td>NaN</td>\n",
       "      <td>...</td>\n",
       "      <td>406.0</td>\n",
       "      <td>NaN</td>\n",
       "      <td>0.48</td>\n",
       "      <td>13.573</td>\n",
       "      <td>1.660</td>\n",
       "      <td>1034.0</td>\n",
       "      <td>1.0</td>\n",
       "      <td>5</td>\n",
       "      <td>119.0</td>\n",
       "      <td>18</td>\n",
       "    </tr>\n",
       "    <tr>\n",
       "      <th>689941</th>\n",
       "      <td>1</td>\n",
       "      <td>2238421</td>\n",
       "      <td>2016-05-15</td>\n",
       "      <td>2016-05-15</td>\n",
       "      <td>1</td>\n",
       "      <td>10.0</td>\n",
       "      <td>3.0</td>\n",
       "      <td>3.0</td>\n",
       "      <td>1.06</td>\n",
       "      <td>0.33</td>\n",
       "      <td>...</td>\n",
       "      <td>199.0</td>\n",
       "      <td>713.0</td>\n",
       "      <td>0.51</td>\n",
       "      <td>2.880</td>\n",
       "      <td>0.513</td>\n",
       "      <td>179.0</td>\n",
       "      <td>2.0</td>\n",
       "      <td>15</td>\n",
       "      <td>1472.0</td>\n",
       "      <td>12</td>\n",
       "    </tr>\n",
       "    <tr>\n",
       "      <th>689942</th>\n",
       "      <td>0</td>\n",
       "      <td>2238422</td>\n",
       "      <td>2016-05-15</td>\n",
       "      <td>2016-05-17</td>\n",
       "      <td>0</td>\n",
       "      <td>NaN</td>\n",
       "      <td>NaN</td>\n",
       "      <td>NaN</td>\n",
       "      <td>1.07</td>\n",
       "      <td>NaN</td>\n",
       "      <td>...</td>\n",
       "      <td>544.0</td>\n",
       "      <td>NaN</td>\n",
       "      <td>0.45</td>\n",
       "      <td>15.293</td>\n",
       "      <td>2.067</td>\n",
       "      <td>0.0</td>\n",
       "      <td>NaN</td>\n",
       "      <td>8</td>\n",
       "      <td>107.0</td>\n",
       "      <td>0</td>\n",
       "    </tr>\n",
       "    <tr>\n",
       "      <th>689943</th>\n",
       "      <td>0</td>\n",
       "      <td>2238425</td>\n",
       "      <td>2016-05-15</td>\n",
       "      <td>2016-05-17</td>\n",
       "      <td>0</td>\n",
       "      <td>NaN</td>\n",
       "      <td>NaN</td>\n",
       "      <td>NaN</td>\n",
       "      <td>1.04</td>\n",
       "      <td>NaN</td>\n",
       "      <td>...</td>\n",
       "      <td>156.0</td>\n",
       "      <td>NaN</td>\n",
       "      <td>0.29</td>\n",
       "      <td>2.467</td>\n",
       "      <td>0.333</td>\n",
       "      <td>NaN</td>\n",
       "      <td>NaN</td>\n",
       "      <td>4</td>\n",
       "      <td>NaN</td>\n",
       "      <td>0</td>\n",
       "    </tr>\n",
       "    <tr>\n",
       "      <th>689944</th>\n",
       "      <td>0</td>\n",
       "      <td>2238426</td>\n",
       "      <td>2016-05-15</td>\n",
       "      <td>2016-05-15</td>\n",
       "      <td>0</td>\n",
       "      <td>NaN</td>\n",
       "      <td>NaN</td>\n",
       "      <td>NaN</td>\n",
       "      <td>1.02</td>\n",
       "      <td>NaN</td>\n",
       "      <td>...</td>\n",
       "      <td>275.0</td>\n",
       "      <td>NaN</td>\n",
       "      <td>NaN</td>\n",
       "      <td>12.600</td>\n",
       "      <td>2.653</td>\n",
       "      <td>NaN</td>\n",
       "      <td>NaN</td>\n",
       "      <td>2</td>\n",
       "      <td>NaN</td>\n",
       "      <td>11</td>\n",
       "    </tr>\n",
       "  </tbody>\n",
       "</table>\n",
       "<p>5 rows × 51 columns</p>\n",
       "</div>"
      ],
      "text/plain": [
       "        label  sampleid           d     arrival  iforderpv_24h  \\\n",
       "689940      1   2238419  2016-05-15  2016-05-17              1   \n",
       "689941      1   2238421  2016-05-15  2016-05-15              1   \n",
       "689942      0   2238422  2016-05-15  2016-05-17              0   \n",
       "689943      0   2238425  2016-05-15  2016-05-17              0   \n",
       "689944      0   2238426  2016-05-15  2016-05-15              0   \n",
       "\n",
       "        decisionhabit_user  historyvisit_7ordernum  \\\n",
       "689940                19.0                     NaN   \n",
       "689941                10.0                     3.0   \n",
       "689942                 NaN                     NaN   \n",
       "689943                 NaN                     NaN   \n",
       "689944                 NaN                     NaN   \n",
       "\n",
       "        historyvisit_totalordernum  hotelcr  ordercanceledprecent  ...  \\\n",
       "689940                         NaN     1.06                   NaN  ...   \n",
       "689941                         3.0     1.06                  0.33  ...   \n",
       "689942                         NaN     1.07                   NaN  ...   \n",
       "689943                         NaN     1.04                   NaN  ...   \n",
       "689944                         NaN     1.02                   NaN  ...   \n",
       "\n",
       "        lowestprice_pre2  lasthtlordergap  businessrate_pre2  cityuvs  \\\n",
       "689940             406.0              NaN               0.48   13.573   \n",
       "689941             199.0            713.0               0.51    2.880   \n",
       "689942             544.0              NaN               0.45   15.293   \n",
       "689943             156.0              NaN               0.29    2.467   \n",
       "689944             275.0              NaN                NaN   12.600   \n",
       "\n",
       "        cityorders  lastpvgap   cr  sid  visitnum_oneyear   h  \n",
       "689940       1.660     1034.0  1.0    5             119.0  18  \n",
       "689941       0.513      179.0  2.0   15            1472.0  12  \n",
       "689942       2.067        0.0  NaN    8             107.0   0  \n",
       "689943       0.333        NaN  NaN    4               NaN   0  \n",
       "689944       2.653        NaN  NaN    2               NaN  11  \n",
       "\n",
       "[5 rows x 51 columns]"
      ]
     },
     "execution_count": 8,
     "metadata": {},
     "output_type": "execute_result"
    }
   ],
   "source": [
    "data.tail()"
   ]
  },
  {
   "cell_type": "markdown",
   "metadata": {},
   "source": [
    "### 4 - 数据抽样"
   ]
  },
  {
   "cell_type": "markdown",
   "metadata": {},
   "source": [
    "随机查看 5 条数据样本"
   ]
  },
  {
   "cell_type": "code",
   "execution_count": 9,
   "metadata": {},
   "outputs": [
    {
     "data": {
      "text/html": [
       "<div>\n",
       "<style scoped>\n",
       "    .dataframe tbody tr th:only-of-type {\n",
       "        vertical-align: middle;\n",
       "    }\n",
       "\n",
       "    .dataframe tbody tr th {\n",
       "        vertical-align: top;\n",
       "    }\n",
       "\n",
       "    .dataframe thead th {\n",
       "        text-align: right;\n",
       "    }\n",
       "</style>\n",
       "<table border=\"1\" class=\"dataframe\">\n",
       "  <thead>\n",
       "    <tr style=\"text-align: right;\">\n",
       "      <th></th>\n",
       "      <th>label</th>\n",
       "      <th>sampleid</th>\n",
       "      <th>d</th>\n",
       "      <th>arrival</th>\n",
       "      <th>iforderpv_24h</th>\n",
       "      <th>decisionhabit_user</th>\n",
       "      <th>historyvisit_7ordernum</th>\n",
       "      <th>historyvisit_totalordernum</th>\n",
       "      <th>hotelcr</th>\n",
       "      <th>ordercanceledprecent</th>\n",
       "      <th>...</th>\n",
       "      <th>lowestprice_pre2</th>\n",
       "      <th>lasthtlordergap</th>\n",
       "      <th>businessrate_pre2</th>\n",
       "      <th>cityuvs</th>\n",
       "      <th>cityorders</th>\n",
       "      <th>lastpvgap</th>\n",
       "      <th>cr</th>\n",
       "      <th>sid</th>\n",
       "      <th>visitnum_oneyear</th>\n",
       "      <th>h</th>\n",
       "    </tr>\n",
       "  </thead>\n",
       "  <tbody>\n",
       "    <tr>\n",
       "      <th>623955</th>\n",
       "      <td>0</td>\n",
       "      <td>1064633</td>\n",
       "      <td>2016-05-20</td>\n",
       "      <td>2016-05-20</td>\n",
       "      <td>0</td>\n",
       "      <td>NaN</td>\n",
       "      <td>NaN</td>\n",
       "      <td>NaN</td>\n",
       "      <td>1.04</td>\n",
       "      <td>NaN</td>\n",
       "      <td>...</td>\n",
       "      <td>218.0</td>\n",
       "      <td>NaN</td>\n",
       "      <td>0.48</td>\n",
       "      <td>3.507</td>\n",
       "      <td>0.760</td>\n",
       "      <td>5050.0</td>\n",
       "      <td>NaN</td>\n",
       "      <td>151</td>\n",
       "      <td>667.0</td>\n",
       "      <td>21</td>\n",
       "    </tr>\n",
       "    <tr>\n",
       "      <th>612541</th>\n",
       "      <td>1</td>\n",
       "      <td>1045713</td>\n",
       "      <td>2016-05-18</td>\n",
       "      <td>2016-05-18</td>\n",
       "      <td>0</td>\n",
       "      <td>8.0</td>\n",
       "      <td>1.0</td>\n",
       "      <td>1.0</td>\n",
       "      <td>1.03</td>\n",
       "      <td>0.00</td>\n",
       "      <td>...</td>\n",
       "      <td>215.0</td>\n",
       "      <td>784.0</td>\n",
       "      <td>0.37</td>\n",
       "      <td>13.467</td>\n",
       "      <td>3.780</td>\n",
       "      <td>193.0</td>\n",
       "      <td>1.50</td>\n",
       "      <td>23</td>\n",
       "      <td>347.0</td>\n",
       "      <td>15</td>\n",
       "    </tr>\n",
       "    <tr>\n",
       "      <th>572143</th>\n",
       "      <td>1</td>\n",
       "      <td>978567</td>\n",
       "      <td>2016-05-17</td>\n",
       "      <td>2016-06-08</td>\n",
       "      <td>0</td>\n",
       "      <td>6.0</td>\n",
       "      <td>1.0</td>\n",
       "      <td>20.0</td>\n",
       "      <td>1.08</td>\n",
       "      <td>0.45</td>\n",
       "      <td>...</td>\n",
       "      <td>192.0</td>\n",
       "      <td>2046.0</td>\n",
       "      <td>0.39</td>\n",
       "      <td>0.200</td>\n",
       "      <td>0.033</td>\n",
       "      <td>1593.0</td>\n",
       "      <td>1.03</td>\n",
       "      <td>1730</td>\n",
       "      <td>10894.0</td>\n",
       "      <td>15</td>\n",
       "    </tr>\n",
       "    <tr>\n",
       "      <th>79661</th>\n",
       "      <td>0</td>\n",
       "      <td>157767</td>\n",
       "      <td>2016-05-17</td>\n",
       "      <td>2016-05-18</td>\n",
       "      <td>1</td>\n",
       "      <td>3.0</td>\n",
       "      <td>NaN</td>\n",
       "      <td>1.0</td>\n",
       "      <td>1.08</td>\n",
       "      <td>1.00</td>\n",
       "      <td>...</td>\n",
       "      <td>117.0</td>\n",
       "      <td>504522.0</td>\n",
       "      <td>0.41</td>\n",
       "      <td>28.427</td>\n",
       "      <td>4.533</td>\n",
       "      <td>23337.0</td>\n",
       "      <td>1.00</td>\n",
       "      <td>43</td>\n",
       "      <td>585.0</td>\n",
       "      <td>19</td>\n",
       "    </tr>\n",
       "    <tr>\n",
       "      <th>534371</th>\n",
       "      <td>0</td>\n",
       "      <td>915738</td>\n",
       "      <td>2016-05-18</td>\n",
       "      <td>2016-05-18</td>\n",
       "      <td>1</td>\n",
       "      <td>NaN</td>\n",
       "      <td>NaN</td>\n",
       "      <td>NaN</td>\n",
       "      <td>1.14</td>\n",
       "      <td>0.00</td>\n",
       "      <td>...</td>\n",
       "      <td>268.0</td>\n",
       "      <td>460.0</td>\n",
       "      <td>0.52</td>\n",
       "      <td>9.200</td>\n",
       "      <td>2.300</td>\n",
       "      <td>455.0</td>\n",
       "      <td>NaN</td>\n",
       "      <td>13</td>\n",
       "      <td>277.0</td>\n",
       "      <td>20</td>\n",
       "    </tr>\n",
       "  </tbody>\n",
       "</table>\n",
       "<p>5 rows × 51 columns</p>\n",
       "</div>"
      ],
      "text/plain": [
       "        label  sampleid           d     arrival  iforderpv_24h  \\\n",
       "623955      0   1064633  2016-05-20  2016-05-20              0   \n",
       "612541      1   1045713  2016-05-18  2016-05-18              0   \n",
       "572143      1    978567  2016-05-17  2016-06-08              0   \n",
       "79661       0    157767  2016-05-17  2016-05-18              1   \n",
       "534371      0    915738  2016-05-18  2016-05-18              1   \n",
       "\n",
       "        decisionhabit_user  historyvisit_7ordernum  \\\n",
       "623955                 NaN                     NaN   \n",
       "612541                 8.0                     1.0   \n",
       "572143                 6.0                     1.0   \n",
       "79661                  3.0                     NaN   \n",
       "534371                 NaN                     NaN   \n",
       "\n",
       "        historyvisit_totalordernum  hotelcr  ordercanceledprecent  ...  \\\n",
       "623955                         NaN     1.04                   NaN  ...   \n",
       "612541                         1.0     1.03                  0.00  ...   \n",
       "572143                        20.0     1.08                  0.45  ...   \n",
       "79661                          1.0     1.08                  1.00  ...   \n",
       "534371                         NaN     1.14                  0.00  ...   \n",
       "\n",
       "        lowestprice_pre2  lasthtlordergap  businessrate_pre2  cityuvs  \\\n",
       "623955             218.0              NaN               0.48    3.507   \n",
       "612541             215.0            784.0               0.37   13.467   \n",
       "572143             192.0           2046.0               0.39    0.200   \n",
       "79661              117.0         504522.0               0.41   28.427   \n",
       "534371             268.0            460.0               0.52    9.200   \n",
       "\n",
       "        cityorders  lastpvgap    cr   sid  visitnum_oneyear   h  \n",
       "623955       0.760     5050.0   NaN   151             667.0  21  \n",
       "612541       3.780      193.0  1.50    23             347.0  15  \n",
       "572143       0.033     1593.0  1.03  1730           10894.0  15  \n",
       "79661        4.533    23337.0  1.00    43             585.0  19  \n",
       "534371       2.300      455.0   NaN    13             277.0  20  \n",
       "\n",
       "[5 rows x 51 columns]"
      ]
     },
     "execution_count": 9,
     "metadata": {},
     "output_type": "execute_result"
    }
   ],
   "source": [
    "data.sample(5)"
   ]
  },
  {
   "cell_type": "markdown",
   "metadata": {},
   "source": [
    "### 5 - 数据查看\n",
    "\n",
    "\n",
    "查看数据形状"
   ]
  },
  {
   "cell_type": "code",
   "execution_count": 10,
   "metadata": {},
   "outputs": [
    {
     "data": {
      "text/plain": [
       "(689945, 51)"
      ]
     },
     "execution_count": 10,
     "metadata": {},
     "output_type": "execute_result"
    }
   ],
   "source": [
    "data.shape"
   ]
  },
  {
   "cell_type": "markdown",
   "metadata": {},
   "source": [
    "### 6 - 数据检查"
   ]
  },
  {
   "cell_type": "markdown",
   "metadata": {},
   "source": [
    "检查数据类型"
   ]
  },
  {
   "cell_type": "code",
   "execution_count": 13,
   "metadata": {},
   "outputs": [
    {
     "data": {
      "text/plain": [
       "label                                 int64\n",
       "sampleid                              int64\n",
       "d                                    object\n",
       "arrival                              object\n",
       "iforderpv_24h                         int64\n",
       "decisionhabit_user                  float64\n",
       "historyvisit_7ordernum              float64\n",
       "historyvisit_totalordernum          float64\n",
       "hotelcr                             float64\n",
       "ordercanceledprecent                float64\n",
       "landhalfhours                       float64\n",
       "ordercanncelednum                   float64\n",
       "commentnums                         float64\n",
       "starprefer                          float64\n",
       "novoters                            float64\n",
       "consuming_capacity                  float64\n",
       "historyvisit_avghotelnum            float64\n",
       "cancelrate                          float64\n",
       "historyvisit_visit_detailpagenum    float64\n",
       "delta_price1                        float64\n",
       "price_sensitive                     float64\n",
       "hoteluv                             float64\n",
       "businessrate_pre                    float64\n",
       "ordernum_oneyear                    float64\n",
       "cr_pre                              float64\n",
       "avgprice                            float64\n",
       "lowestprice                         float64\n",
       "firstorder_bu                       float64\n",
       "customereval_pre2                   float64\n",
       "delta_price2                        float64\n",
       "commentnums_pre                     float64\n",
       "customer_value_profit               float64\n",
       "commentnums_pre2                    float64\n",
       "cancelrate_pre                      float64\n",
       "novoters_pre2                       float64\n",
       "novoters_pre                        float64\n",
       "ctrip_profits                       float64\n",
       "deltaprice_pre2_t1                  float64\n",
       "lowestprice_pre                     float64\n",
       "uv_pre                              float64\n",
       "uv_pre2                             float64\n",
       "lowestprice_pre2                    float64\n",
       "lasthtlordergap                     float64\n",
       "businessrate_pre2                   float64\n",
       "cityuvs                             float64\n",
       "cityorders                          float64\n",
       "lastpvgap                           float64\n",
       "cr                                  float64\n",
       "sid                                   int64\n",
       "visitnum_oneyear                    float64\n",
       "h                                     int64\n",
       "dtype: object"
      ]
     },
     "execution_count": 13,
     "metadata": {},
     "output_type": "execute_result"
    }
   ],
   "source": [
    "data.dtypes"
   ]
  },
  {
   "cell_type": "markdown",
   "metadata": {},
   "source": [
    "### 7 - 数据查看\n",
    "\n",
    "查看数据基本信息"
   ]
  },
  {
   "cell_type": "code",
   "execution_count": 12,
   "metadata": {},
   "outputs": [
    {
     "name": "stdout",
     "output_type": "stream",
     "text": [
      "<class 'pandas.core.frame.DataFrame'>\n",
      "RangeIndex: 689945 entries, 0 to 689944\n",
      "Data columns (total 51 columns):\n",
      " #   Column                            Non-Null Count   Dtype  \n",
      "---  ------                            --------------   -----  \n",
      " 0   label                             689945 non-null  int64  \n",
      " 1   sampleid                          689945 non-null  int64  \n",
      " 2   d                                 689945 non-null  object \n",
      " 3   arrival                           689945 non-null  object \n",
      " 4   iforderpv_24h                     689945 non-null  int64  \n",
      " 5   decisionhabit_user                385450 non-null  float64\n",
      " 6   historyvisit_7ordernum            82915 non-null   float64\n",
      " 7   historyvisit_totalordernum        386525 non-null  float64\n",
      " 8   hotelcr                           689148 non-null  float64\n",
      " 9   ordercanceledprecent              447831 non-null  float64\n",
      " 10  landhalfhours                     661312 non-null  float64\n",
      " 11  ordercanncelednum                 447831 non-null  float64\n",
      " 12  commentnums                       622029 non-null  float64\n",
      " 13  starprefer                        464892 non-null  float64\n",
      " 14  novoters                          672918 non-null  float64\n",
      " 15  consuming_capacity                463837 non-null  float64\n",
      " 16  historyvisit_avghotelnum          387876 non-null  float64\n",
      " 17  cancelrate                        678227 non-null  float64\n",
      " 18  historyvisit_visit_detailpagenum  307234 non-null  float64\n",
      " 19  delta_price1                      437146 non-null  float64\n",
      " 20  price_sensitive                   463837 non-null  float64\n",
      " 21  hoteluv                           689148 non-null  float64\n",
      " 22  businessrate_pre                  483896 non-null  float64\n",
      " 23  ordernum_oneyear                  447831 non-null  float64\n",
      " 24  cr_pre                            660548 non-null  float64\n",
      " 25  avgprice                          457261 non-null  float64\n",
      " 26  lowestprice                       687931 non-null  float64\n",
      " 27  firstorder_bu                     376993 non-null  float64\n",
      " 28  customereval_pre2                 661312 non-null  float64\n",
      " 29  delta_price2                      437750 non-null  float64\n",
      " 30  commentnums_pre                   598368 non-null  float64\n",
      " 31  customer_value_profit             439123 non-null  float64\n",
      " 32  commentnums_pre2                  648457 non-null  float64\n",
      " 33  cancelrate_pre                    653015 non-null  float64\n",
      " 34  novoters_pre2                     657616 non-null  float64\n",
      " 35  novoters_pre                      648956 non-null  float64\n",
      " 36  ctrip_profits                     445187 non-null  float64\n",
      " 37  deltaprice_pre2_t1                543180 non-null  float64\n",
      " 38  lowestprice_pre                   659689 non-null  float64\n",
      " 39  uv_pre                            660548 non-null  float64\n",
      " 40  uv_pre2                           661189 non-null  float64\n",
      " 41  lowestprice_pre2                  660664 non-null  float64\n",
      " 42  lasthtlordergap                   447831 non-null  float64\n",
      " 43  businessrate_pre2                 602960 non-null  float64\n",
      " 44  cityuvs                           682274 non-null  float64\n",
      " 45  cityorders                        651263 non-null  float64\n",
      " 46  lastpvgap                         592818 non-null  float64\n",
      " 47  cr                                457896 non-null  float64\n",
      " 48  sid                               689945 non-null  int64  \n",
      " 49  visitnum_oneyear                  592910 non-null  float64\n",
      " 50  h                                 689945 non-null  int64  \n",
      "dtypes: float64(44), int64(5), object(2)\n",
      "memory usage: 268.5+ MB\n"
     ]
    }
   ],
   "source": [
    "data.info()"
   ]
  },
  {
   "cell_type": "markdown",
   "metadata": {},
   "source": [
    "### 8 - 数据查看\n",
    "\n",
    "查看数据的其他的一些信息（列索引与数据大小）"
   ]
  },
  {
   "cell_type": "code",
   "execution_count": 3,
   "metadata": {},
   "outputs": [
    {
     "data": {
      "text/plain": [
       "Index(['label', 'sampleid', 'd', 'arrival', 'iforderpv_24h',\n",
       "       'decisionhabit_user', 'historyvisit_7ordernum',\n",
       "       'historyvisit_totalordernum', 'hotelcr', 'ordercanceledprecent',\n",
       "       'landhalfhours', 'ordercanncelednum', 'commentnums', 'starprefer',\n",
       "       'novoters', 'consuming_capacity', 'historyvisit_avghotelnum',\n",
       "       'cancelrate', 'historyvisit_visit_detailpagenum', 'delta_price1',\n",
       "       'price_sensitive', 'hoteluv', 'businessrate_pre', 'ordernum_oneyear',\n",
       "       'cr_pre', 'avgprice', 'lowestprice', 'firstorder_bu',\n",
       "       'customereval_pre2', 'delta_price2', 'commentnums_pre',\n",
       "       'customer_value_profit', 'commentnums_pre2', 'cancelrate_pre',\n",
       "       'novoters_pre2', 'novoters_pre', 'ctrip_profits', 'deltaprice_pre2_t1',\n",
       "       'lowestprice_pre', 'uv_pre', 'uv_pre2', 'lowestprice_pre2',\n",
       "       'lasthtlordergap', 'businessrate_pre2', 'cityuvs', 'cityorders',\n",
       "       'lastpvgap', 'cr', 'sid', 'visitnum_oneyear', 'h'],\n",
       "      dtype='object')"
      ]
     },
     "execution_count": 3,
     "metadata": {},
     "output_type": "execute_result"
    }
   ],
   "source": [
    "data.columns"
   ]
  },
  {
   "cell_type": "code",
   "execution_count": 14,
   "metadata": {},
   "outputs": [
    {
     "data": {
      "text/plain": [
       "35187195"
      ]
     },
     "execution_count": 14,
     "metadata": {},
     "output_type": "execute_result"
    }
   ],
   "source": [
    "data.size"
   ]
  },
  {
   "cell_type": "markdown",
   "metadata": {},
   "source": [
    "### 9 - 数据统计\n",
    "\n",
    "查看数据的描述性统计"
   ]
  },
  {
   "cell_type": "code",
   "execution_count": 15,
   "metadata": {},
   "outputs": [
    {
     "data": {
      "text/html": [
       "<div>\n",
       "<style scoped>\n",
       "    .dataframe tbody tr th:only-of-type {\n",
       "        vertical-align: middle;\n",
       "    }\n",
       "\n",
       "    .dataframe tbody tr th {\n",
       "        vertical-align: top;\n",
       "    }\n",
       "\n",
       "    .dataframe thead th {\n",
       "        text-align: right;\n",
       "    }\n",
       "</style>\n",
       "<table border=\"1\" class=\"dataframe\">\n",
       "  <thead>\n",
       "    <tr style=\"text-align: right;\">\n",
       "      <th></th>\n",
       "      <th>label</th>\n",
       "      <th>sampleid</th>\n",
       "      <th>iforderpv_24h</th>\n",
       "      <th>decisionhabit_user</th>\n",
       "      <th>historyvisit_7ordernum</th>\n",
       "      <th>historyvisit_totalordernum</th>\n",
       "      <th>hotelcr</th>\n",
       "      <th>ordercanceledprecent</th>\n",
       "      <th>landhalfhours</th>\n",
       "      <th>ordercanncelednum</th>\n",
       "      <th>...</th>\n",
       "      <th>lowestprice_pre2</th>\n",
       "      <th>lasthtlordergap</th>\n",
       "      <th>businessrate_pre2</th>\n",
       "      <th>cityuvs</th>\n",
       "      <th>cityorders</th>\n",
       "      <th>lastpvgap</th>\n",
       "      <th>cr</th>\n",
       "      <th>sid</th>\n",
       "      <th>visitnum_oneyear</th>\n",
       "      <th>h</th>\n",
       "    </tr>\n",
       "  </thead>\n",
       "  <tbody>\n",
       "    <tr>\n",
       "      <th>count</th>\n",
       "      <td>689945.000000</td>\n",
       "      <td>6.899450e+05</td>\n",
       "      <td>689945.000000</td>\n",
       "      <td>385450.000000</td>\n",
       "      <td>82915.000000</td>\n",
       "      <td>386525.000000</td>\n",
       "      <td>689148.000000</td>\n",
       "      <td>447831.000000</td>\n",
       "      <td>661312.000000</td>\n",
       "      <td>447831.000000</td>\n",
       "      <td>...</td>\n",
       "      <td>660664.000000</td>\n",
       "      <td>447831.000000</td>\n",
       "      <td>602960.000000</td>\n",
       "      <td>682274.000000</td>\n",
       "      <td>651263.000000</td>\n",
       "      <td>592818.000000</td>\n",
       "      <td>457896.000000</td>\n",
       "      <td>689945.000000</td>\n",
       "      <td>5.929100e+05</td>\n",
       "      <td>689945.000000</td>\n",
       "    </tr>\n",
       "    <tr>\n",
       "      <th>mean</th>\n",
       "      <td>0.274452</td>\n",
       "      <td>6.285402e+05</td>\n",
       "      <td>0.193737</td>\n",
       "      <td>5.317048</td>\n",
       "      <td>1.856094</td>\n",
       "      <td>11.710487</td>\n",
       "      <td>1.060996</td>\n",
       "      <td>0.342119</td>\n",
       "      <td>6.086366</td>\n",
       "      <td>154.179369</td>\n",
       "      <td>...</td>\n",
       "      <td>318.541812</td>\n",
       "      <td>101830.919400</td>\n",
       "      <td>0.368237</td>\n",
       "      <td>10.648278</td>\n",
       "      <td>2.253250</td>\n",
       "      <td>12049.409382</td>\n",
       "      <td>1.137476</td>\n",
       "      <td>153.702414</td>\n",
       "      <td>1.855185e+04</td>\n",
       "      <td>14.462315</td>\n",
       "    </tr>\n",
       "    <tr>\n",
       "      <th>std</th>\n",
       "      <td>0.446238</td>\n",
       "      <td>4.146815e+05</td>\n",
       "      <td>0.395226</td>\n",
       "      <td>38.524483</td>\n",
       "      <td>2.103862</td>\n",
       "      <td>17.251429</td>\n",
       "      <td>0.045264</td>\n",
       "      <td>0.354210</td>\n",
       "      <td>12.413225</td>\n",
       "      <td>398.456986</td>\n",
       "      <td>...</td>\n",
       "      <td>351.913035</td>\n",
       "      <td>122784.313864</td>\n",
       "      <td>0.219945</td>\n",
       "      <td>15.696682</td>\n",
       "      <td>3.538453</td>\n",
       "      <td>25601.374138</td>\n",
       "      <td>0.204789</td>\n",
       "      <td>277.807697</td>\n",
       "      <td>2.288603e+05</td>\n",
       "      <td>6.301575</td>\n",
       "    </tr>\n",
       "    <tr>\n",
       "      <th>min</th>\n",
       "      <td>0.000000</td>\n",
       "      <td>2.463600e+04</td>\n",
       "      <td>0.000000</td>\n",
       "      <td>0.000000</td>\n",
       "      <td>1.000000</td>\n",
       "      <td>1.000000</td>\n",
       "      <td>1.000000</td>\n",
       "      <td>0.000000</td>\n",
       "      <td>0.000000</td>\n",
       "      <td>0.000000</td>\n",
       "      <td>...</td>\n",
       "      <td>1.000000</td>\n",
       "      <td>0.000000</td>\n",
       "      <td>0.000000</td>\n",
       "      <td>0.007000</td>\n",
       "      <td>0.007000</td>\n",
       "      <td>0.000000</td>\n",
       "      <td>1.000000</td>\n",
       "      <td>0.000000</td>\n",
       "      <td>1.000000e+00</td>\n",
       "      <td>0.000000</td>\n",
       "    </tr>\n",
       "    <tr>\n",
       "      <th>25%</th>\n",
       "      <td>0.000000</td>\n",
       "      <td>3.123200e+05</td>\n",
       "      <td>0.000000</td>\n",
       "      <td>2.000000</td>\n",
       "      <td>1.000000</td>\n",
       "      <td>2.000000</td>\n",
       "      <td>1.030000</td>\n",
       "      <td>0.000000</td>\n",
       "      <td>0.000000</td>\n",
       "      <td>0.000000</td>\n",
       "      <td>...</td>\n",
       "      <td>145.000000</td>\n",
       "      <td>14999.000000</td>\n",
       "      <td>0.170000</td>\n",
       "      <td>0.827000</td>\n",
       "      <td>0.127000</td>\n",
       "      <td>551.000000</td>\n",
       "      <td>1.000000</td>\n",
       "      <td>17.000000</td>\n",
       "      <td>4.710000e+02</td>\n",
       "      <td>11.000000</td>\n",
       "    </tr>\n",
       "    <tr>\n",
       "      <th>50%</th>\n",
       "      <td>0.000000</td>\n",
       "      <td>5.996370e+05</td>\n",
       "      <td>0.000000</td>\n",
       "      <td>3.000000</td>\n",
       "      <td>1.000000</td>\n",
       "      <td>6.000000</td>\n",
       "      <td>1.050000</td>\n",
       "      <td>0.250000</td>\n",
       "      <td>0.000000</td>\n",
       "      <td>2.000000</td>\n",
       "      <td>...</td>\n",
       "      <td>233.000000</td>\n",
       "      <td>46890.000000</td>\n",
       "      <td>0.400000</td>\n",
       "      <td>3.527000</td>\n",
       "      <td>0.627000</td>\n",
       "      <td>2848.000000</td>\n",
       "      <td>1.050000</td>\n",
       "      <td>62.000000</td>\n",
       "      <td>1.315000e+03</td>\n",
       "      <td>15.000000</td>\n",
       "    </tr>\n",
       "    <tr>\n",
       "      <th>75%</th>\n",
       "      <td>1.000000</td>\n",
       "      <td>8.874600e+05</td>\n",
       "      <td>0.000000</td>\n",
       "      <td>5.000000</td>\n",
       "      <td>2.000000</td>\n",
       "      <td>14.000000</td>\n",
       "      <td>1.090000</td>\n",
       "      <td>0.570000</td>\n",
       "      <td>4.000000</td>\n",
       "      <td>153.000000</td>\n",
       "      <td>...</td>\n",
       "      <td>388.000000</td>\n",
       "      <td>138953.000000</td>\n",
       "      <td>0.550000</td>\n",
       "      <td>13.327000</td>\n",
       "      <td>2.747000</td>\n",
       "      <td>10726.000000</td>\n",
       "      <td>1.210000</td>\n",
       "      <td>180.000000</td>\n",
       "      <td>3.141000e+03</td>\n",
       "      <td>20.000000</td>\n",
       "    </tr>\n",
       "    <tr>\n",
       "      <th>max</th>\n",
       "      <td>1.000000</td>\n",
       "      <td>2.238426e+06</td>\n",
       "      <td>1.000000</td>\n",
       "      <td>3167.000000</td>\n",
       "      <td>106.000000</td>\n",
       "      <td>711.000000</td>\n",
       "      <td>3.180000</td>\n",
       "      <td>1.000000</td>\n",
       "      <td>49.000000</td>\n",
       "      <td>13475.000000</td>\n",
       "      <td>...</td>\n",
       "      <td>43700.000000</td>\n",
       "      <td>527026.000000</td>\n",
       "      <td>0.990000</td>\n",
       "      <td>67.140000</td>\n",
       "      <td>14.507000</td>\n",
       "      <td>194386.000000</td>\n",
       "      <td>11.000000</td>\n",
       "      <td>9956.000000</td>\n",
       "      <td>9.651192e+06</td>\n",
       "      <td>23.000000</td>\n",
       "    </tr>\n",
       "  </tbody>\n",
       "</table>\n",
       "<p>8 rows × 49 columns</p>\n",
       "</div>"
      ],
      "text/plain": [
       "               label      sampleid  iforderpv_24h  decisionhabit_user  \\\n",
       "count  689945.000000  6.899450e+05  689945.000000       385450.000000   \n",
       "mean        0.274452  6.285402e+05       0.193737            5.317048   \n",
       "std         0.446238  4.146815e+05       0.395226           38.524483   \n",
       "min         0.000000  2.463600e+04       0.000000            0.000000   \n",
       "25%         0.000000  3.123200e+05       0.000000            2.000000   \n",
       "50%         0.000000  5.996370e+05       0.000000            3.000000   \n",
       "75%         1.000000  8.874600e+05       0.000000            5.000000   \n",
       "max         1.000000  2.238426e+06       1.000000         3167.000000   \n",
       "\n",
       "       historyvisit_7ordernum  historyvisit_totalordernum        hotelcr  \\\n",
       "count            82915.000000               386525.000000  689148.000000   \n",
       "mean                 1.856094                   11.710487       1.060996   \n",
       "std                  2.103862                   17.251429       0.045264   \n",
       "min                  1.000000                    1.000000       1.000000   \n",
       "25%                  1.000000                    2.000000       1.030000   \n",
       "50%                  1.000000                    6.000000       1.050000   \n",
       "75%                  2.000000                   14.000000       1.090000   \n",
       "max                106.000000                  711.000000       3.180000   \n",
       "\n",
       "       ordercanceledprecent  landhalfhours  ordercanncelednum  ...  \\\n",
       "count         447831.000000  661312.000000      447831.000000  ...   \n",
       "mean               0.342119       6.086366         154.179369  ...   \n",
       "std                0.354210      12.413225         398.456986  ...   \n",
       "min                0.000000       0.000000           0.000000  ...   \n",
       "25%                0.000000       0.000000           0.000000  ...   \n",
       "50%                0.250000       0.000000           2.000000  ...   \n",
       "75%                0.570000       4.000000         153.000000  ...   \n",
       "max                1.000000      49.000000       13475.000000  ...   \n",
       "\n",
       "       lowestprice_pre2  lasthtlordergap  businessrate_pre2        cityuvs  \\\n",
       "count     660664.000000    447831.000000      602960.000000  682274.000000   \n",
       "mean         318.541812    101830.919400           0.368237      10.648278   \n",
       "std          351.913035    122784.313864           0.219945      15.696682   \n",
       "min            1.000000         0.000000           0.000000       0.007000   \n",
       "25%          145.000000     14999.000000           0.170000       0.827000   \n",
       "50%          233.000000     46890.000000           0.400000       3.527000   \n",
       "75%          388.000000    138953.000000           0.550000      13.327000   \n",
       "max        43700.000000    527026.000000           0.990000      67.140000   \n",
       "\n",
       "          cityorders      lastpvgap             cr            sid  \\\n",
       "count  651263.000000  592818.000000  457896.000000  689945.000000   \n",
       "mean        2.253250   12049.409382       1.137476     153.702414   \n",
       "std         3.538453   25601.374138       0.204789     277.807697   \n",
       "min         0.007000       0.000000       1.000000       0.000000   \n",
       "25%         0.127000     551.000000       1.000000      17.000000   \n",
       "50%         0.627000    2848.000000       1.050000      62.000000   \n",
       "75%         2.747000   10726.000000       1.210000     180.000000   \n",
       "max        14.507000  194386.000000      11.000000    9956.000000   \n",
       "\n",
       "       visitnum_oneyear              h  \n",
       "count      5.929100e+05  689945.000000  \n",
       "mean       1.855185e+04      14.462315  \n",
       "std        2.288603e+05       6.301575  \n",
       "min        1.000000e+00       0.000000  \n",
       "25%        4.710000e+02      11.000000  \n",
       "50%        1.315000e+03      15.000000  \n",
       "75%        3.141000e+03      20.000000  \n",
       "max        9.651192e+06      23.000000  \n",
       "\n",
       "[8 rows x 49 columns]"
      ]
     },
     "execution_count": 15,
     "metadata": {},
     "output_type": "execute_result"
    }
   ],
   "source": [
    "data.describe()"
   ]
  },
  {
   "cell_type": "code",
   "execution_count": 16,
   "metadata": {},
   "outputs": [
    {
     "data": {
      "text/html": [
       "<div>\n",
       "<style scoped>\n",
       "    .dataframe tbody tr th:only-of-type {\n",
       "        vertical-align: middle;\n",
       "    }\n",
       "\n",
       "    .dataframe tbody tr th {\n",
       "        vertical-align: top;\n",
       "    }\n",
       "\n",
       "    .dataframe thead th {\n",
       "        text-align: right;\n",
       "    }\n",
       "</style>\n",
       "<table border=\"1\" class=\"dataframe\">\n",
       "  <thead>\n",
       "    <tr style=\"text-align: right;\">\n",
       "      <th></th>\n",
       "      <th>count</th>\n",
       "      <th>mean</th>\n",
       "      <th>std</th>\n",
       "      <th>min</th>\n",
       "      <th>25%</th>\n",
       "      <th>50%</th>\n",
       "      <th>75%</th>\n",
       "      <th>max</th>\n",
       "    </tr>\n",
       "  </thead>\n",
       "  <tbody>\n",
       "    <tr>\n",
       "      <th>label</th>\n",
       "      <td>689945.0</td>\n",
       "      <td>0.27</td>\n",
       "      <td>0.45</td>\n",
       "      <td>0.00</td>\n",
       "      <td>0.00</td>\n",
       "      <td>0.00</td>\n",
       "      <td>1.00</td>\n",
       "      <td>1.00</td>\n",
       "    </tr>\n",
       "    <tr>\n",
       "      <th>sampleid</th>\n",
       "      <td>689945.0</td>\n",
       "      <td>628540.21</td>\n",
       "      <td>414681.50</td>\n",
       "      <td>24636.00</td>\n",
       "      <td>312320.00</td>\n",
       "      <td>599637.00</td>\n",
       "      <td>887460.00</td>\n",
       "      <td>2238426.00</td>\n",
       "    </tr>\n",
       "    <tr>\n",
       "      <th>iforderpv_24h</th>\n",
       "      <td>689945.0</td>\n",
       "      <td>0.19</td>\n",
       "      <td>0.40</td>\n",
       "      <td>0.00</td>\n",
       "      <td>0.00</td>\n",
       "      <td>0.00</td>\n",
       "      <td>0.00</td>\n",
       "      <td>1.00</td>\n",
       "    </tr>\n",
       "    <tr>\n",
       "      <th>decisionhabit_user</th>\n",
       "      <td>385450.0</td>\n",
       "      <td>5.32</td>\n",
       "      <td>38.52</td>\n",
       "      <td>0.00</td>\n",
       "      <td>2.00</td>\n",
       "      <td>3.00</td>\n",
       "      <td>5.00</td>\n",
       "      <td>3167.00</td>\n",
       "    </tr>\n",
       "    <tr>\n",
       "      <th>historyvisit_7ordernum</th>\n",
       "      <td>82915.0</td>\n",
       "      <td>1.86</td>\n",
       "      <td>2.10</td>\n",
       "      <td>1.00</td>\n",
       "      <td>1.00</td>\n",
       "      <td>1.00</td>\n",
       "      <td>2.00</td>\n",
       "      <td>106.00</td>\n",
       "    </tr>\n",
       "    <tr>\n",
       "      <th>historyvisit_totalordernum</th>\n",
       "      <td>386525.0</td>\n",
       "      <td>11.71</td>\n",
       "      <td>17.25</td>\n",
       "      <td>1.00</td>\n",
       "      <td>2.00</td>\n",
       "      <td>6.00</td>\n",
       "      <td>14.00</td>\n",
       "      <td>711.00</td>\n",
       "    </tr>\n",
       "    <tr>\n",
       "      <th>hotelcr</th>\n",
       "      <td>689148.0</td>\n",
       "      <td>1.06</td>\n",
       "      <td>0.05</td>\n",
       "      <td>1.00</td>\n",
       "      <td>1.03</td>\n",
       "      <td>1.05</td>\n",
       "      <td>1.09</td>\n",
       "      <td>3.18</td>\n",
       "    </tr>\n",
       "    <tr>\n",
       "      <th>ordercanceledprecent</th>\n",
       "      <td>447831.0</td>\n",
       "      <td>0.34</td>\n",
       "      <td>0.35</td>\n",
       "      <td>0.00</td>\n",
       "      <td>0.00</td>\n",
       "      <td>0.25</td>\n",
       "      <td>0.57</td>\n",
       "      <td>1.00</td>\n",
       "    </tr>\n",
       "    <tr>\n",
       "      <th>landhalfhours</th>\n",
       "      <td>661312.0</td>\n",
       "      <td>6.09</td>\n",
       "      <td>12.41</td>\n",
       "      <td>0.00</td>\n",
       "      <td>0.00</td>\n",
       "      <td>0.00</td>\n",
       "      <td>4.00</td>\n",
       "      <td>49.00</td>\n",
       "    </tr>\n",
       "    <tr>\n",
       "      <th>ordercanncelednum</th>\n",
       "      <td>447831.0</td>\n",
       "      <td>154.18</td>\n",
       "      <td>398.46</td>\n",
       "      <td>0.00</td>\n",
       "      <td>0.00</td>\n",
       "      <td>2.00</td>\n",
       "      <td>153.00</td>\n",
       "      <td>13475.00</td>\n",
       "    </tr>\n",
       "    <tr>\n",
       "      <th>commentnums</th>\n",
       "      <td>622029.0</td>\n",
       "      <td>1272.09</td>\n",
       "      <td>2101.87</td>\n",
       "      <td>0.00</td>\n",
       "      <td>115.00</td>\n",
       "      <td>514.00</td>\n",
       "      <td>1670.00</td>\n",
       "      <td>34189.00</td>\n",
       "    </tr>\n",
       "    <tr>\n",
       "      <th>starprefer</th>\n",
       "      <td>464892.0</td>\n",
       "      <td>67.53</td>\n",
       "      <td>19.18</td>\n",
       "      <td>0.00</td>\n",
       "      <td>53.30</td>\n",
       "      <td>69.40</td>\n",
       "      <td>80.30</td>\n",
       "      <td>100.00</td>\n",
       "    </tr>\n",
       "    <tr>\n",
       "      <th>novoters</th>\n",
       "      <td>672918.0</td>\n",
       "      <td>1706.25</td>\n",
       "      <td>2811.69</td>\n",
       "      <td>1.00</td>\n",
       "      <td>157.00</td>\n",
       "      <td>692.00</td>\n",
       "      <td>2196.00</td>\n",
       "      <td>45455.00</td>\n",
       "    </tr>\n",
       "    <tr>\n",
       "      <th>consuming_capacity</th>\n",
       "      <td>463837.0</td>\n",
       "      <td>39.15</td>\n",
       "      <td>23.24</td>\n",
       "      <td>0.00</td>\n",
       "      <td>22.00</td>\n",
       "      <td>33.00</td>\n",
       "      <td>51.00</td>\n",
       "      <td>100.00</td>\n",
       "    </tr>\n",
       "    <tr>\n",
       "      <th>historyvisit_avghotelnum</th>\n",
       "      <td>387876.0</td>\n",
       "      <td>6.51</td>\n",
       "      <td>41.05</td>\n",
       "      <td>0.00</td>\n",
       "      <td>2.00</td>\n",
       "      <td>4.00</td>\n",
       "      <td>7.00</td>\n",
       "      <td>3167.00</td>\n",
       "    </tr>\n",
       "    <tr>\n",
       "      <th>cancelrate</th>\n",
       "      <td>678227.0</td>\n",
       "      <td>1051.60</td>\n",
       "      <td>1509.07</td>\n",
       "      <td>1.00</td>\n",
       "      <td>137.00</td>\n",
       "      <td>503.00</td>\n",
       "      <td>1373.00</td>\n",
       "      <td>18930.00</td>\n",
       "    </tr>\n",
       "    <tr>\n",
       "      <th>historyvisit_visit_detailpagenum</th>\n",
       "      <td>307234.0</td>\n",
       "      <td>37.15</td>\n",
       "      <td>73.40</td>\n",
       "      <td>1.00</td>\n",
       "      <td>6.00</td>\n",
       "      <td>18.00</td>\n",
       "      <td>44.00</td>\n",
       "      <td>6199.00</td>\n",
       "    </tr>\n",
       "    <tr>\n",
       "      <th>delta_price1</th>\n",
       "      <td>437146.0</td>\n",
       "      <td>79.07</td>\n",
       "      <td>512.94</td>\n",
       "      <td>-99879.00</td>\n",
       "      <td>-31.00</td>\n",
       "      <td>81.00</td>\n",
       "      <td>226.00</td>\n",
       "      <td>5398.00</td>\n",
       "    </tr>\n",
       "    <tr>\n",
       "      <th>price_sensitive</th>\n",
       "      <td>463837.0</td>\n",
       "      <td>24.65</td>\n",
       "      <td>26.69</td>\n",
       "      <td>0.00</td>\n",
       "      <td>5.00</td>\n",
       "      <td>16.00</td>\n",
       "      <td>33.00</td>\n",
       "      <td>100.00</td>\n",
       "    </tr>\n",
       "    <tr>\n",
       "      <th>hoteluv</th>\n",
       "      <td>689148.0</td>\n",
       "      <td>95.09</td>\n",
       "      <td>169.98</td>\n",
       "      <td>0.01</td>\n",
       "      <td>10.43</td>\n",
       "      <td>36.18</td>\n",
       "      <td>107.75</td>\n",
       "      <td>1722.61</td>\n",
       "    </tr>\n",
       "    <tr>\n",
       "      <th>businessrate_pre</th>\n",
       "      <td>483896.0</td>\n",
       "      <td>0.37</td>\n",
       "      <td>0.23</td>\n",
       "      <td>0.00</td>\n",
       "      <td>0.15</td>\n",
       "      <td>0.39</td>\n",
       "      <td>0.57</td>\n",
       "      <td>0.99</td>\n",
       "    </tr>\n",
       "    <tr>\n",
       "      <th>ordernum_oneyear</th>\n",
       "      <td>447831.0</td>\n",
       "      <td>11.64</td>\n",
       "      <td>17.14</td>\n",
       "      <td>1.00</td>\n",
       "      <td>2.00</td>\n",
       "      <td>6.00</td>\n",
       "      <td>14.00</td>\n",
       "      <td>711.00</td>\n",
       "    </tr>\n",
       "    <tr>\n",
       "      <th>cr_pre</th>\n",
       "      <td>660548.0</td>\n",
       "      <td>1.06</td>\n",
       "      <td>0.04</td>\n",
       "      <td>1.00</td>\n",
       "      <td>1.03</td>\n",
       "      <td>1.06</td>\n",
       "      <td>1.09</td>\n",
       "      <td>2.95</td>\n",
       "    </tr>\n",
       "    <tr>\n",
       "      <th>avgprice</th>\n",
       "      <td>457261.0</td>\n",
       "      <td>422.46</td>\n",
       "      <td>290.85</td>\n",
       "      <td>1.00</td>\n",
       "      <td>232.00</td>\n",
       "      <td>350.00</td>\n",
       "      <td>524.00</td>\n",
       "      <td>6383.00</td>\n",
       "    </tr>\n",
       "    <tr>\n",
       "      <th>lowestprice</th>\n",
       "      <td>687931.0</td>\n",
       "      <td>318.81</td>\n",
       "      <td>575.78</td>\n",
       "      <td>-3.00</td>\n",
       "      <td>116.00</td>\n",
       "      <td>200.00</td>\n",
       "      <td>380.00</td>\n",
       "      <td>100000.00</td>\n",
       "    </tr>\n",
       "    <tr>\n",
       "      <th>firstorder_bu</th>\n",
       "      <td>376993.0</td>\n",
       "      <td>11.70</td>\n",
       "      <td>2.75</td>\n",
       "      <td>1.00</td>\n",
       "      <td>12.00</td>\n",
       "      <td>13.00</td>\n",
       "      <td>13.00</td>\n",
       "      <td>21.00</td>\n",
       "    </tr>\n",
       "    <tr>\n",
       "      <th>customereval_pre2</th>\n",
       "      <td>661312.0</td>\n",
       "      <td>3.05</td>\n",
       "      <td>1.23</td>\n",
       "      <td>0.00</td>\n",
       "      <td>2.00</td>\n",
       "      <td>3.00</td>\n",
       "      <td>4.00</td>\n",
       "      <td>6.00</td>\n",
       "    </tr>\n",
       "    <tr>\n",
       "      <th>delta_price2</th>\n",
       "      <td>437750.0</td>\n",
       "      <td>77.28</td>\n",
       "      <td>391.41</td>\n",
       "      <td>-43344.00</td>\n",
       "      <td>-29.00</td>\n",
       "      <td>69.00</td>\n",
       "      <td>198.00</td>\n",
       "      <td>5114.00</td>\n",
       "    </tr>\n",
       "    <tr>\n",
       "      <th>commentnums_pre</th>\n",
       "      <td>598368.0</td>\n",
       "      <td>1415.16</td>\n",
       "      <td>2329.42</td>\n",
       "      <td>0.00</td>\n",
       "      <td>137.00</td>\n",
       "      <td>592.00</td>\n",
       "      <td>1862.00</td>\n",
       "      <td>34189.00</td>\n",
       "    </tr>\n",
       "    <tr>\n",
       "      <th>customer_value_profit</th>\n",
       "      <td>439123.0</td>\n",
       "      <td>3.04</td>\n",
       "      <td>6.63</td>\n",
       "      <td>-24.08</td>\n",
       "      <td>0.27</td>\n",
       "      <td>0.99</td>\n",
       "      <td>3.14</td>\n",
       "      <td>598.06</td>\n",
       "    </tr>\n",
       "    <tr>\n",
       "      <th>commentnums_pre2</th>\n",
       "      <td>648457.0</td>\n",
       "      <td>1313.39</td>\n",
       "      <td>1719.51</td>\n",
       "      <td>0.00</td>\n",
       "      <td>270.00</td>\n",
       "      <td>768.00</td>\n",
       "      <td>1780.00</td>\n",
       "      <td>34189.00</td>\n",
       "    </tr>\n",
       "    <tr>\n",
       "      <th>cancelrate_pre</th>\n",
       "      <td>653015.0</td>\n",
       "      <td>0.34</td>\n",
       "      <td>0.18</td>\n",
       "      <td>0.00</td>\n",
       "      <td>0.23</td>\n",
       "      <td>0.32</td>\n",
       "      <td>0.42</td>\n",
       "      <td>1.00</td>\n",
       "    </tr>\n",
       "    <tr>\n",
       "      <th>novoters_pre2</th>\n",
       "      <td>657616.0</td>\n",
       "      <td>1787.20</td>\n",
       "      <td>2316.71</td>\n",
       "      <td>1.00</td>\n",
       "      <td>391.00</td>\n",
       "      <td>1054.00</td>\n",
       "      <td>2413.00</td>\n",
       "      <td>45436.00</td>\n",
       "    </tr>\n",
       "    <tr>\n",
       "      <th>novoters_pre</th>\n",
       "      <td>648956.0</td>\n",
       "      <td>1890.70</td>\n",
       "      <td>3116.12</td>\n",
       "      <td>1.00</td>\n",
       "      <td>187.00</td>\n",
       "      <td>783.00</td>\n",
       "      <td>2453.00</td>\n",
       "      <td>45436.00</td>\n",
       "    </tr>\n",
       "    <tr>\n",
       "      <th>ctrip_profits</th>\n",
       "      <td>445187.0</td>\n",
       "      <td>4.21</td>\n",
       "      <td>9.31</td>\n",
       "      <td>-44.31</td>\n",
       "      <td>0.34</td>\n",
       "      <td>1.35</td>\n",
       "      <td>4.32</td>\n",
       "      <td>600.82</td>\n",
       "    </tr>\n",
       "    <tr>\n",
       "      <th>deltaprice_pre2_t1</th>\n",
       "      <td>543180.0</td>\n",
       "      <td>3.28</td>\n",
       "      <td>48.81</td>\n",
       "      <td>-2296.00</td>\n",
       "      <td>-3.00</td>\n",
       "      <td>2.00</td>\n",
       "      <td>10.00</td>\n",
       "      <td>3324.00</td>\n",
       "    </tr>\n",
       "    <tr>\n",
       "      <th>lowestprice_pre</th>\n",
       "      <td>659689.0</td>\n",
       "      <td>315.95</td>\n",
       "      <td>463.72</td>\n",
       "      <td>1.00</td>\n",
       "      <td>118.00</td>\n",
       "      <td>208.00</td>\n",
       "      <td>385.00</td>\n",
       "      <td>100000.00</td>\n",
       "    </tr>\n",
       "    <tr>\n",
       "      <th>uv_pre</th>\n",
       "      <td>660548.0</td>\n",
       "      <td>107.85</td>\n",
       "      <td>186.73</td>\n",
       "      <td>0.01</td>\n",
       "      <td>12.53</td>\n",
       "      <td>42.50</td>\n",
       "      <td>124.71</td>\n",
       "      <td>1722.61</td>\n",
       "    </tr>\n",
       "    <tr>\n",
       "      <th>uv_pre2</th>\n",
       "      <td>661189.0</td>\n",
       "      <td>103.35</td>\n",
       "      <td>157.12</td>\n",
       "      <td>0.01</td>\n",
       "      <td>17.56</td>\n",
       "      <td>51.29</td>\n",
       "      <td>126.20</td>\n",
       "      <td>1722.61</td>\n",
       "    </tr>\n",
       "    <tr>\n",
       "      <th>lowestprice_pre2</th>\n",
       "      <td>660664.0</td>\n",
       "      <td>318.54</td>\n",
       "      <td>351.91</td>\n",
       "      <td>1.00</td>\n",
       "      <td>145.00</td>\n",
       "      <td>233.00</td>\n",
       "      <td>388.00</td>\n",
       "      <td>43700.00</td>\n",
       "    </tr>\n",
       "    <tr>\n",
       "      <th>lasthtlordergap</th>\n",
       "      <td>447831.0</td>\n",
       "      <td>101830.92</td>\n",
       "      <td>122784.31</td>\n",
       "      <td>0.00</td>\n",
       "      <td>14999.00</td>\n",
       "      <td>46890.00</td>\n",
       "      <td>138953.00</td>\n",
       "      <td>527026.00</td>\n",
       "    </tr>\n",
       "    <tr>\n",
       "      <th>businessrate_pre2</th>\n",
       "      <td>602960.0</td>\n",
       "      <td>0.37</td>\n",
       "      <td>0.22</td>\n",
       "      <td>0.00</td>\n",
       "      <td>0.17</td>\n",
       "      <td>0.40</td>\n",
       "      <td>0.55</td>\n",
       "      <td>0.99</td>\n",
       "    </tr>\n",
       "    <tr>\n",
       "      <th>cityuvs</th>\n",
       "      <td>682274.0</td>\n",
       "      <td>10.65</td>\n",
       "      <td>15.70</td>\n",
       "      <td>0.01</td>\n",
       "      <td>0.83</td>\n",
       "      <td>3.53</td>\n",
       "      <td>13.33</td>\n",
       "      <td>67.14</td>\n",
       "    </tr>\n",
       "    <tr>\n",
       "      <th>cityorders</th>\n",
       "      <td>651263.0</td>\n",
       "      <td>2.25</td>\n",
       "      <td>3.54</td>\n",
       "      <td>0.01</td>\n",
       "      <td>0.13</td>\n",
       "      <td>0.63</td>\n",
       "      <td>2.75</td>\n",
       "      <td>14.51</td>\n",
       "    </tr>\n",
       "    <tr>\n",
       "      <th>lastpvgap</th>\n",
       "      <td>592818.0</td>\n",
       "      <td>12049.41</td>\n",
       "      <td>25601.37</td>\n",
       "      <td>0.00</td>\n",
       "      <td>551.00</td>\n",
       "      <td>2848.00</td>\n",
       "      <td>10726.00</td>\n",
       "      <td>194386.00</td>\n",
       "    </tr>\n",
       "    <tr>\n",
       "      <th>cr</th>\n",
       "      <td>457896.0</td>\n",
       "      <td>1.14</td>\n",
       "      <td>0.20</td>\n",
       "      <td>1.00</td>\n",
       "      <td>1.00</td>\n",
       "      <td>1.05</td>\n",
       "      <td>1.21</td>\n",
       "      <td>11.00</td>\n",
       "    </tr>\n",
       "    <tr>\n",
       "      <th>sid</th>\n",
       "      <td>689945.0</td>\n",
       "      <td>153.70</td>\n",
       "      <td>277.81</td>\n",
       "      <td>0.00</td>\n",
       "      <td>17.00</td>\n",
       "      <td>62.00</td>\n",
       "      <td>180.00</td>\n",
       "      <td>9956.00</td>\n",
       "    </tr>\n",
       "    <tr>\n",
       "      <th>visitnum_oneyear</th>\n",
       "      <td>592910.0</td>\n",
       "      <td>18551.85</td>\n",
       "      <td>228860.31</td>\n",
       "      <td>1.00</td>\n",
       "      <td>471.00</td>\n",
       "      <td>1315.00</td>\n",
       "      <td>3141.00</td>\n",
       "      <td>9651192.00</td>\n",
       "    </tr>\n",
       "    <tr>\n",
       "      <th>h</th>\n",
       "      <td>689945.0</td>\n",
       "      <td>14.46</td>\n",
       "      <td>6.30</td>\n",
       "      <td>0.00</td>\n",
       "      <td>11.00</td>\n",
       "      <td>15.00</td>\n",
       "      <td>20.00</td>\n",
       "      <td>23.00</td>\n",
       "    </tr>\n",
       "  </tbody>\n",
       "</table>\n",
       "</div>"
      ],
      "text/plain": [
       "                                     count       mean        std       min  \\\n",
       "label                             689945.0       0.27       0.45      0.00   \n",
       "sampleid                          689945.0  628540.21  414681.50  24636.00   \n",
       "iforderpv_24h                     689945.0       0.19       0.40      0.00   \n",
       "decisionhabit_user                385450.0       5.32      38.52      0.00   \n",
       "historyvisit_7ordernum             82915.0       1.86       2.10      1.00   \n",
       "historyvisit_totalordernum        386525.0      11.71      17.25      1.00   \n",
       "hotelcr                           689148.0       1.06       0.05      1.00   \n",
       "ordercanceledprecent              447831.0       0.34       0.35      0.00   \n",
       "landhalfhours                     661312.0       6.09      12.41      0.00   \n",
       "ordercanncelednum                 447831.0     154.18     398.46      0.00   \n",
       "commentnums                       622029.0    1272.09    2101.87      0.00   \n",
       "starprefer                        464892.0      67.53      19.18      0.00   \n",
       "novoters                          672918.0    1706.25    2811.69      1.00   \n",
       "consuming_capacity                463837.0      39.15      23.24      0.00   \n",
       "historyvisit_avghotelnum          387876.0       6.51      41.05      0.00   \n",
       "cancelrate                        678227.0    1051.60    1509.07      1.00   \n",
       "historyvisit_visit_detailpagenum  307234.0      37.15      73.40      1.00   \n",
       "delta_price1                      437146.0      79.07     512.94 -99879.00   \n",
       "price_sensitive                   463837.0      24.65      26.69      0.00   \n",
       "hoteluv                           689148.0      95.09     169.98      0.01   \n",
       "businessrate_pre                  483896.0       0.37       0.23      0.00   \n",
       "ordernum_oneyear                  447831.0      11.64      17.14      1.00   \n",
       "cr_pre                            660548.0       1.06       0.04      1.00   \n",
       "avgprice                          457261.0     422.46     290.85      1.00   \n",
       "lowestprice                       687931.0     318.81     575.78     -3.00   \n",
       "firstorder_bu                     376993.0      11.70       2.75      1.00   \n",
       "customereval_pre2                 661312.0       3.05       1.23      0.00   \n",
       "delta_price2                      437750.0      77.28     391.41 -43344.00   \n",
       "commentnums_pre                   598368.0    1415.16    2329.42      0.00   \n",
       "customer_value_profit             439123.0       3.04       6.63    -24.08   \n",
       "commentnums_pre2                  648457.0    1313.39    1719.51      0.00   \n",
       "cancelrate_pre                    653015.0       0.34       0.18      0.00   \n",
       "novoters_pre2                     657616.0    1787.20    2316.71      1.00   \n",
       "novoters_pre                      648956.0    1890.70    3116.12      1.00   \n",
       "ctrip_profits                     445187.0       4.21       9.31    -44.31   \n",
       "deltaprice_pre2_t1                543180.0       3.28      48.81  -2296.00   \n",
       "lowestprice_pre                   659689.0     315.95     463.72      1.00   \n",
       "uv_pre                            660548.0     107.85     186.73      0.01   \n",
       "uv_pre2                           661189.0     103.35     157.12      0.01   \n",
       "lowestprice_pre2                  660664.0     318.54     351.91      1.00   \n",
       "lasthtlordergap                   447831.0  101830.92  122784.31      0.00   \n",
       "businessrate_pre2                 602960.0       0.37       0.22      0.00   \n",
       "cityuvs                           682274.0      10.65      15.70      0.01   \n",
       "cityorders                        651263.0       2.25       3.54      0.01   \n",
       "lastpvgap                         592818.0   12049.41   25601.37      0.00   \n",
       "cr                                457896.0       1.14       0.20      1.00   \n",
       "sid                               689945.0     153.70     277.81      0.00   \n",
       "visitnum_oneyear                  592910.0   18551.85  228860.31      1.00   \n",
       "h                                 689945.0      14.46       6.30      0.00   \n",
       "\n",
       "                                        25%        50%        75%         max  \n",
       "label                                  0.00       0.00       1.00        1.00  \n",
       "sampleid                          312320.00  599637.00  887460.00  2238426.00  \n",
       "iforderpv_24h                          0.00       0.00       0.00        1.00  \n",
       "decisionhabit_user                     2.00       3.00       5.00     3167.00  \n",
       "historyvisit_7ordernum                 1.00       1.00       2.00      106.00  \n",
       "historyvisit_totalordernum             2.00       6.00      14.00      711.00  \n",
       "hotelcr                                1.03       1.05       1.09        3.18  \n",
       "ordercanceledprecent                   0.00       0.25       0.57        1.00  \n",
       "landhalfhours                          0.00       0.00       4.00       49.00  \n",
       "ordercanncelednum                      0.00       2.00     153.00    13475.00  \n",
       "commentnums                          115.00     514.00    1670.00    34189.00  \n",
       "starprefer                            53.30      69.40      80.30      100.00  \n",
       "novoters                             157.00     692.00    2196.00    45455.00  \n",
       "consuming_capacity                    22.00      33.00      51.00      100.00  \n",
       "historyvisit_avghotelnum               2.00       4.00       7.00     3167.00  \n",
       "cancelrate                           137.00     503.00    1373.00    18930.00  \n",
       "historyvisit_visit_detailpagenum       6.00      18.00      44.00     6199.00  \n",
       "delta_price1                         -31.00      81.00     226.00     5398.00  \n",
       "price_sensitive                        5.00      16.00      33.00      100.00  \n",
       "hoteluv                               10.43      36.18     107.75     1722.61  \n",
       "businessrate_pre                       0.15       0.39       0.57        0.99  \n",
       "ordernum_oneyear                       2.00       6.00      14.00      711.00  \n",
       "cr_pre                                 1.03       1.06       1.09        2.95  \n",
       "avgprice                             232.00     350.00     524.00     6383.00  \n",
       "lowestprice                          116.00     200.00     380.00   100000.00  \n",
       "firstorder_bu                         12.00      13.00      13.00       21.00  \n",
       "customereval_pre2                      2.00       3.00       4.00        6.00  \n",
       "delta_price2                         -29.00      69.00     198.00     5114.00  \n",
       "commentnums_pre                      137.00     592.00    1862.00    34189.00  \n",
       "customer_value_profit                  0.27       0.99       3.14      598.06  \n",
       "commentnums_pre2                     270.00     768.00    1780.00    34189.00  \n",
       "cancelrate_pre                         0.23       0.32       0.42        1.00  \n",
       "novoters_pre2                        391.00    1054.00    2413.00    45436.00  \n",
       "novoters_pre                         187.00     783.00    2453.00    45436.00  \n",
       "ctrip_profits                          0.34       1.35       4.32      600.82  \n",
       "deltaprice_pre2_t1                    -3.00       2.00      10.00     3324.00  \n",
       "lowestprice_pre                      118.00     208.00     385.00   100000.00  \n",
       "uv_pre                                12.53      42.50     124.71     1722.61  \n",
       "uv_pre2                               17.56      51.29     126.20     1722.61  \n",
       "lowestprice_pre2                     145.00     233.00     388.00    43700.00  \n",
       "lasthtlordergap                    14999.00   46890.00  138953.00   527026.00  \n",
       "businessrate_pre2                      0.17       0.40       0.55        0.99  \n",
       "cityuvs                                0.83       3.53      13.33       67.14  \n",
       "cityorders                             0.13       0.63       2.75       14.51  \n",
       "lastpvgap                            551.00    2848.00   10726.00   194386.00  \n",
       "cr                                     1.00       1.05       1.21       11.00  \n",
       "sid                                   17.00      62.00     180.00     9956.00  \n",
       "visitnum_oneyear                     471.00    1315.00    3141.00  9651192.00  \n",
       "h                                     11.00      15.00      20.00       23.00  "
      ]
     },
     "execution_count": 16,
     "metadata": {},
     "output_type": "execute_result"
    }
   ],
   "source": [
    "data.describe().round(2).T"
   ]
  },
  {
   "cell_type": "markdown",
   "metadata": {},
   "source": [
    "### 10 - 数据统计\n",
    "\n",
    "按照行计算平均值"
   ]
  },
  {
   "cell_type": "code",
   "execution_count": 4,
   "metadata": {},
   "outputs": [
    {
     "data": {
      "text/plain": [
       "label    0.274452\n",
       "dtype: float64"
      ]
     },
     "execution_count": 4,
     "metadata": {},
     "output_type": "execute_result"
    }
   ],
   "source": [
    "data[['label']].mean()"
   ]
  },
  {
   "cell_type": "markdown",
   "metadata": {},
   "source": [
    "## 数据清洗\n",
    "数据清洗主要包括去除重复值、处理缺失值、处理异常值、⽣成衍生变量等操作。其中处理顺序根据实际处理过程涉及的问题而定，这里的顺序仅供参考。"
   ]
  },
  {
   "cell_type": "markdown",
   "metadata": {},
   "source": [
    "### 11 - 处理重复值\n",
    "\n",
    "对于一般模型影响不大，但对于回归模型⽽言，容易导致回归系数标准误降低，使得对应p值减⼩。重复值过多，样本随机误差降低，造成参数的贡献程度会被高估。本案例没有重复值，可以略过。"
   ]
  },
  {
   "cell_type": "code",
   "execution_count": 5,
   "metadata": {},
   "outputs": [
    {
     "data": {
      "text/plain": [
       "0"
      ]
     },
     "execution_count": 5,
     "metadata": {},
     "output_type": "execute_result"
    }
   ],
   "source": [
    "data.duplicated().sum()"
   ]
  },
  {
   "cell_type": "code",
   "execution_count": 8,
   "metadata": {},
   "outputs": [
    {
     "data": {
      "text/plain": [
       "(689945, 51)"
      ]
     },
     "execution_count": 8,
     "metadata": {},
     "output_type": "execute_result"
    }
   ],
   "source": [
    "data.drop_duplicates().shape"
   ]
  },
  {
   "cell_type": "markdown",
   "metadata": {},
   "source": [
    "### 12 - 缺失值查看"
   ]
  },
  {
   "cell_type": "markdown",
   "metadata": {},
   "source": [
    "**查看缺失值比例，并排序**"
   ]
  },
  {
   "cell_type": "code",
   "execution_count": 11,
   "metadata": {},
   "outputs": [
    {
     "data": {
      "text/plain": [
       "historyvisit_7ordernum              87.98%\n",
       "historyvisit_visit_detailpagenum    55.47%\n",
       "firstorder_bu                       45.36%\n",
       "decisionhabit_user                  44.13%\n",
       "historyvisit_totalordernum          43.98%\n",
       "historyvisit_avghotelnum            43.78%\n",
       "delta_price1                        36.64%\n",
       "delta_price2                        36.55%\n",
       "customer_value_profit               36.35%\n",
       "ctrip_profits                       35.48%\n",
       "ordernum_oneyear                    35.09%\n",
       "ordercanceledprecent                35.09%\n",
       "ordercanncelednum                   35.09%\n",
       "lasthtlordergap                     35.09%\n",
       "avgprice                            33.73%\n",
       "cr                                  33.63%\n",
       "consuming_capacity                  32.77%\n",
       "price_sensitive                     32.77%\n",
       "starprefer                          32.62%\n",
       "businessrate_pre                    29.86%\n",
       "deltaprice_pre2_t1                  21.27%\n",
       "lastpvgap                           14.08%\n",
       "visitnum_oneyear                    14.06%\n",
       "commentnums_pre                     13.27%\n",
       "businessrate_pre2                   12.61%\n",
       "commentnums                          9.84%\n",
       "commentnums_pre2                     6.01%\n",
       "novoters_pre                         5.94%\n",
       "cityorders                           5.61%\n",
       "cancelrate_pre                       5.35%\n",
       "novoters_pre2                        4.69%\n",
       "lowestprice_pre                      4.39%\n",
       "uv_pre                               4.26%\n",
       "cr_pre                               4.26%\n",
       "lowestprice_pre2                     4.24%\n",
       "uv_pre2                              4.17%\n",
       "customereval_pre2                    4.15%\n",
       "landhalfhours                        4.15%\n",
       "novoters                             2.47%\n",
       "cancelrate                           1.70%\n",
       "cityuvs                              1.11%\n",
       "lowestprice                          0.29%\n",
       "hoteluv                              0.12%\n",
       "hotelcr                              0.12%\n",
       "sid                                  0.00%\n",
       "label                                0.00%\n",
       "sampleid                             0.00%\n",
       "iforderpv_24h                        0.00%\n",
       "arrival                              0.00%\n",
       "d                                    0.00%\n",
       "h                                    0.00%\n",
       "dtype: object"
      ]
     },
     "execution_count": 11,
     "metadata": {},
     "output_type": "execute_result"
    }
   ],
   "source": [
    "(data.isnull().sum()/data.shape[0]).sort_values(ascending=False).map(lambda x:\"{:.2%}\".format(x))"
   ]
  },
  {
   "cell_type": "markdown",
   "metadata": {},
   "source": [
    "### 13 - 数据可视化\n",
    "使用密度图可视化数据缺失比"
   ]
  },
  {
   "cell_type": "code",
   "execution_count": 7,
   "metadata": {},
   "outputs": [
    {
     "data": {
      "text/plain": [
       "label                               0.000000\n",
       "sampleid                            0.000000\n",
       "d                                   0.000000\n",
       "arrival                             0.000000\n",
       "iforderpv_24h                       0.000000\n",
       "decisionhabit_user                  0.441332\n",
       "historyvisit_7ordernum              0.879824\n",
       "historyvisit_totalordernum          0.439774\n",
       "hotelcr                             0.001155\n",
       "ordercanceledprecent                0.350918\n",
       "landhalfhours                       0.041500\n",
       "ordercanncelednum                   0.350918\n",
       "commentnums                         0.098437\n",
       "starprefer                          0.326190\n",
       "novoters                            0.024679\n",
       "consuming_capacity                  0.327719\n",
       "historyvisit_avghotelnum            0.437816\n",
       "cancelrate                          0.016984\n",
       "historyvisit_visit_detailpagenum    0.554698\n",
       "delta_price1                        0.366405\n",
       "price_sensitive                     0.327719\n",
       "hoteluv                             0.001155\n",
       "businessrate_pre                    0.298646\n",
       "ordernum_oneyear                    0.350918\n",
       "cr_pre                              0.042608\n",
       "avgprice                            0.337250\n",
       "lowestprice                         0.002919\n",
       "firstorder_bu                       0.453590\n",
       "customereval_pre2                   0.041500\n",
       "delta_price2                        0.365529\n",
       "commentnums_pre                     0.132731\n",
       "customer_value_profit               0.363539\n",
       "commentnums_pre2                    0.060132\n",
       "cancelrate_pre                      0.053526\n",
       "novoters_pre2                       0.046857\n",
       "novoters_pre                        0.059409\n",
       "ctrip_profits                       0.354750\n",
       "deltaprice_pre2_t1                  0.212720\n",
       "lowestprice_pre                     0.043853\n",
       "uv_pre                              0.042608\n",
       "uv_pre2                             0.041679\n",
       "lowestprice_pre2                    0.042440\n",
       "lasthtlordergap                     0.350918\n",
       "businessrate_pre2                   0.126075\n",
       "cityuvs                             0.011118\n",
       "cityorders                          0.056065\n",
       "lastpvgap                           0.140775\n",
       "cr                                  0.336330\n",
       "sid                                 0.000000\n",
       "visitnum_oneyear                    0.140642\n",
       "h                                   0.000000\n",
       "dtype: float64"
      ]
     },
     "execution_count": 7,
     "metadata": {},
     "output_type": "execute_result"
    }
   ],
   "source": [
    "f = data.isnull().sum()/data.shape[0]\n",
    "f"
   ]
  },
  {
   "cell_type": "code",
   "execution_count": 8,
   "metadata": {},
   "outputs": [
    {
     "data": {
      "image/png": "[encoded data removed]",
      "text/plain": [
       "<Figure size 640x480 with 1 Axes>"
      ]
     },
     "metadata": {},
     "output_type": "display_data"
    }
   ],
   "source": [
    "plt.hist(f,bins=f.count())\n",
    "plt.show()"
   ]
  },
  {
   "cell_type": "code",
   "execution_count": 31,
   "metadata": {},
   "outputs": [
    {
     "data": {
      "text/plain": [
       "(array([12.,  1.,  8.,  4.,  0.,  1.,  0.,  2.,  2.,  0.,  0.,  0.,  1.,\n",
       "         0.,  0.,  0.,  0.,  1.,  3.,  2.,  5.,  3.,  0.,  0.,  0.,  3.,\n",
       "         1.,  0.,  0.,  0.,  0.,  0.,  1.,  0.,  0.,  0.,  0.,  0.,  0.,\n",
       "         0.,  0.,  0.,  0.,  0.,  0.,  0.,  0.,  0.,  0.,  0.,  1.]),\n",
       " array([0.        , 0.01725145, 0.03450289, 0.05175434, 0.06900578,\n",
       "        0.08625723, 0.10350868, 0.12076012, 0.13801157, 0.15526302,\n",
       "        0.17251446, 0.18976591, 0.20701735, 0.2242688 , 0.24152025,\n",
       "        0.25877169, 0.27602314, 0.29327458, 0.31052603, 0.32777748,\n",
       "        0.34502892, 0.36228037, 0.37953182, 0.39678326, 0.41403471,\n",
       "        0.43128615, 0.4485376 , 0.46578905, 0.48304049, 0.50029194,\n",
       "        0.51754338, 0.53479483, 0.55204628, 0.56929772, 0.58654917,\n",
       "        0.60380062, 0.62105206, 0.63830351, 0.65555495, 0.6728064 ,\n",
       "        0.69005785, 0.70730929, 0.72456074, 0.74181218, 0.75906363,\n",
       "        0.77631508, 0.79356652, 0.81081797, 0.82806942, 0.84532086,\n",
       "        0.86257231, 0.87982375]),\n",
       " <BarContainer object of 51 artists>)"
      ]
     },
     "execution_count": 31,
     "metadata": {},
     "output_type": "execute_result"
    },
    {
     "data": {
      "image/png": "[encoded data removed]",
      "text/plain": [
       "<Figure size 640x480 with 1 Axes>"
      ]
     },
     "metadata": {},
     "output_type": "display_data"
    }
   ],
   "source": [
    "plt.hist(f,bins=f.count())\n",
    "#plt.show()"
   ]
  },
  {
   "cell_type": "code",
   "execution_count": 33,
   "metadata": {},
   "outputs": [
    {
     "data": {
      "text/plain": [
       "(array([25.,  5.,  1., 10.,  6.,  2.,  1.,  0.,  0.,  1.]),\n",
       " array([0.        , 0.08798238, 0.17596475, 0.26394713, 0.3519295 ,\n",
       "        0.43991188, 0.52789425, 0.61587663, 0.703859  , 0.79184138,\n",
       "        0.87982375]),\n",
       " <BarContainer object of 10 artists>)"
      ]
     },
     "execution_count": 33,
     "metadata": {},
     "output_type": "execute_result"
    },
    {
     "data": {
      "image/png": "[encoded data removed]",
      "text/plain": [
       "<Figure size 640x480 with 1 Axes>"
      ]
     },
     "metadata": {},
     "output_type": "display_data"
    }
   ],
   "source": [
    "plt.hist(f,bins=10)\n",
    "#plt.show()"
   ]
  },
  {
   "cell_type": "code",
   "execution_count": 41,
   "metadata": {},
   "outputs": [
    {
     "name": "stderr",
     "output_type": "stream",
     "text": [
      "C:\\Users\\86159\\AppData\\Local\\Packages\\PythonSoftwareFoundation.Python.3.9_qbz5n2kfra8p0\\LocalCache\\local-packages\\Python39\\site-packages\\seaborn\\distributions.py:2619: FutureWarning: `distplot` is a deprecated function and will be removed in a future version. Please adapt your code to use either `displot` (a figure-level function with similar flexibility) or `histplot` (an axes-level function for histograms).\n",
      "  warnings.warn(msg, FutureWarning)\n"
     ]
    },
    {
     "data": {
      "text/plain": [
       "<AxesSubplot:ylabel='Density'>"
      ]
     },
     "execution_count": 41,
     "metadata": {},
     "output_type": "execute_result"
    },
    {
     "data": {
      "image/png": "[encoded data removed]",
      "text/plain": [
       "<Figure size 640x480 with 1 Axes>"
      ]
     },
     "metadata": {},
     "output_type": "display_data"
    }
   ],
   "source": [
    "import seaborn as sns\n",
    "sns.distplot(f,\n",
    "            kde=True, # 线有无\n",
    "            hist=True) # 直方图有无\n",
    "#plt.show()"
   ]
  },
  {
   "cell_type": "code",
   "execution_count": 13,
   "metadata": {},
   "outputs": [
    {
     "data": {
      "image/png": "[encoded data removed]",
      "text/plain": [
       "<Figure size 640x480 with 1 Axes>"
      ]
     },
     "metadata": {},
     "output_type": "display_data"
    }
   ],
   "source": [
    "sns.kdeplot(f,shade=True) # https://zhuanlan.zhihu.com/p/409152814\n",
    "plt.xlabel('缺失比')\n",
    "plt.show()"
   ]
  },
  {
   "cell_type": "code",
   "execution_count": 16,
   "metadata": {},
   "outputs": [
    {
     "data": {
      "text/plain": [
       "<AxesSubplot:xlabel='缺失比', ylabel='Density'>"
      ]
     },
     "execution_count": 16,
     "metadata": {},
     "output_type": "execute_result"
    },
    {
     "data": {
      "image/png": "[encoded data removed]",
      "text/plain": [
       "<Figure size 576x432 with 1 Axes>"
      ]
     },
     "metadata": {
      "needs_background": "light"
     },
     "output_type": "display_data"
    }
   ],
   "source": []
  },
  {
   "cell_type": "markdown",
   "metadata": {},
   "source": [
    "### 14 - 数据可视化\n",
    "\n",
    "使用条形图可视化缺失值"
   ]
  },
  {
   "cell_type": "code",
   "execution_count": 15,
   "metadata": {},
   "outputs": [],
   "source": [
    "c = pd.DataFrame((data.isnull().sum()/data.shape[0]).sort_values(ascending=True)).reset_index()\n",
    "y = c.index\n",
    "x = c[0]"
   ]
  },
  {
   "cell_type": "code",
   "execution_count": 21,
   "metadata": {},
   "outputs": [
    {
     "data": {
      "image/png": "[encoded data removed]",
      "text/plain": [
       "<Figure size 640x480 with 1 Axes>"
      ]
     },
     "metadata": {},
     "output_type": "display_data"
    }
   ],
   "source": [
    "plt.barh(y,x,label='缺失比')\n",
    "plt.legend(loc = 4) # https://matplotlib.org/stable/api/_as_gen/matplotlib.pyplot.legend.html\n",
    "plt.show()"
   ]
  },
  {
   "cell_type": "code",
   "execution_count": 17,
   "metadata": {},
   "outputs": [
    {
     "data": {
      "image/png": "[encoded data removed]",
      "text/plain": [
       "<Figure size 576x432 with 1 Axes>"
      ]
     },
     "metadata": {
      "needs_background": "light"
     },
     "output_type": "display_data"
    }
   ],
   "source": []
  },
  {
   "cell_type": "markdown",
   "metadata": {},
   "source": [
    "### 15 - 修改索引\n",
    "\n",
    "将 null 的索引设置为 特征，列名为缺失比"
   ]
  },
  {
   "cell_type": "code",
   "execution_count": 44,
   "metadata": {},
   "outputs": [
    {
     "data": {
      "text/html": [
       "<div>\n",
       "<style scoped>\n",
       "    .dataframe tbody tr th:only-of-type {\n",
       "        vertical-align: middle;\n",
       "    }\n",
       "\n",
       "    .dataframe tbody tr th {\n",
       "        vertical-align: top;\n",
       "    }\n",
       "\n",
       "    .dataframe thead th {\n",
       "        text-align: right;\n",
       "    }\n",
       "</style>\n",
       "<table border=\"1\" class=\"dataframe\">\n",
       "  <thead>\n",
       "    <tr style=\"text-align: right;\">\n",
       "      <th></th>\n",
       "      <th>缺失比</th>\n",
       "    </tr>\n",
       "    <tr>\n",
       "      <th>特征</th>\n",
       "      <th></th>\n",
       "    </tr>\n",
       "  </thead>\n",
       "  <tbody>\n",
       "    <tr>\n",
       "      <th>label</th>\n",
       "      <td>0.000000</td>\n",
       "    </tr>\n",
       "    <tr>\n",
       "      <th>sampleid</th>\n",
       "      <td>0.000000</td>\n",
       "    </tr>\n",
       "    <tr>\n",
       "      <th>d</th>\n",
       "      <td>0.000000</td>\n",
       "    </tr>\n",
       "    <tr>\n",
       "      <th>arrival</th>\n",
       "      <td>0.000000</td>\n",
       "    </tr>\n",
       "    <tr>\n",
       "      <th>iforderpv_24h</th>\n",
       "      <td>0.000000</td>\n",
       "    </tr>\n",
       "    <tr>\n",
       "      <th>decisionhabit_user</th>\n",
       "      <td>0.441332</td>\n",
       "    </tr>\n",
       "    <tr>\n",
       "      <th>historyvisit_7ordernum</th>\n",
       "      <td>0.879824</td>\n",
       "    </tr>\n",
       "    <tr>\n",
       "      <th>historyvisit_totalordernum</th>\n",
       "      <td>0.439774</td>\n",
       "    </tr>\n",
       "    <tr>\n",
       "      <th>hotelcr</th>\n",
       "      <td>0.001155</td>\n",
       "    </tr>\n",
       "    <tr>\n",
       "      <th>ordercanceledprecent</th>\n",
       "      <td>0.350918</td>\n",
       "    </tr>\n",
       "    <tr>\n",
       "      <th>landhalfhours</th>\n",
       "      <td>0.041500</td>\n",
       "    </tr>\n",
       "    <tr>\n",
       "      <th>ordercanncelednum</th>\n",
       "      <td>0.350918</td>\n",
       "    </tr>\n",
       "    <tr>\n",
       "      <th>commentnums</th>\n",
       "      <td>0.098437</td>\n",
       "    </tr>\n",
       "    <tr>\n",
       "      <th>starprefer</th>\n",
       "      <td>0.326190</td>\n",
       "    </tr>\n",
       "    <tr>\n",
       "      <th>novoters</th>\n",
       "      <td>0.024679</td>\n",
       "    </tr>\n",
       "    <tr>\n",
       "      <th>consuming_capacity</th>\n",
       "      <td>0.327719</td>\n",
       "    </tr>\n",
       "    <tr>\n",
       "      <th>historyvisit_avghotelnum</th>\n",
       "      <td>0.437816</td>\n",
       "    </tr>\n",
       "    <tr>\n",
       "      <th>cancelrate</th>\n",
       "      <td>0.016984</td>\n",
       "    </tr>\n",
       "    <tr>\n",
       "      <th>historyvisit_visit_detailpagenum</th>\n",
       "      <td>0.554698</td>\n",
       "    </tr>\n",
       "    <tr>\n",
       "      <th>delta_price1</th>\n",
       "      <td>0.366405</td>\n",
       "    </tr>\n",
       "    <tr>\n",
       "      <th>price_sensitive</th>\n",
       "      <td>0.327719</td>\n",
       "    </tr>\n",
       "    <tr>\n",
       "      <th>hoteluv</th>\n",
       "      <td>0.001155</td>\n",
       "    </tr>\n",
       "    <tr>\n",
       "      <th>businessrate_pre</th>\n",
       "      <td>0.298646</td>\n",
       "    </tr>\n",
       "    <tr>\n",
       "      <th>ordernum_oneyear</th>\n",
       "      <td>0.350918</td>\n",
       "    </tr>\n",
       "    <tr>\n",
       "      <th>cr_pre</th>\n",
       "      <td>0.042608</td>\n",
       "    </tr>\n",
       "    <tr>\n",
       "      <th>avgprice</th>\n",
       "      <td>0.337250</td>\n",
       "    </tr>\n",
       "    <tr>\n",
       "      <th>lowestprice</th>\n",
       "      <td>0.002919</td>\n",
       "    </tr>\n",
       "    <tr>\n",
       "      <th>firstorder_bu</th>\n",
       "      <td>0.453590</td>\n",
       "    </tr>\n",
       "    <tr>\n",
       "      <th>customereval_pre2</th>\n",
       "      <td>0.041500</td>\n",
       "    </tr>\n",
       "    <tr>\n",
       "      <th>delta_price2</th>\n",
       "      <td>0.365529</td>\n",
       "    </tr>\n",
       "    <tr>\n",
       "      <th>commentnums_pre</th>\n",
       "      <td>0.132731</td>\n",
       "    </tr>\n",
       "    <tr>\n",
       "      <th>customer_value_profit</th>\n",
       "      <td>0.363539</td>\n",
       "    </tr>\n",
       "    <tr>\n",
       "      <th>commentnums_pre2</th>\n",
       "      <td>0.060132</td>\n",
       "    </tr>\n",
       "    <tr>\n",
       "      <th>cancelrate_pre</th>\n",
       "      <td>0.053526</td>\n",
       "    </tr>\n",
       "    <tr>\n",
       "      <th>novoters_pre2</th>\n",
       "      <td>0.046857</td>\n",
       "    </tr>\n",
       "    <tr>\n",
       "      <th>novoters_pre</th>\n",
       "      <td>0.059409</td>\n",
       "    </tr>\n",
       "    <tr>\n",
       "      <th>ctrip_profits</th>\n",
       "      <td>0.354750</td>\n",
       "    </tr>\n",
       "    <tr>\n",
       "      <th>deltaprice_pre2_t1</th>\n",
       "      <td>0.212720</td>\n",
       "    </tr>\n",
       "    <tr>\n",
       "      <th>lowestprice_pre</th>\n",
       "      <td>0.043853</td>\n",
       "    </tr>\n",
       "    <tr>\n",
       "      <th>uv_pre</th>\n",
       "      <td>0.042608</td>\n",
       "    </tr>\n",
       "    <tr>\n",
       "      <th>uv_pre2</th>\n",
       "      <td>0.041679</td>\n",
       "    </tr>\n",
       "    <tr>\n",
       "      <th>lowestprice_pre2</th>\n",
       "      <td>0.042440</td>\n",
       "    </tr>\n",
       "    <tr>\n",
       "      <th>lasthtlordergap</th>\n",
       "      <td>0.350918</td>\n",
       "    </tr>\n",
       "    <tr>\n",
       "      <th>businessrate_pre2</th>\n",
       "      <td>0.126075</td>\n",
       "    </tr>\n",
       "    <tr>\n",
       "      <th>cityuvs</th>\n",
       "      <td>0.011118</td>\n",
       "    </tr>\n",
       "    <tr>\n",
       "      <th>cityorders</th>\n",
       "      <td>0.056065</td>\n",
       "    </tr>\n",
       "    <tr>\n",
       "      <th>lastpvgap</th>\n",
       "      <td>0.140775</td>\n",
       "    </tr>\n",
       "    <tr>\n",
       "      <th>cr</th>\n",
       "      <td>0.336330</td>\n",
       "    </tr>\n",
       "    <tr>\n",
       "      <th>sid</th>\n",
       "      <td>0.000000</td>\n",
       "    </tr>\n",
       "    <tr>\n",
       "      <th>visitnum_oneyear</th>\n",
       "      <td>0.140642</td>\n",
       "    </tr>\n",
       "    <tr>\n",
       "      <th>h</th>\n",
       "      <td>0.000000</td>\n",
       "    </tr>\n",
       "  </tbody>\n",
       "</table>\n",
       "</div>"
      ],
      "text/plain": [
       "                                       缺失比\n",
       "特征                                        \n",
       "label                             0.000000\n",
       "sampleid                          0.000000\n",
       "d                                 0.000000\n",
       "arrival                           0.000000\n",
       "iforderpv_24h                     0.000000\n",
       "decisionhabit_user                0.441332\n",
       "historyvisit_7ordernum            0.879824\n",
       "historyvisit_totalordernum        0.439774\n",
       "hotelcr                           0.001155\n",
       "ordercanceledprecent              0.350918\n",
       "landhalfhours                     0.041500\n",
       "ordercanncelednum                 0.350918\n",
       "commentnums                       0.098437\n",
       "starprefer                        0.326190\n",
       "novoters                          0.024679\n",
       "consuming_capacity                0.327719\n",
       "historyvisit_avghotelnum          0.437816\n",
       "cancelrate                        0.016984\n",
       "historyvisit_visit_detailpagenum  0.554698\n",
       "delta_price1                      0.366405\n",
       "price_sensitive                   0.327719\n",
       "hoteluv                           0.001155\n",
       "businessrate_pre                  0.298646\n",
       "ordernum_oneyear                  0.350918\n",
       "cr_pre                            0.042608\n",
       "avgprice                          0.337250\n",
       "lowestprice                       0.002919\n",
       "firstorder_bu                     0.453590\n",
       "customereval_pre2                 0.041500\n",
       "delta_price2                      0.365529\n",
       "commentnums_pre                   0.132731\n",
       "customer_value_profit             0.363539\n",
       "commentnums_pre2                  0.060132\n",
       "cancelrate_pre                    0.053526\n",
       "novoters_pre2                     0.046857\n",
       "novoters_pre                      0.059409\n",
       "ctrip_profits                     0.354750\n",
       "deltaprice_pre2_t1                0.212720\n",
       "lowestprice_pre                   0.043853\n",
       "uv_pre                            0.042608\n",
       "uv_pre2                           0.041679\n",
       "lowestprice_pre2                  0.042440\n",
       "lasthtlordergap                   0.350918\n",
       "businessrate_pre2                 0.126075\n",
       "cityuvs                           0.011118\n",
       "cityorders                        0.056065\n",
       "lastpvgap                         0.140775\n",
       "cr                                0.336330\n",
       "sid                               0.000000\n",
       "visitnum_oneyear                  0.140642\n",
       "h                                 0.000000"
      ]
     },
     "execution_count": 44,
     "metadata": {},
     "output_type": "execute_result"
    }
   ],
   "source": [
    "pd.DataFrame(data.isnull().sum()/data.shape[0]).reset_index().rename(columns={'index':'特征',0:'缺失比'}).set_index('特征')"
   ]
  },
  {
   "cell_type": "code",
   "execution_count": 18,
   "metadata": {
    "scrolled": true
   },
   "outputs": [
    {
     "data": {
      "text/html": [
       "<div>\n",
       "<style scoped>\n",
       "    .dataframe tbody tr th:only-of-type {\n",
       "        vertical-align: middle;\n",
       "    }\n",
       "\n",
       "    .dataframe tbody tr th {\n",
       "        vertical-align: top;\n",
       "    }\n",
       "\n",
       "    .dataframe thead th {\n",
       "        text-align: right;\n",
       "    }\n",
       "</style>\n",
       "<table border=\"1\" class=\"dataframe\">\n",
       "  <thead>\n",
       "    <tr style=\"text-align: right;\">\n",
       "      <th></th>\n",
       "      <th>缺失比</th>\n",
       "    </tr>\n",
       "    <tr>\n",
       "      <th>特征</th>\n",
       "      <th></th>\n",
       "    </tr>\n",
       "  </thead>\n",
       "  <tbody>\n",
       "    <tr>\n",
       "      <th>label</th>\n",
       "      <td>0.000000</td>\n",
       "    </tr>\n",
       "    <tr>\n",
       "      <th>sid</th>\n",
       "      <td>0.000000</td>\n",
       "    </tr>\n",
       "    <tr>\n",
       "      <th>iforderpv_24h</th>\n",
       "      <td>0.000000</td>\n",
       "    </tr>\n",
       "    <tr>\n",
       "      <th>h</th>\n",
       "      <td>0.000000</td>\n",
       "    </tr>\n",
       "    <tr>\n",
       "      <th>d</th>\n",
       "      <td>0.000000</td>\n",
       "    </tr>\n",
       "    <tr>\n",
       "      <th>sampleid</th>\n",
       "      <td>0.000000</td>\n",
       "    </tr>\n",
       "    <tr>\n",
       "      <th>arrival</th>\n",
       "      <td>0.000000</td>\n",
       "    </tr>\n",
       "    <tr>\n",
       "      <th>hotelcr</th>\n",
       "      <td>0.001155</td>\n",
       "    </tr>\n",
       "    <tr>\n",
       "      <th>hoteluv</th>\n",
       "      <td>0.001155</td>\n",
       "    </tr>\n",
       "    <tr>\n",
       "      <th>lowestprice</th>\n",
       "      <td>0.002919</td>\n",
       "    </tr>\n",
       "    <tr>\n",
       "      <th>cityuvs</th>\n",
       "      <td>0.011118</td>\n",
       "    </tr>\n",
       "    <tr>\n",
       "      <th>cancelrate</th>\n",
       "      <td>0.016984</td>\n",
       "    </tr>\n",
       "    <tr>\n",
       "      <th>novoters</th>\n",
       "      <td>0.024679</td>\n",
       "    </tr>\n",
       "    <tr>\n",
       "      <th>customereval_pre2</th>\n",
       "      <td>0.041500</td>\n",
       "    </tr>\n",
       "    <tr>\n",
       "      <th>landhalfhours</th>\n",
       "      <td>0.041500</td>\n",
       "    </tr>\n",
       "    <tr>\n",
       "      <th>uv_pre2</th>\n",
       "      <td>0.041679</td>\n",
       "    </tr>\n",
       "    <tr>\n",
       "      <th>lowestprice_pre2</th>\n",
       "      <td>0.042440</td>\n",
       "    </tr>\n",
       "    <tr>\n",
       "      <th>uv_pre</th>\n",
       "      <td>0.042608</td>\n",
       "    </tr>\n",
       "    <tr>\n",
       "      <th>cr_pre</th>\n",
       "      <td>0.042608</td>\n",
       "    </tr>\n",
       "    <tr>\n",
       "      <th>lowestprice_pre</th>\n",
       "      <td>0.043853</td>\n",
       "    </tr>\n",
       "    <tr>\n",
       "      <th>novoters_pre2</th>\n",
       "      <td>0.046857</td>\n",
       "    </tr>\n",
       "    <tr>\n",
       "      <th>cancelrate_pre</th>\n",
       "      <td>0.053526</td>\n",
       "    </tr>\n",
       "    <tr>\n",
       "      <th>cityorders</th>\n",
       "      <td>0.056065</td>\n",
       "    </tr>\n",
       "    <tr>\n",
       "      <th>novoters_pre</th>\n",
       "      <td>0.059409</td>\n",
       "    </tr>\n",
       "    <tr>\n",
       "      <th>commentnums_pre2</th>\n",
       "      <td>0.060132</td>\n",
       "    </tr>\n",
       "    <tr>\n",
       "      <th>commentnums</th>\n",
       "      <td>0.098437</td>\n",
       "    </tr>\n",
       "    <tr>\n",
       "      <th>businessrate_pre2</th>\n",
       "      <td>0.126075</td>\n",
       "    </tr>\n",
       "    <tr>\n",
       "      <th>commentnums_pre</th>\n",
       "      <td>0.132731</td>\n",
       "    </tr>\n",
       "    <tr>\n",
       "      <th>visitnum_oneyear</th>\n",
       "      <td>0.140642</td>\n",
       "    </tr>\n",
       "    <tr>\n",
       "      <th>lastpvgap</th>\n",
       "      <td>0.140775</td>\n",
       "    </tr>\n",
       "    <tr>\n",
       "      <th>deltaprice_pre2_t1</th>\n",
       "      <td>0.212720</td>\n",
       "    </tr>\n",
       "    <tr>\n",
       "      <th>businessrate_pre</th>\n",
       "      <td>0.298646</td>\n",
       "    </tr>\n",
       "    <tr>\n",
       "      <th>starprefer</th>\n",
       "      <td>0.326190</td>\n",
       "    </tr>\n",
       "    <tr>\n",
       "      <th>price_sensitive</th>\n",
       "      <td>0.327719</td>\n",
       "    </tr>\n",
       "    <tr>\n",
       "      <th>consuming_capacity</th>\n",
       "      <td>0.327719</td>\n",
       "    </tr>\n",
       "    <tr>\n",
       "      <th>cr</th>\n",
       "      <td>0.336330</td>\n",
       "    </tr>\n",
       "    <tr>\n",
       "      <th>avgprice</th>\n",
       "      <td>0.337250</td>\n",
       "    </tr>\n",
       "    <tr>\n",
       "      <th>ordernum_oneyear</th>\n",
       "      <td>0.350918</td>\n",
       "    </tr>\n",
       "    <tr>\n",
       "      <th>lasthtlordergap</th>\n",
       "      <td>0.350918</td>\n",
       "    </tr>\n",
       "    <tr>\n",
       "      <th>ordercanncelednum</th>\n",
       "      <td>0.350918</td>\n",
       "    </tr>\n",
       "    <tr>\n",
       "      <th>ordercanceledprecent</th>\n",
       "      <td>0.350918</td>\n",
       "    </tr>\n",
       "    <tr>\n",
       "      <th>ctrip_profits</th>\n",
       "      <td>0.354750</td>\n",
       "    </tr>\n",
       "    <tr>\n",
       "      <th>customer_value_profit</th>\n",
       "      <td>0.363539</td>\n",
       "    </tr>\n",
       "    <tr>\n",
       "      <th>delta_price2</th>\n",
       "      <td>0.365529</td>\n",
       "    </tr>\n",
       "    <tr>\n",
       "      <th>delta_price1</th>\n",
       "      <td>0.366405</td>\n",
       "    </tr>\n",
       "    <tr>\n",
       "      <th>historyvisit_avghotelnum</th>\n",
       "      <td>0.437816</td>\n",
       "    </tr>\n",
       "    <tr>\n",
       "      <th>historyvisit_totalordernum</th>\n",
       "      <td>0.439774</td>\n",
       "    </tr>\n",
       "    <tr>\n",
       "      <th>decisionhabit_user</th>\n",
       "      <td>0.441332</td>\n",
       "    </tr>\n",
       "    <tr>\n",
       "      <th>firstorder_bu</th>\n",
       "      <td>0.453590</td>\n",
       "    </tr>\n",
       "    <tr>\n",
       "      <th>historyvisit_visit_detailpagenum</th>\n",
       "      <td>0.554698</td>\n",
       "    </tr>\n",
       "    <tr>\n",
       "      <th>historyvisit_7ordernum</th>\n",
       "      <td>0.879824</td>\n",
       "    </tr>\n",
       "  </tbody>\n",
       "</table>\n",
       "</div>"
      ],
      "text/plain": [
       "                                       缺失比\n",
       "特征                                        \n",
       "label                             0.000000\n",
       "sid                               0.000000\n",
       "iforderpv_24h                     0.000000\n",
       "h                                 0.000000\n",
       "d                                 0.000000\n",
       "sampleid                          0.000000\n",
       "arrival                           0.000000\n",
       "hotelcr                           0.001155\n",
       "hoteluv                           0.001155\n",
       "lowestprice                       0.002919\n",
       "cityuvs                           0.011118\n",
       "cancelrate                        0.016984\n",
       "novoters                          0.024679\n",
       "customereval_pre2                 0.041500\n",
       "landhalfhours                     0.041500\n",
       "uv_pre2                           0.041679\n",
       "lowestprice_pre2                  0.042440\n",
       "uv_pre                            0.042608\n",
       "cr_pre                            0.042608\n",
       "lowestprice_pre                   0.043853\n",
       "novoters_pre2                     0.046857\n",
       "cancelrate_pre                    0.053526\n",
       "cityorders                        0.056065\n",
       "novoters_pre                      0.059409\n",
       "commentnums_pre2                  0.060132\n",
       "commentnums                       0.098437\n",
       "businessrate_pre2                 0.126075\n",
       "commentnums_pre                   0.132731\n",
       "visitnum_oneyear                  0.140642\n",
       "lastpvgap                         0.140775\n",
       "deltaprice_pre2_t1                0.212720\n",
       "businessrate_pre                  0.298646\n",
       "starprefer                        0.326190\n",
       "price_sensitive                   0.327719\n",
       "consuming_capacity                0.327719\n",
       "cr                                0.336330\n",
       "avgprice                          0.337250\n",
       "ordernum_oneyear                  0.350918\n",
       "lasthtlordergap                   0.350918\n",
       "ordercanncelednum                 0.350918\n",
       "ordercanceledprecent              0.350918\n",
       "ctrip_profits                     0.354750\n",
       "customer_value_profit             0.363539\n",
       "delta_price2                      0.365529\n",
       "delta_price1                      0.366405\n",
       "historyvisit_avghotelnum          0.437816\n",
       "historyvisit_totalordernum        0.439774\n",
       "decisionhabit_user                0.441332\n",
       "firstorder_bu                     0.453590\n",
       "historyvisit_visit_detailpagenum  0.554698\n",
       "historyvisit_7ordernum            0.879824"
      ]
     },
     "execution_count": 18,
     "metadata": {},
     "output_type": "execute_result"
    }
   ],
   "source": []
  },
  {
   "cell_type": "markdown",
   "metadata": {},
   "source": [
    "### 16 - 数据删除\n",
    "\n",
    "\n",
    "**删除缺失比例为0.879824**的列"
   ]
  },
  {
   "cell_type": "code",
   "execution_count": 78,
   "metadata": {},
   "outputs": [
    {
     "data": {
      "text/plain": [
       "historyvisit_7ordernum              0.879824\n",
       "historyvisit_visit_detailpagenum    0.554698\n",
       "firstorder_bu                       0.453590\n",
       "decisionhabit_user                  0.441332\n",
       "historyvisit_totalordernum          0.439774\n",
       "historyvisit_avghotelnum            0.437816\n",
       "delta_price1                        0.366405\n",
       "delta_price2                        0.365529\n",
       "customer_value_profit               0.363539\n",
       "ctrip_profits                       0.354750\n",
       "ordernum_oneyear                    0.350918\n",
       "ordercanceledprecent                0.350918\n",
       "ordercanncelednum                   0.350918\n",
       "lasthtlordergap                     0.350918\n",
       "avgprice                            0.337250\n",
       "cr                                  0.336330\n",
       "consuming_capacity                  0.327719\n",
       "price_sensitive                     0.327719\n",
       "starprefer                          0.326190\n",
       "businessrate_pre                    0.298646\n",
       "deltaprice_pre2_t1                  0.212720\n",
       "lastpvgap                           0.140775\n",
       "visitnum_oneyear                    0.140642\n",
       "commentnums_pre                     0.132731\n",
       "businessrate_pre2                   0.126075\n",
       "commentnums                         0.098437\n",
       "commentnums_pre2                    0.060132\n",
       "novoters_pre                        0.059409\n",
       "cityorders                          0.056065\n",
       "cancelrate_pre                      0.053526\n",
       "novoters_pre2                       0.046857\n",
       "lowestprice_pre                     0.043853\n",
       "uv_pre                              0.042608\n",
       "cr_pre                              0.042608\n",
       "lowestprice_pre2                    0.042440\n",
       "uv_pre2                             0.041679\n",
       "customereval_pre2                   0.041500\n",
       "landhalfhours                       0.041500\n",
       "novoters                            0.024679\n",
       "cancelrate                          0.016984\n",
       "cityuvs                             0.011118\n",
       "lowestprice                         0.002919\n",
       "hoteluv                             0.001155\n",
       "hotelcr                             0.001155\n",
       "sid                                 0.000000\n",
       "label                               0.000000\n",
       "sampleid                            0.000000\n",
       "iforderpv_24h                       0.000000\n",
       "arrival                             0.000000\n",
       "d                                   0.000000\n",
       "h                                   0.000000\n",
       "dtype: float64"
      ]
     },
     "execution_count": 78,
     "metadata": {},
     "output_type": "execute_result"
    }
   ],
   "source": [
    "(data.isnull().sum()/data.shape[0]).sort_values(ascending=False)"
   ]
  },
  {
   "cell_type": "code",
   "execution_count": 77,
   "metadata": {},
   "outputs": [
    {
     "data": {
      "text/plain": [
       "historyvisit_7ordernum              False\n",
       "historyvisit_visit_detailpagenum    False\n",
       "firstorder_bu                       False\n",
       "decisionhabit_user                  False\n",
       "historyvisit_totalordernum          False\n",
       "historyvisit_avghotelnum            False\n",
       "delta_price1                        False\n",
       "delta_price2                        False\n",
       "customer_value_profit               False\n",
       "ctrip_profits                       False\n",
       "ordernum_oneyear                    False\n",
       "ordercanceledprecent                False\n",
       "ordercanncelednum                   False\n",
       "lasthtlordergap                     False\n",
       "avgprice                            False\n",
       "cr                                  False\n",
       "consuming_capacity                  False\n",
       "price_sensitive                     False\n",
       "starprefer                          False\n",
       "businessrate_pre                    False\n",
       "deltaprice_pre2_t1                  False\n",
       "lastpvgap                           False\n",
       "visitnum_oneyear                    False\n",
       "commentnums_pre                     False\n",
       "businessrate_pre2                   False\n",
       "commentnums                         False\n",
       "commentnums_pre2                    False\n",
       "novoters_pre                        False\n",
       "cityorders                          False\n",
       "cancelrate_pre                      False\n",
       "novoters_pre2                       False\n",
       "lowestprice_pre                     False\n",
       "uv_pre                              False\n",
       "cr_pre                              False\n",
       "lowestprice_pre2                    False\n",
       "uv_pre2                             False\n",
       "customereval_pre2                   False\n",
       "landhalfhours                       False\n",
       "novoters                            False\n",
       "cancelrate                          False\n",
       "cityuvs                             False\n",
       "lowestprice                         False\n",
       "hoteluv                             False\n",
       "hotelcr                             False\n",
       "sid                                 False\n",
       "label                               False\n",
       "sampleid                            False\n",
       "iforderpv_24h                       False\n",
       "arrival                             False\n",
       "d                                   False\n",
       "h                                   False\n",
       "dtype: bool"
      ]
     },
     "execution_count": 77,
     "metadata": {},
     "output_type": "execute_result"
    }
   ],
   "source": [
    "(data.isnull().sum()/data.shape[0]).sort_values(ascending=False)==0.879824"
   ]
  },
  {
   "cell_type": "markdown",
   "metadata": {},
   "source": [
    "尽管最大缺失率显示是 0.879824 ，但实际上的值并不是，无法通过缺失率筛选"
   ]
  },
  {
   "cell_type": "code",
   "execution_count": 80,
   "metadata": {},
   "outputs": [
    {
     "data": {
      "text/plain": [
       "historyvisit_7ordernum              607030\n",
       "historyvisit_visit_detailpagenum    382711\n",
       "firstorder_bu                       312952\n",
       "decisionhabit_user                  304495\n",
       "historyvisit_totalordernum          303420\n",
       "historyvisit_avghotelnum            302069\n",
       "delta_price1                        252799\n",
       "delta_price2                        252195\n",
       "customer_value_profit               250822\n",
       "ctrip_profits                       244758\n",
       "ordernum_oneyear                    242114\n",
       "ordercanceledprecent                242114\n",
       "ordercanncelednum                   242114\n",
       "lasthtlordergap                     242114\n",
       "avgprice                            232684\n",
       "cr                                  232049\n",
       "consuming_capacity                  226108\n",
       "price_sensitive                     226108\n",
       "starprefer                          225053\n",
       "businessrate_pre                    206049\n",
       "deltaprice_pre2_t1                  146765\n",
       "lastpvgap                            97127\n",
       "visitnum_oneyear                     97035\n",
       "commentnums_pre                      91577\n",
       "businessrate_pre2                    86985\n",
       "commentnums                          67916\n",
       "commentnums_pre2                     41488\n",
       "novoters_pre                         40989\n",
       "cityorders                           38682\n",
       "cancelrate_pre                       36930\n",
       "novoters_pre2                        32329\n",
       "lowestprice_pre                      30256\n",
       "uv_pre                               29397\n",
       "cr_pre                               29397\n",
       "lowestprice_pre2                     29281\n",
       "uv_pre2                              28756\n",
       "customereval_pre2                    28633\n",
       "landhalfhours                        28633\n",
       "novoters                             17027\n",
       "cancelrate                           11718\n",
       "cityuvs                               7671\n",
       "lowestprice                           2014\n",
       "hoteluv                                797\n",
       "hotelcr                                797\n",
       "sid                                      0\n",
       "label                                    0\n",
       "sampleid                                 0\n",
       "iforderpv_24h                            0\n",
       "arrival                                  0\n",
       "d                                        0\n",
       "h                                        0\n",
       "dtype: int64"
      ]
     },
     "execution_count": 80,
     "metadata": {},
     "output_type": "execute_result"
    }
   ],
   "source": [
    "data.isnull().sum().sort_values(ascending=False)"
   ]
  },
  {
   "cell_type": "code",
   "execution_count": 81,
   "metadata": {},
   "outputs": [
    {
     "data": {
      "text/plain": [
       "label                               False\n",
       "sampleid                            False\n",
       "d                                   False\n",
       "arrival                             False\n",
       "iforderpv_24h                       False\n",
       "decisionhabit_user                  False\n",
       "historyvisit_7ordernum               True\n",
       "historyvisit_totalordernum          False\n",
       "hotelcr                             False\n",
       "ordercanceledprecent                False\n",
       "landhalfhours                       False\n",
       "ordercanncelednum                   False\n",
       "commentnums                         False\n",
       "starprefer                          False\n",
       "novoters                            False\n",
       "consuming_capacity                  False\n",
       "historyvisit_avghotelnum            False\n",
       "cancelrate                          False\n",
       "historyvisit_visit_detailpagenum    False\n",
       "delta_price1                        False\n",
       "price_sensitive                     False\n",
       "hoteluv                             False\n",
       "businessrate_pre                    False\n",
       "ordernum_oneyear                    False\n",
       "cr_pre                              False\n",
       "avgprice                            False\n",
       "lowestprice                         False\n",
       "firstorder_bu                       False\n",
       "customereval_pre2                   False\n",
       "delta_price2                        False\n",
       "commentnums_pre                     False\n",
       "customer_value_profit               False\n",
       "commentnums_pre2                    False\n",
       "cancelrate_pre                      False\n",
       "novoters_pre2                       False\n",
       "novoters_pre                        False\n",
       "ctrip_profits                       False\n",
       "deltaprice_pre2_t1                  False\n",
       "lowestprice_pre                     False\n",
       "uv_pre                              False\n",
       "uv_pre2                             False\n",
       "lowestprice_pre2                    False\n",
       "lasthtlordergap                     False\n",
       "businessrate_pre2                   False\n",
       "cityuvs                             False\n",
       "cityorders                          False\n",
       "lastpvgap                           False\n",
       "cr                                  False\n",
       "sid                                 False\n",
       "visitnum_oneyear                    False\n",
       "h                                   False\n",
       "dtype: bool"
      ]
     },
     "execution_count": 81,
     "metadata": {},
     "output_type": "execute_result"
    }
   ],
   "source": [
    "data.isnull().sum()==607030"
   ]
  },
  {
   "cell_type": "code",
   "execution_count": 84,
   "metadata": {},
   "outputs": [
    {
     "data": {
      "text/html": [
       "<div>\n",
       "<style scoped>\n",
       "    .dataframe tbody tr th:only-of-type {\n",
       "        vertical-align: middle;\n",
       "    }\n",
       "\n",
       "    .dataframe tbody tr th {\n",
       "        vertical-align: top;\n",
       "    }\n",
       "\n",
       "    .dataframe thead th {\n",
       "        text-align: right;\n",
       "    }\n",
       "</style>\n",
       "<table border=\"1\" class=\"dataframe\">\n",
       "  <thead>\n",
       "    <tr style=\"text-align: right;\">\n",
       "      <th></th>\n",
       "      <th>label</th>\n",
       "      <th>sampleid</th>\n",
       "      <th>d</th>\n",
       "      <th>arrival</th>\n",
       "      <th>iforderpv_24h</th>\n",
       "      <th>decisionhabit_user</th>\n",
       "      <th>historyvisit_totalordernum</th>\n",
       "      <th>hotelcr</th>\n",
       "      <th>ordercanceledprecent</th>\n",
       "      <th>landhalfhours</th>\n",
       "      <th>...</th>\n",
       "      <th>lowestprice_pre2</th>\n",
       "      <th>lasthtlordergap</th>\n",
       "      <th>businessrate_pre2</th>\n",
       "      <th>cityuvs</th>\n",
       "      <th>cityorders</th>\n",
       "      <th>lastpvgap</th>\n",
       "      <th>cr</th>\n",
       "      <th>sid</th>\n",
       "      <th>visitnum_oneyear</th>\n",
       "      <th>h</th>\n",
       "    </tr>\n",
       "  </thead>\n",
       "  <tbody>\n",
       "    <tr>\n",
       "      <th>0</th>\n",
       "      <td>0</td>\n",
       "      <td>24636</td>\n",
       "      <td>2016-05-18</td>\n",
       "      <td>2016-05-18</td>\n",
       "      <td>0</td>\n",
       "      <td>NaN</td>\n",
       "      <td>NaN</td>\n",
       "      <td>1.04</td>\n",
       "      <td>NaN</td>\n",
       "      <td>22.0</td>\n",
       "      <td>...</td>\n",
       "      <td>615.0</td>\n",
       "      <td>NaN</td>\n",
       "      <td>0.29</td>\n",
       "      <td>12.880</td>\n",
       "      <td>3.147</td>\n",
       "      <td>NaN</td>\n",
       "      <td>NaN</td>\n",
       "      <td>7</td>\n",
       "      <td>NaN</td>\n",
       "      <td>12</td>\n",
       "    </tr>\n",
       "    <tr>\n",
       "      <th>1</th>\n",
       "      <td>1</td>\n",
       "      <td>24637</td>\n",
       "      <td>2016-05-18</td>\n",
       "      <td>2016-05-18</td>\n",
       "      <td>0</td>\n",
       "      <td>NaN</td>\n",
       "      <td>NaN</td>\n",
       "      <td>1.06</td>\n",
       "      <td>NaN</td>\n",
       "      <td>0.0</td>\n",
       "      <td>...</td>\n",
       "      <td>513.0</td>\n",
       "      <td>NaN</td>\n",
       "      <td>0.53</td>\n",
       "      <td>17.933</td>\n",
       "      <td>4.913</td>\n",
       "      <td>NaN</td>\n",
       "      <td>NaN</td>\n",
       "      <td>33</td>\n",
       "      <td>NaN</td>\n",
       "      <td>14</td>\n",
       "    </tr>\n",
       "    <tr>\n",
       "      <th>2</th>\n",
       "      <td>0</td>\n",
       "      <td>24641</td>\n",
       "      <td>2016-05-18</td>\n",
       "      <td>2016-05-19</td>\n",
       "      <td>0</td>\n",
       "      <td>NaN</td>\n",
       "      <td>NaN</td>\n",
       "      <td>1.05</td>\n",
       "      <td>NaN</td>\n",
       "      <td>3.0</td>\n",
       "      <td>...</td>\n",
       "      <td>382.0</td>\n",
       "      <td>NaN</td>\n",
       "      <td>0.60</td>\n",
       "      <td>3.993</td>\n",
       "      <td>0.760</td>\n",
       "      <td>NaN</td>\n",
       "      <td>NaN</td>\n",
       "      <td>10</td>\n",
       "      <td>NaN</td>\n",
       "      <td>19</td>\n",
       "    </tr>\n",
       "    <tr>\n",
       "      <th>3</th>\n",
       "      <td>0</td>\n",
       "      <td>24642</td>\n",
       "      <td>2016-05-18</td>\n",
       "      <td>2016-05-18</td>\n",
       "      <td>0</td>\n",
       "      <td>NaN</td>\n",
       "      <td>NaN</td>\n",
       "      <td>1.01</td>\n",
       "      <td>NaN</td>\n",
       "      <td>2.0</td>\n",
       "      <td>...</td>\n",
       "      <td>203.0</td>\n",
       "      <td>NaN</td>\n",
       "      <td>0.18</td>\n",
       "      <td>3.220</td>\n",
       "      <td>0.660</td>\n",
       "      <td>NaN</td>\n",
       "      <td>NaN</td>\n",
       "      <td>8</td>\n",
       "      <td>NaN</td>\n",
       "      <td>16</td>\n",
       "    </tr>\n",
       "    <tr>\n",
       "      <th>4</th>\n",
       "      <td>1</td>\n",
       "      <td>24644</td>\n",
       "      <td>2016-05-18</td>\n",
       "      <td>2016-05-19</td>\n",
       "      <td>0</td>\n",
       "      <td>NaN</td>\n",
       "      <td>NaN</td>\n",
       "      <td>1.00</td>\n",
       "      <td>NaN</td>\n",
       "      <td>0.0</td>\n",
       "      <td>...</td>\n",
       "      <td>84.0</td>\n",
       "      <td>NaN</td>\n",
       "      <td>NaN</td>\n",
       "      <td>0.013</td>\n",
       "      <td>NaN</td>\n",
       "      <td>NaN</td>\n",
       "      <td>NaN</td>\n",
       "      <td>1</td>\n",
       "      <td>NaN</td>\n",
       "      <td>21</td>\n",
       "    </tr>\n",
       "    <tr>\n",
       "      <th>...</th>\n",
       "      <td>...</td>\n",
       "      <td>...</td>\n",
       "      <td>...</td>\n",
       "      <td>...</td>\n",
       "      <td>...</td>\n",
       "      <td>...</td>\n",
       "      <td>...</td>\n",
       "      <td>...</td>\n",
       "      <td>...</td>\n",
       "      <td>...</td>\n",
       "      <td>...</td>\n",
       "      <td>...</td>\n",
       "      <td>...</td>\n",
       "      <td>...</td>\n",
       "      <td>...</td>\n",
       "      <td>...</td>\n",
       "      <td>...</td>\n",
       "      <td>...</td>\n",
       "      <td>...</td>\n",
       "      <td>...</td>\n",
       "      <td>...</td>\n",
       "    </tr>\n",
       "    <tr>\n",
       "      <th>689940</th>\n",
       "      <td>1</td>\n",
       "      <td>2238419</td>\n",
       "      <td>2016-05-15</td>\n",
       "      <td>2016-05-17</td>\n",
       "      <td>1</td>\n",
       "      <td>19.0</td>\n",
       "      <td>NaN</td>\n",
       "      <td>1.06</td>\n",
       "      <td>NaN</td>\n",
       "      <td>1.0</td>\n",
       "      <td>...</td>\n",
       "      <td>406.0</td>\n",
       "      <td>NaN</td>\n",
       "      <td>0.48</td>\n",
       "      <td>13.573</td>\n",
       "      <td>1.660</td>\n",
       "      <td>1034.0</td>\n",
       "      <td>1.0</td>\n",
       "      <td>5</td>\n",
       "      <td>119.0</td>\n",
       "      <td>18</td>\n",
       "    </tr>\n",
       "    <tr>\n",
       "      <th>689941</th>\n",
       "      <td>1</td>\n",
       "      <td>2238421</td>\n",
       "      <td>2016-05-15</td>\n",
       "      <td>2016-05-15</td>\n",
       "      <td>1</td>\n",
       "      <td>10.0</td>\n",
       "      <td>3.0</td>\n",
       "      <td>1.06</td>\n",
       "      <td>0.33</td>\n",
       "      <td>49.0</td>\n",
       "      <td>...</td>\n",
       "      <td>199.0</td>\n",
       "      <td>713.0</td>\n",
       "      <td>0.51</td>\n",
       "      <td>2.880</td>\n",
       "      <td>0.513</td>\n",
       "      <td>179.0</td>\n",
       "      <td>2.0</td>\n",
       "      <td>15</td>\n",
       "      <td>1472.0</td>\n",
       "      <td>12</td>\n",
       "    </tr>\n",
       "    <tr>\n",
       "      <th>689942</th>\n",
       "      <td>0</td>\n",
       "      <td>2238422</td>\n",
       "      <td>2016-05-15</td>\n",
       "      <td>2016-05-17</td>\n",
       "      <td>0</td>\n",
       "      <td>NaN</td>\n",
       "      <td>NaN</td>\n",
       "      <td>1.07</td>\n",
       "      <td>NaN</td>\n",
       "      <td>0.0</td>\n",
       "      <td>...</td>\n",
       "      <td>544.0</td>\n",
       "      <td>NaN</td>\n",
       "      <td>0.45</td>\n",
       "      <td>15.293</td>\n",
       "      <td>2.067</td>\n",
       "      <td>0.0</td>\n",
       "      <td>NaN</td>\n",
       "      <td>8</td>\n",
       "      <td>107.0</td>\n",
       "      <td>0</td>\n",
       "    </tr>\n",
       "    <tr>\n",
       "      <th>689943</th>\n",
       "      <td>0</td>\n",
       "      <td>2238425</td>\n",
       "      <td>2016-05-15</td>\n",
       "      <td>2016-05-17</td>\n",
       "      <td>0</td>\n",
       "      <td>NaN</td>\n",
       "      <td>NaN</td>\n",
       "      <td>1.04</td>\n",
       "      <td>NaN</td>\n",
       "      <td>0.0</td>\n",
       "      <td>...</td>\n",
       "      <td>156.0</td>\n",
       "      <td>NaN</td>\n",
       "      <td>0.29</td>\n",
       "      <td>2.467</td>\n",
       "      <td>0.333</td>\n",
       "      <td>NaN</td>\n",
       "      <td>NaN</td>\n",
       "      <td>4</td>\n",
       "      <td>NaN</td>\n",
       "      <td>0</td>\n",
       "    </tr>\n",
       "    <tr>\n",
       "      <th>689944</th>\n",
       "      <td>0</td>\n",
       "      <td>2238426</td>\n",
       "      <td>2016-05-15</td>\n",
       "      <td>2016-05-15</td>\n",
       "      <td>0</td>\n",
       "      <td>NaN</td>\n",
       "      <td>NaN</td>\n",
       "      <td>1.02</td>\n",
       "      <td>NaN</td>\n",
       "      <td>0.0</td>\n",
       "      <td>...</td>\n",
       "      <td>275.0</td>\n",
       "      <td>NaN</td>\n",
       "      <td>NaN</td>\n",
       "      <td>12.600</td>\n",
       "      <td>2.653</td>\n",
       "      <td>NaN</td>\n",
       "      <td>NaN</td>\n",
       "      <td>2</td>\n",
       "      <td>NaN</td>\n",
       "      <td>11</td>\n",
       "    </tr>\n",
       "  </tbody>\n",
       "</table>\n",
       "<p>689945 rows × 50 columns</p>\n",
       "</div>"
      ],
      "text/plain": [
       "        label  sampleid           d     arrival  iforderpv_24h  \\\n",
       "0           0     24636  2016-05-18  2016-05-18              0   \n",
       "1           1     24637  2016-05-18  2016-05-18              0   \n",
       "2           0     24641  2016-05-18  2016-05-19              0   \n",
       "3           0     24642  2016-05-18  2016-05-18              0   \n",
       "4           1     24644  2016-05-18  2016-05-19              0   \n",
       "...       ...       ...         ...         ...            ...   \n",
       "689940      1   2238419  2016-05-15  2016-05-17              1   \n",
       "689941      1   2238421  2016-05-15  2016-05-15              1   \n",
       "689942      0   2238422  2016-05-15  2016-05-17              0   \n",
       "689943      0   2238425  2016-05-15  2016-05-17              0   \n",
       "689944      0   2238426  2016-05-15  2016-05-15              0   \n",
       "\n",
       "        decisionhabit_user  historyvisit_totalordernum  hotelcr  \\\n",
       "0                      NaN                         NaN     1.04   \n",
       "1                      NaN                         NaN     1.06   \n",
       "2                      NaN                         NaN     1.05   \n",
       "3                      NaN                         NaN     1.01   \n",
       "4                      NaN                         NaN     1.00   \n",
       "...                    ...                         ...      ...   \n",
       "689940                19.0                         NaN     1.06   \n",
       "689941                10.0                         3.0     1.06   \n",
       "689942                 NaN                         NaN     1.07   \n",
       "689943                 NaN                         NaN     1.04   \n",
       "689944                 NaN                         NaN     1.02   \n",
       "\n",
       "        ordercanceledprecent  landhalfhours  ...  lowestprice_pre2  \\\n",
       "0                        NaN           22.0  ...             615.0   \n",
       "1                        NaN            0.0  ...             513.0   \n",
       "2                        NaN            3.0  ...             382.0   \n",
       "3                        NaN            2.0  ...             203.0   \n",
       "4                        NaN            0.0  ...              84.0   \n",
       "...                      ...            ...  ...               ...   \n",
       "689940                   NaN            1.0  ...             406.0   \n",
       "689941                  0.33           49.0  ...             199.0   \n",
       "689942                   NaN            0.0  ...             544.0   \n",
       "689943                   NaN            0.0  ...             156.0   \n",
       "689944                   NaN            0.0  ...             275.0   \n",
       "\n",
       "        lasthtlordergap  businessrate_pre2  cityuvs  cityorders  lastpvgap  \\\n",
       "0                   NaN               0.29   12.880       3.147        NaN   \n",
       "1                   NaN               0.53   17.933       4.913        NaN   \n",
       "2                   NaN               0.60    3.993       0.760        NaN   \n",
       "3                   NaN               0.18    3.220       0.660        NaN   \n",
       "4                   NaN                NaN    0.013         NaN        NaN   \n",
       "...                 ...                ...      ...         ...        ...   \n",
       "689940              NaN               0.48   13.573       1.660     1034.0   \n",
       "689941            713.0               0.51    2.880       0.513      179.0   \n",
       "689942              NaN               0.45   15.293       2.067        0.0   \n",
       "689943              NaN               0.29    2.467       0.333        NaN   \n",
       "689944              NaN                NaN   12.600       2.653        NaN   \n",
       "\n",
       "         cr  sid  visitnum_oneyear   h  \n",
       "0       NaN    7               NaN  12  \n",
       "1       NaN   33               NaN  14  \n",
       "2       NaN   10               NaN  19  \n",
       "3       NaN    8               NaN  16  \n",
       "4       NaN    1               NaN  21  \n",
       "...     ...  ...               ...  ..  \n",
       "689940  1.0    5             119.0  18  \n",
       "689941  2.0   15            1472.0  12  \n",
       "689942  NaN    8             107.0   0  \n",
       "689943  NaN    4               NaN   0  \n",
       "689944  NaN    2               NaN  11  \n",
       "\n",
       "[689945 rows x 50 columns]"
      ]
     },
     "execution_count": 84,
     "metadata": {},
     "output_type": "execute_result"
    }
   ],
   "source": [
    "data.loc[:,data.isnull().sum()!=607030]"
   ]
  },
  {
   "cell_type": "markdown",
   "metadata": {},
   "source": [
    "### 17 - 异常值处理\n",
    "\n",
    "首先处理异常值，最低酒店定价有小于0的，有等于1的值，明显属于异常值。异常值处理方法较多，常见有直接删除，当缺失值处理等等\n",
    "\n",
    "本例中，我们用盖帽法处理此异常值。"
   ]
  },
  {
   "cell_type": "code",
   "execution_count": 85,
   "metadata": {
    "scrolled": true
   },
   "outputs": [
    {
     "data": {
      "text/html": [
       "<div>\n",
       "<style scoped>\n",
       "    .dataframe tbody tr th:only-of-type {\n",
       "        vertical-align: middle;\n",
       "    }\n",
       "\n",
       "    .dataframe tbody tr th {\n",
       "        vertical-align: top;\n",
       "    }\n",
       "\n",
       "    .dataframe thead th {\n",
       "        text-align: right;\n",
       "    }\n",
       "</style>\n",
       "<table border=\"1\" class=\"dataframe\">\n",
       "  <thead>\n",
       "    <tr style=\"text-align: right;\">\n",
       "      <th></th>\n",
       "      <th>count</th>\n",
       "      <th>unique</th>\n",
       "      <th>top</th>\n",
       "      <th>freq</th>\n",
       "      <th>mean</th>\n",
       "      <th>std</th>\n",
       "      <th>min</th>\n",
       "      <th>1%</th>\n",
       "      <th>25%</th>\n",
       "      <th>50%</th>\n",
       "      <th>75%</th>\n",
       "      <th>99%</th>\n",
       "      <th>max</th>\n",
       "    </tr>\n",
       "  </thead>\n",
       "  <tbody>\n",
       "    <tr>\n",
       "      <th>label</th>\n",
       "      <td>689945.0</td>\n",
       "      <td>NaN</td>\n",
       "      <td>NaN</td>\n",
       "      <td>NaN</td>\n",
       "      <td>0.274452</td>\n",
       "      <td>0.446238</td>\n",
       "      <td>0.0</td>\n",
       "      <td>0.0</td>\n",
       "      <td>0.0</td>\n",
       "      <td>0.0</td>\n",
       "      <td>1.0</td>\n",
       "      <td>1.0</td>\n",
       "      <td>1.0</td>\n",
       "    </tr>\n",
       "    <tr>\n",
       "      <th>sampleid</th>\n",
       "      <td>689945.0</td>\n",
       "      <td>NaN</td>\n",
       "      <td>NaN</td>\n",
       "      <td>NaN</td>\n",
       "      <td>628540.209625</td>\n",
       "      <td>414681.498697</td>\n",
       "      <td>24636.0</td>\n",
       "      <td>36205.88</td>\n",
       "      <td>312320.0</td>\n",
       "      <td>599637.0</td>\n",
       "      <td>887460.0</td>\n",
       "      <td>2226892.56</td>\n",
       "      <td>2238426.0</td>\n",
       "    </tr>\n",
       "    <tr>\n",
       "      <th>d</th>\n",
       "      <td>689945</td>\n",
       "      <td>7</td>\n",
       "      <td>2016-05-20</td>\n",
       "      <td>111985</td>\n",
       "      <td>NaN</td>\n",
       "      <td>NaN</td>\n",
       "      <td>NaN</td>\n",
       "      <td>NaN</td>\n",
       "      <td>NaN</td>\n",
       "      <td>NaN</td>\n",
       "      <td>NaN</td>\n",
       "      <td>NaN</td>\n",
       "      <td>NaN</td>\n",
       "    </tr>\n",
       "    <tr>\n",
       "      <th>arrival</th>\n",
       "      <td>689945</td>\n",
       "      <td>37</td>\n",
       "      <td>2016-05-20</td>\n",
       "      <td>110982</td>\n",
       "      <td>NaN</td>\n",
       "      <td>NaN</td>\n",
       "      <td>NaN</td>\n",
       "      <td>NaN</td>\n",
       "      <td>NaN</td>\n",
       "      <td>NaN</td>\n",
       "      <td>NaN</td>\n",
       "      <td>NaN</td>\n",
       "      <td>NaN</td>\n",
       "    </tr>\n",
       "    <tr>\n",
       "      <th>iforderpv_24h</th>\n",
       "      <td>689945.0</td>\n",
       "      <td>NaN</td>\n",
       "      <td>NaN</td>\n",
       "      <td>NaN</td>\n",
       "      <td>0.193737</td>\n",
       "      <td>0.395226</td>\n",
       "      <td>0.0</td>\n",
       "      <td>0.0</td>\n",
       "      <td>0.0</td>\n",
       "      <td>0.0</td>\n",
       "      <td>0.0</td>\n",
       "      <td>1.0</td>\n",
       "      <td>1.0</td>\n",
       "    </tr>\n",
       "    <tr>\n",
       "      <th>decisionhabit_user</th>\n",
       "      <td>385450.0</td>\n",
       "      <td>NaN</td>\n",
       "      <td>NaN</td>\n",
       "      <td>NaN</td>\n",
       "      <td>5.317048</td>\n",
       "      <td>38.524483</td>\n",
       "      <td>0.0</td>\n",
       "      <td>1.0</td>\n",
       "      <td>2.0</td>\n",
       "      <td>3.0</td>\n",
       "      <td>5.0</td>\n",
       "      <td>27.0</td>\n",
       "      <td>3167.0</td>\n",
       "    </tr>\n",
       "    <tr>\n",
       "      <th>historyvisit_7ordernum</th>\n",
       "      <td>82915.0</td>\n",
       "      <td>NaN</td>\n",
       "      <td>NaN</td>\n",
       "      <td>NaN</td>\n",
       "      <td>1.856094</td>\n",
       "      <td>2.103862</td>\n",
       "      <td>1.0</td>\n",
       "      <td>1.0</td>\n",
       "      <td>1.0</td>\n",
       "      <td>1.0</td>\n",
       "      <td>2.0</td>\n",
       "      <td>7.0</td>\n",
       "      <td>106.0</td>\n",
       "    </tr>\n",
       "    <tr>\n",
       "      <th>historyvisit_totalordernum</th>\n",
       "      <td>386525.0</td>\n",
       "      <td>NaN</td>\n",
       "      <td>NaN</td>\n",
       "      <td>NaN</td>\n",
       "      <td>11.710487</td>\n",
       "      <td>17.251429</td>\n",
       "      <td>1.0</td>\n",
       "      <td>1.0</td>\n",
       "      <td>2.0</td>\n",
       "      <td>6.0</td>\n",
       "      <td>14.0</td>\n",
       "      <td>82.0</td>\n",
       "      <td>711.0</td>\n",
       "    </tr>\n",
       "    <tr>\n",
       "      <th>hotelcr</th>\n",
       "      <td>689148.0</td>\n",
       "      <td>NaN</td>\n",
       "      <td>NaN</td>\n",
       "      <td>NaN</td>\n",
       "      <td>1.060996</td>\n",
       "      <td>0.045264</td>\n",
       "      <td>1.0</td>\n",
       "      <td>1.0</td>\n",
       "      <td>1.03</td>\n",
       "      <td>1.05</td>\n",
       "      <td>1.09</td>\n",
       "      <td>1.19</td>\n",
       "      <td>3.18</td>\n",
       "    </tr>\n",
       "    <tr>\n",
       "      <th>ordercanceledprecent</th>\n",
       "      <td>447831.0</td>\n",
       "      <td>NaN</td>\n",
       "      <td>NaN</td>\n",
       "      <td>NaN</td>\n",
       "      <td>0.342119</td>\n",
       "      <td>0.35421</td>\n",
       "      <td>0.0</td>\n",
       "      <td>0.0</td>\n",
       "      <td>0.0</td>\n",
       "      <td>0.25</td>\n",
       "      <td>0.57</td>\n",
       "      <td>1.0</td>\n",
       "      <td>1.0</td>\n",
       "    </tr>\n",
       "    <tr>\n",
       "      <th>landhalfhours</th>\n",
       "      <td>661312.0</td>\n",
       "      <td>NaN</td>\n",
       "      <td>NaN</td>\n",
       "      <td>NaN</td>\n",
       "      <td>6.086366</td>\n",
       "      <td>12.413225</td>\n",
       "      <td>0.0</td>\n",
       "      <td>0.0</td>\n",
       "      <td>0.0</td>\n",
       "      <td>0.0</td>\n",
       "      <td>4.0</td>\n",
       "      <td>48.0</td>\n",
       "      <td>49.0</td>\n",
       "    </tr>\n",
       "    <tr>\n",
       "      <th>ordercanncelednum</th>\n",
       "      <td>447831.0</td>\n",
       "      <td>NaN</td>\n",
       "      <td>NaN</td>\n",
       "      <td>NaN</td>\n",
       "      <td>154.179369</td>\n",
       "      <td>398.456986</td>\n",
       "      <td>0.0</td>\n",
       "      <td>0.0</td>\n",
       "      <td>0.0</td>\n",
       "      <td>2.0</td>\n",
       "      <td>153.0</td>\n",
       "      <td>1752.0</td>\n",
       "      <td>13475.0</td>\n",
       "    </tr>\n",
       "    <tr>\n",
       "      <th>commentnums</th>\n",
       "      <td>622029.0</td>\n",
       "      <td>NaN</td>\n",
       "      <td>NaN</td>\n",
       "      <td>NaN</td>\n",
       "      <td>1272.090888</td>\n",
       "      <td>2101.871601</td>\n",
       "      <td>0.0</td>\n",
       "      <td>1.0</td>\n",
       "      <td>115.0</td>\n",
       "      <td>514.0</td>\n",
       "      <td>1670.0</td>\n",
       "      <td>8796.0</td>\n",
       "      <td>34189.0</td>\n",
       "    </tr>\n",
       "    <tr>\n",
       "      <th>starprefer</th>\n",
       "      <td>464892.0</td>\n",
       "      <td>NaN</td>\n",
       "      <td>NaN</td>\n",
       "      <td>NaN</td>\n",
       "      <td>67.532304</td>\n",
       "      <td>19.175094</td>\n",
       "      <td>0.0</td>\n",
       "      <td>20.0</td>\n",
       "      <td>53.3</td>\n",
       "      <td>69.4</td>\n",
       "      <td>80.3</td>\n",
       "      <td>100.0</td>\n",
       "      <td>100.0</td>\n",
       "    </tr>\n",
       "    <tr>\n",
       "      <th>novoters</th>\n",
       "      <td>672918.0</td>\n",
       "      <td>NaN</td>\n",
       "      <td>NaN</td>\n",
       "      <td>NaN</td>\n",
       "      <td>1706.247901</td>\n",
       "      <td>2811.690007</td>\n",
       "      <td>1.0</td>\n",
       "      <td>1.0</td>\n",
       "      <td>157.0</td>\n",
       "      <td>692.0</td>\n",
       "      <td>2196.0</td>\n",
       "      <td>11576.0</td>\n",
       "      <td>45455.0</td>\n",
       "    </tr>\n",
       "    <tr>\n",
       "      <th>consuming_capacity</th>\n",
       "      <td>463837.0</td>\n",
       "      <td>NaN</td>\n",
       "      <td>NaN</td>\n",
       "      <td>NaN</td>\n",
       "      <td>39.15414</td>\n",
       "      <td>23.240147</td>\n",
       "      <td>0.0</td>\n",
       "      <td>8.0</td>\n",
       "      <td>22.0</td>\n",
       "      <td>33.0</td>\n",
       "      <td>51.0</td>\n",
       "      <td>100.0</td>\n",
       "      <td>100.0</td>\n",
       "    </tr>\n",
       "    <tr>\n",
       "      <th>historyvisit_avghotelnum</th>\n",
       "      <td>387876.0</td>\n",
       "      <td>NaN</td>\n",
       "      <td>NaN</td>\n",
       "      <td>NaN</td>\n",
       "      <td>6.510179</td>\n",
       "      <td>41.045261</td>\n",
       "      <td>0.0</td>\n",
       "      <td>1.0</td>\n",
       "      <td>2.0</td>\n",
       "      <td>4.0</td>\n",
       "      <td>7.0</td>\n",
       "      <td>29.0</td>\n",
       "      <td>3167.0</td>\n",
       "    </tr>\n",
       "    <tr>\n",
       "      <th>cancelrate</th>\n",
       "      <td>678227.0</td>\n",
       "      <td>NaN</td>\n",
       "      <td>NaN</td>\n",
       "      <td>NaN</td>\n",
       "      <td>1051.604143</td>\n",
       "      <td>1509.066134</td>\n",
       "      <td>1.0</td>\n",
       "      <td>2.0</td>\n",
       "      <td>137.0</td>\n",
       "      <td>503.0</td>\n",
       "      <td>1373.0</td>\n",
       "      <td>6399.0</td>\n",
       "      <td>18930.0</td>\n",
       "    </tr>\n",
       "    <tr>\n",
       "      <th>historyvisit_visit_detailpagenum</th>\n",
       "      <td>307234.0</td>\n",
       "      <td>NaN</td>\n",
       "      <td>NaN</td>\n",
       "      <td>NaN</td>\n",
       "      <td>37.153603</td>\n",
       "      <td>73.402891</td>\n",
       "      <td>1.0</td>\n",
       "      <td>1.0</td>\n",
       "      <td>6.0</td>\n",
       "      <td>18.0</td>\n",
       "      <td>44.0</td>\n",
       "      <td>262.0</td>\n",
       "      <td>6199.0</td>\n",
       "    </tr>\n",
       "    <tr>\n",
       "      <th>delta_price1</th>\n",
       "      <td>437146.0</td>\n",
       "      <td>NaN</td>\n",
       "      <td>NaN</td>\n",
       "      <td>NaN</td>\n",
       "      <td>79.067012</td>\n",
       "      <td>512.942824</td>\n",
       "      <td>-99879.0</td>\n",
       "      <td>-1227.55</td>\n",
       "      <td>-31.0</td>\n",
       "      <td>81.0</td>\n",
       "      <td>226.0</td>\n",
       "      <td>1081.0</td>\n",
       "      <td>5398.0</td>\n",
       "    </tr>\n",
       "    <tr>\n",
       "      <th>price_sensitive</th>\n",
       "      <td>463837.0</td>\n",
       "      <td>NaN</td>\n",
       "      <td>NaN</td>\n",
       "      <td>NaN</td>\n",
       "      <td>24.645863</td>\n",
       "      <td>26.685606</td>\n",
       "      <td>0.0</td>\n",
       "      <td>0.0</td>\n",
       "      <td>5.0</td>\n",
       "      <td>16.0</td>\n",
       "      <td>33.0</td>\n",
       "      <td>100.0</td>\n",
       "      <td>100.0</td>\n",
       "    </tr>\n",
       "    <tr>\n",
       "      <th>hoteluv</th>\n",
       "      <td>689148.0</td>\n",
       "      <td>NaN</td>\n",
       "      <td>NaN</td>\n",
       "      <td>NaN</td>\n",
       "      <td>95.092708</td>\n",
       "      <td>169.981527</td>\n",
       "      <td>0.007</td>\n",
       "      <td>0.167</td>\n",
       "      <td>10.427</td>\n",
       "      <td>36.18</td>\n",
       "      <td>107.747</td>\n",
       "      <td>964.113</td>\n",
       "      <td>1722.613</td>\n",
       "    </tr>\n",
       "    <tr>\n",
       "      <th>businessrate_pre</th>\n",
       "      <td>483896.0</td>\n",
       "      <td>NaN</td>\n",
       "      <td>NaN</td>\n",
       "      <td>NaN</td>\n",
       "      <td>0.372717</td>\n",
       "      <td>0.232791</td>\n",
       "      <td>0.0</td>\n",
       "      <td>0.01</td>\n",
       "      <td>0.15</td>\n",
       "      <td>0.39</td>\n",
       "      <td>0.57</td>\n",
       "      <td>0.8</td>\n",
       "      <td>0.99</td>\n",
       "    </tr>\n",
       "    <tr>\n",
       "      <th>ordernum_oneyear</th>\n",
       "      <td>447831.0</td>\n",
       "      <td>NaN</td>\n",
       "      <td>NaN</td>\n",
       "      <td>NaN</td>\n",
       "      <td>11.642061</td>\n",
       "      <td>17.137209</td>\n",
       "      <td>1.0</td>\n",
       "      <td>1.0</td>\n",
       "      <td>2.0</td>\n",
       "      <td>6.0</td>\n",
       "      <td>14.0</td>\n",
       "      <td>81.0</td>\n",
       "      <td>711.0</td>\n",
       "    </tr>\n",
       "    <tr>\n",
       "      <th>cr_pre</th>\n",
       "      <td>660548.0</td>\n",
       "      <td>NaN</td>\n",
       "      <td>NaN</td>\n",
       "      <td>NaN</td>\n",
       "      <td>1.062906</td>\n",
       "      <td>0.044588</td>\n",
       "      <td>1.0</td>\n",
       "      <td>1.0</td>\n",
       "      <td>1.03</td>\n",
       "      <td>1.06</td>\n",
       "      <td>1.09</td>\n",
       "      <td>1.19</td>\n",
       "      <td>2.95</td>\n",
       "    </tr>\n",
       "    <tr>\n",
       "      <th>avgprice</th>\n",
       "      <td>457261.0</td>\n",
       "      <td>NaN</td>\n",
       "      <td>NaN</td>\n",
       "      <td>NaN</td>\n",
       "      <td>422.458701</td>\n",
       "      <td>290.853332</td>\n",
       "      <td>1.0</td>\n",
       "      <td>91.0</td>\n",
       "      <td>232.0</td>\n",
       "      <td>350.0</td>\n",
       "      <td>524.0</td>\n",
       "      <td>1491.0</td>\n",
       "      <td>6383.0</td>\n",
       "    </tr>\n",
       "    <tr>\n",
       "      <th>lowestprice</th>\n",
       "      <td>687931.0</td>\n",
       "      <td>NaN</td>\n",
       "      <td>NaN</td>\n",
       "      <td>NaN</td>\n",
       "      <td>318.806242</td>\n",
       "      <td>575.782415</td>\n",
       "      <td>-3.0</td>\n",
       "      <td>37.0</td>\n",
       "      <td>116.0</td>\n",
       "      <td>200.0</td>\n",
       "      <td>380.0</td>\n",
       "      <td>1823.0</td>\n",
       "      <td>100000.0</td>\n",
       "    </tr>\n",
       "    <tr>\n",
       "      <th>firstorder_bu</th>\n",
       "      <td>376993.0</td>\n",
       "      <td>NaN</td>\n",
       "      <td>NaN</td>\n",
       "      <td>NaN</td>\n",
       "      <td>11.697795</td>\n",
       "      <td>2.746821</td>\n",
       "      <td>1.0</td>\n",
       "      <td>3.0</td>\n",
       "      <td>12.0</td>\n",
       "      <td>13.0</td>\n",
       "      <td>13.0</td>\n",
       "      <td>17.0</td>\n",
       "      <td>21.0</td>\n",
       "    </tr>\n",
       "    <tr>\n",
       "      <th>customereval_pre2</th>\n",
       "      <td>661312.0</td>\n",
       "      <td>NaN</td>\n",
       "      <td>NaN</td>\n",
       "      <td>NaN</td>\n",
       "      <td>3.048519</td>\n",
       "      <td>1.226635</td>\n",
       "      <td>0.0</td>\n",
       "      <td>0.0</td>\n",
       "      <td>2.0</td>\n",
       "      <td>3.0</td>\n",
       "      <td>4.0</td>\n",
       "      <td>5.5</td>\n",
       "      <td>6.0</td>\n",
       "    </tr>\n",
       "    <tr>\n",
       "      <th>delta_price2</th>\n",
       "      <td>437750.0</td>\n",
       "      <td>NaN</td>\n",
       "      <td>NaN</td>\n",
       "      <td>NaN</td>\n",
       "      <td>77.277208</td>\n",
       "      <td>391.413839</td>\n",
       "      <td>-43344.0</td>\n",
       "      <td>-949.0</td>\n",
       "      <td>-29.0</td>\n",
       "      <td>69.0</td>\n",
       "      <td>198.0</td>\n",
       "      <td>1018.0</td>\n",
       "      <td>5114.0</td>\n",
       "    </tr>\n",
       "    <tr>\n",
       "      <th>commentnums_pre</th>\n",
       "      <td>598368.0</td>\n",
       "      <td>NaN</td>\n",
       "      <td>NaN</td>\n",
       "      <td>NaN</td>\n",
       "      <td>1415.159561</td>\n",
       "      <td>2329.418922</td>\n",
       "      <td>0.0</td>\n",
       "      <td>1.0</td>\n",
       "      <td>137.0</td>\n",
       "      <td>592.0</td>\n",
       "      <td>1862.0</td>\n",
       "      <td>9732.0</td>\n",
       "      <td>34189.0</td>\n",
       "    </tr>\n",
       "    <tr>\n",
       "      <th>customer_value_profit</th>\n",
       "      <td>439123.0</td>\n",
       "      <td>NaN</td>\n",
       "      <td>NaN</td>\n",
       "      <td>NaN</td>\n",
       "      <td>3.038409</td>\n",
       "      <td>6.625281</td>\n",
       "      <td>-24.075</td>\n",
       "      <td>-0.29678</td>\n",
       "      <td>0.269</td>\n",
       "      <td>0.991</td>\n",
       "      <td>3.138</td>\n",
       "      <td>28.451</td>\n",
       "      <td>598.064</td>\n",
       "    </tr>\n",
       "    <tr>\n",
       "      <th>commentnums_pre2</th>\n",
       "      <td>648457.0</td>\n",
       "      <td>NaN</td>\n",
       "      <td>NaN</td>\n",
       "      <td>NaN</td>\n",
       "      <td>1313.388737</td>\n",
       "      <td>1719.513354</td>\n",
       "      <td>0.0</td>\n",
       "      <td>3.0</td>\n",
       "      <td>270.0</td>\n",
       "      <td>768.0</td>\n",
       "      <td>1780.0</td>\n",
       "      <td>7457.0</td>\n",
       "      <td>34189.0</td>\n",
       "    </tr>\n",
       "    <tr>\n",
       "      <th>cancelrate_pre</th>\n",
       "      <td>653015.0</td>\n",
       "      <td>NaN</td>\n",
       "      <td>NaN</td>\n",
       "      <td>NaN</td>\n",
       "      <td>0.344422</td>\n",
       "      <td>0.179147</td>\n",
       "      <td>0.0</td>\n",
       "      <td>0.05</td>\n",
       "      <td>0.23</td>\n",
       "      <td>0.32</td>\n",
       "      <td>0.42</td>\n",
       "      <td>1.0</td>\n",
       "      <td>1.0</td>\n",
       "    </tr>\n",
       "    <tr>\n",
       "      <th>novoters_pre2</th>\n",
       "      <td>657616.0</td>\n",
       "      <td>NaN</td>\n",
       "      <td>NaN</td>\n",
       "      <td>NaN</td>\n",
       "      <td>1787.197614</td>\n",
       "      <td>2316.712985</td>\n",
       "      <td>1.0</td>\n",
       "      <td>5.0</td>\n",
       "      <td>391.0</td>\n",
       "      <td>1054.0</td>\n",
       "      <td>2413.0</td>\n",
       "      <td>10018.0</td>\n",
       "      <td>45436.0</td>\n",
       "    </tr>\n",
       "    <tr>\n",
       "      <th>novoters_pre</th>\n",
       "      <td>648956.0</td>\n",
       "      <td>NaN</td>\n",
       "      <td>NaN</td>\n",
       "      <td>NaN</td>\n",
       "      <td>1890.69845</td>\n",
       "      <td>3116.120062</td>\n",
       "      <td>1.0</td>\n",
       "      <td>2.0</td>\n",
       "      <td>187.0</td>\n",
       "      <td>783.0</td>\n",
       "      <td>2453.0</td>\n",
       "      <td>13839.0</td>\n",
       "      <td>45436.0</td>\n",
       "    </tr>\n",
       "    <tr>\n",
       "      <th>ctrip_profits</th>\n",
       "      <td>445187.0</td>\n",
       "      <td>NaN</td>\n",
       "      <td>NaN</td>\n",
       "      <td>NaN</td>\n",
       "      <td>4.208495</td>\n",
       "      <td>9.314438</td>\n",
       "      <td>-44.313</td>\n",
       "      <td>-0.393</td>\n",
       "      <td>0.34</td>\n",
       "      <td>1.347</td>\n",
       "      <td>4.32</td>\n",
       "      <td>40.7558</td>\n",
       "      <td>600.82</td>\n",
       "    </tr>\n",
       "    <tr>\n",
       "      <th>deltaprice_pre2_t1</th>\n",
       "      <td>543180.0</td>\n",
       "      <td>NaN</td>\n",
       "      <td>NaN</td>\n",
       "      <td>NaN</td>\n",
       "      <td>3.28374</td>\n",
       "      <td>48.80588</td>\n",
       "      <td>-2296.0</td>\n",
       "      <td>-103.0</td>\n",
       "      <td>-3.0</td>\n",
       "      <td>2.0</td>\n",
       "      <td>10.0</td>\n",
       "      <td>111.0</td>\n",
       "      <td>3324.0</td>\n",
       "    </tr>\n",
       "    <tr>\n",
       "      <th>lowestprice_pre</th>\n",
       "      <td>659689.0</td>\n",
       "      <td>NaN</td>\n",
       "      <td>NaN</td>\n",
       "      <td>NaN</td>\n",
       "      <td>315.954583</td>\n",
       "      <td>463.723643</td>\n",
       "      <td>1.0</td>\n",
       "      <td>38.0</td>\n",
       "      <td>118.0</td>\n",
       "      <td>208.0</td>\n",
       "      <td>385.0</td>\n",
       "      <td>1750.0</td>\n",
       "      <td>100000.0</td>\n",
       "    </tr>\n",
       "    <tr>\n",
       "      <th>uv_pre</th>\n",
       "      <td>660548.0</td>\n",
       "      <td>NaN</td>\n",
       "      <td>NaN</td>\n",
       "      <td>NaN</td>\n",
       "      <td>107.846076</td>\n",
       "      <td>186.731907</td>\n",
       "      <td>0.007</td>\n",
       "      <td>0.24</td>\n",
       "      <td>12.533</td>\n",
       "      <td>42.5</td>\n",
       "      <td>124.707</td>\n",
       "      <td>1047.787</td>\n",
       "      <td>1722.613</td>\n",
       "    </tr>\n",
       "    <tr>\n",
       "      <th>uv_pre2</th>\n",
       "      <td>661189.0</td>\n",
       "      <td>NaN</td>\n",
       "      <td>NaN</td>\n",
       "      <td>NaN</td>\n",
       "      <td>103.35299</td>\n",
       "      <td>157.117863</td>\n",
       "      <td>0.007</td>\n",
       "      <td>0.5</td>\n",
       "      <td>17.563</td>\n",
       "      <td>51.287</td>\n",
       "      <td>126.2</td>\n",
       "      <td>856.7254</td>\n",
       "      <td>1722.613</td>\n",
       "    </tr>\n",
       "    <tr>\n",
       "      <th>lowestprice_pre2</th>\n",
       "      <td>660664.0</td>\n",
       "      <td>NaN</td>\n",
       "      <td>NaN</td>\n",
       "      <td>NaN</td>\n",
       "      <td>318.541812</td>\n",
       "      <td>351.913035</td>\n",
       "      <td>1.0</td>\n",
       "      <td>52.0</td>\n",
       "      <td>145.0</td>\n",
       "      <td>233.0</td>\n",
       "      <td>388.0</td>\n",
       "      <td>1464.0</td>\n",
       "      <td>43700.0</td>\n",
       "    </tr>\n",
       "    <tr>\n",
       "      <th>lasthtlordergap</th>\n",
       "      <td>447831.0</td>\n",
       "      <td>NaN</td>\n",
       "      <td>NaN</td>\n",
       "      <td>NaN</td>\n",
       "      <td>101830.9194</td>\n",
       "      <td>122784.313864</td>\n",
       "      <td>0.0</td>\n",
       "      <td>244.0</td>\n",
       "      <td>14999.0</td>\n",
       "      <td>46890.0</td>\n",
       "      <td>138953.0</td>\n",
       "      <td>484734.0</td>\n",
       "      <td>527026.0</td>\n",
       "    </tr>\n",
       "    <tr>\n",
       "      <th>businessrate_pre2</th>\n",
       "      <td>602960.0</td>\n",
       "      <td>NaN</td>\n",
       "      <td>NaN</td>\n",
       "      <td>NaN</td>\n",
       "      <td>0.368237</td>\n",
       "      <td>0.219945</td>\n",
       "      <td>0.0</td>\n",
       "      <td>0.01</td>\n",
       "      <td>0.17</td>\n",
       "      <td>0.4</td>\n",
       "      <td>0.55</td>\n",
       "      <td>0.78</td>\n",
       "      <td>0.99</td>\n",
       "    </tr>\n",
       "    <tr>\n",
       "      <th>cityuvs</th>\n",
       "      <td>682274.0</td>\n",
       "      <td>NaN</td>\n",
       "      <td>NaN</td>\n",
       "      <td>NaN</td>\n",
       "      <td>10.648278</td>\n",
       "      <td>15.696682</td>\n",
       "      <td>0.007</td>\n",
       "      <td>0.013</td>\n",
       "      <td>0.827</td>\n",
       "      <td>3.527</td>\n",
       "      <td>13.327</td>\n",
       "      <td>66.007</td>\n",
       "      <td>67.14</td>\n",
       "    </tr>\n",
       "    <tr>\n",
       "      <th>cityorders</th>\n",
       "      <td>651263.0</td>\n",
       "      <td>NaN</td>\n",
       "      <td>NaN</td>\n",
       "      <td>NaN</td>\n",
       "      <td>2.25325</td>\n",
       "      <td>3.538453</td>\n",
       "      <td>0.007</td>\n",
       "      <td>0.007</td>\n",
       "      <td>0.127</td>\n",
       "      <td>0.627</td>\n",
       "      <td>2.747</td>\n",
       "      <td>14.453</td>\n",
       "      <td>14.507</td>\n",
       "    </tr>\n",
       "    <tr>\n",
       "      <th>lastpvgap</th>\n",
       "      <td>592818.0</td>\n",
       "      <td>NaN</td>\n",
       "      <td>NaN</td>\n",
       "      <td>NaN</td>\n",
       "      <td>12049.409382</td>\n",
       "      <td>25601.374138</td>\n",
       "      <td>0.0</td>\n",
       "      <td>0.0</td>\n",
       "      <td>551.0</td>\n",
       "      <td>2848.0</td>\n",
       "      <td>10726.0</td>\n",
       "      <td>138722.0</td>\n",
       "      <td>194386.0</td>\n",
       "    </tr>\n",
       "    <tr>\n",
       "      <th>cr</th>\n",
       "      <td>457896.0</td>\n",
       "      <td>NaN</td>\n",
       "      <td>NaN</td>\n",
       "      <td>NaN</td>\n",
       "      <td>1.137476</td>\n",
       "      <td>0.204789</td>\n",
       "      <td>1.0</td>\n",
       "      <td>1.0</td>\n",
       "      <td>1.0</td>\n",
       "      <td>1.05</td>\n",
       "      <td>1.21</td>\n",
       "      <td>2.0</td>\n",
       "      <td>11.0</td>\n",
       "    </tr>\n",
       "    <tr>\n",
       "      <th>sid</th>\n",
       "      <td>689945.0</td>\n",
       "      <td>NaN</td>\n",
       "      <td>NaN</td>\n",
       "      <td>NaN</td>\n",
       "      <td>153.702414</td>\n",
       "      <td>277.807697</td>\n",
       "      <td>0.0</td>\n",
       "      <td>1.0</td>\n",
       "      <td>17.0</td>\n",
       "      <td>62.0</td>\n",
       "      <td>180.0</td>\n",
       "      <td>1212.0</td>\n",
       "      <td>9956.0</td>\n",
       "    </tr>\n",
       "    <tr>\n",
       "      <th>visitnum_oneyear</th>\n",
       "      <td>592910.0</td>\n",
       "      <td>NaN</td>\n",
       "      <td>NaN</td>\n",
       "      <td>NaN</td>\n",
       "      <td>18551.846682</td>\n",
       "      <td>228860.311117</td>\n",
       "      <td>1.0</td>\n",
       "      <td>21.0</td>\n",
       "      <td>471.0</td>\n",
       "      <td>1315.0</td>\n",
       "      <td>3141.0</td>\n",
       "      <td>262567.0</td>\n",
       "      <td>9651192.0</td>\n",
       "    </tr>\n",
       "    <tr>\n",
       "      <th>h</th>\n",
       "      <td>689945.0</td>\n",
       "      <td>NaN</td>\n",
       "      <td>NaN</td>\n",
       "      <td>NaN</td>\n",
       "      <td>14.462315</td>\n",
       "      <td>6.301575</td>\n",
       "      <td>0.0</td>\n",
       "      <td>0.0</td>\n",
       "      <td>11.0</td>\n",
       "      <td>15.0</td>\n",
       "      <td>20.0</td>\n",
       "      <td>23.0</td>\n",
       "      <td>23.0</td>\n",
       "    </tr>\n",
       "  </tbody>\n",
       "</table>\n",
       "</div>"
      ],
      "text/plain": [
       "                                     count unique         top    freq  \\\n",
       "label                             689945.0    NaN         NaN     NaN   \n",
       "sampleid                          689945.0    NaN         NaN     NaN   \n",
       "d                                   689945      7  2016-05-20  111985   \n",
       "arrival                             689945     37  2016-05-20  110982   \n",
       "iforderpv_24h                     689945.0    NaN         NaN     NaN   \n",
       "decisionhabit_user                385450.0    NaN         NaN     NaN   \n",
       "historyvisit_7ordernum             82915.0    NaN         NaN     NaN   \n",
       "historyvisit_totalordernum        386525.0    NaN         NaN     NaN   \n",
       "hotelcr                           689148.0    NaN         NaN     NaN   \n",
       "ordercanceledprecent              447831.0    NaN         NaN     NaN   \n",
       "landhalfhours                     661312.0    NaN         NaN     NaN   \n",
       "ordercanncelednum                 447831.0    NaN         NaN     NaN   \n",
       "commentnums                       622029.0    NaN         NaN     NaN   \n",
       "starprefer                        464892.0    NaN         NaN     NaN   \n",
       "novoters                          672918.0    NaN         NaN     NaN   \n",
       "consuming_capacity                463837.0    NaN         NaN     NaN   \n",
       "historyvisit_avghotelnum          387876.0    NaN         NaN     NaN   \n",
       "cancelrate                        678227.0    NaN         NaN     NaN   \n",
       "historyvisit_visit_detailpagenum  307234.0    NaN         NaN     NaN   \n",
       "delta_price1                      437146.0    NaN         NaN     NaN   \n",
       "price_sensitive                   463837.0    NaN         NaN     NaN   \n",
       "hoteluv                           689148.0    NaN         NaN     NaN   \n",
       "businessrate_pre                  483896.0    NaN         NaN     NaN   \n",
       "ordernum_oneyear                  447831.0    NaN         NaN     NaN   \n",
       "cr_pre                            660548.0    NaN         NaN     NaN   \n",
       "avgprice                          457261.0    NaN         NaN     NaN   \n",
       "lowestprice                       687931.0    NaN         NaN     NaN   \n",
       "firstorder_bu                     376993.0    NaN         NaN     NaN   \n",
       "customereval_pre2                 661312.0    NaN         NaN     NaN   \n",
       "delta_price2                      437750.0    NaN         NaN     NaN   \n",
       "commentnums_pre                   598368.0    NaN         NaN     NaN   \n",
       "customer_value_profit             439123.0    NaN         NaN     NaN   \n",
       "commentnums_pre2                  648457.0    NaN         NaN     NaN   \n",
       "cancelrate_pre                    653015.0    NaN         NaN     NaN   \n",
       "novoters_pre2                     657616.0    NaN         NaN     NaN   \n",
       "novoters_pre                      648956.0    NaN         NaN     NaN   \n",
       "ctrip_profits                     445187.0    NaN         NaN     NaN   \n",
       "deltaprice_pre2_t1                543180.0    NaN         NaN     NaN   \n",
       "lowestprice_pre                   659689.0    NaN         NaN     NaN   \n",
       "uv_pre                            660548.0    NaN         NaN     NaN   \n",
       "uv_pre2                           661189.0    NaN         NaN     NaN   \n",
       "lowestprice_pre2                  660664.0    NaN         NaN     NaN   \n",
       "lasthtlordergap                   447831.0    NaN         NaN     NaN   \n",
       "businessrate_pre2                 602960.0    NaN         NaN     NaN   \n",
       "cityuvs                           682274.0    NaN         NaN     NaN   \n",
       "cityorders                        651263.0    NaN         NaN     NaN   \n",
       "lastpvgap                         592818.0    NaN         NaN     NaN   \n",
       "cr                                457896.0    NaN         NaN     NaN   \n",
       "sid                               689945.0    NaN         NaN     NaN   \n",
       "visitnum_oneyear                  592910.0    NaN         NaN     NaN   \n",
       "h                                 689945.0    NaN         NaN     NaN   \n",
       "\n",
       "                                           mean            std      min  \\\n",
       "label                                  0.274452       0.446238      0.0   \n",
       "sampleid                          628540.209625  414681.498697  24636.0   \n",
       "d                                           NaN            NaN      NaN   \n",
       "arrival                                     NaN            NaN      NaN   \n",
       "iforderpv_24h                          0.193737       0.395226      0.0   \n",
       "decisionhabit_user                     5.317048      38.524483      0.0   \n",
       "historyvisit_7ordernum                 1.856094       2.103862      1.0   \n",
       "historyvisit_totalordernum            11.710487      17.251429      1.0   \n",
       "hotelcr                                1.060996       0.045264      1.0   \n",
       "ordercanceledprecent                   0.342119        0.35421      0.0   \n",
       "landhalfhours                          6.086366      12.413225      0.0   \n",
       "ordercanncelednum                    154.179369     398.456986      0.0   \n",
       "commentnums                         1272.090888    2101.871601      0.0   \n",
       "starprefer                            67.532304      19.175094      0.0   \n",
       "novoters                            1706.247901    2811.690007      1.0   \n",
       "consuming_capacity                     39.15414      23.240147      0.0   \n",
       "historyvisit_avghotelnum               6.510179      41.045261      0.0   \n",
       "cancelrate                          1051.604143    1509.066134      1.0   \n",
       "historyvisit_visit_detailpagenum      37.153603      73.402891      1.0   \n",
       "delta_price1                          79.067012     512.942824 -99879.0   \n",
       "price_sensitive                       24.645863      26.685606      0.0   \n",
       "hoteluv                               95.092708     169.981527    0.007   \n",
       "businessrate_pre                       0.372717       0.232791      0.0   \n",
       "ordernum_oneyear                      11.642061      17.137209      1.0   \n",
       "cr_pre                                 1.062906       0.044588      1.0   \n",
       "avgprice                             422.458701     290.853332      1.0   \n",
       "lowestprice                          318.806242     575.782415     -3.0   \n",
       "firstorder_bu                         11.697795       2.746821      1.0   \n",
       "customereval_pre2                      3.048519       1.226635      0.0   \n",
       "delta_price2                          77.277208     391.413839 -43344.0   \n",
       "commentnums_pre                     1415.159561    2329.418922      0.0   \n",
       "customer_value_profit                  3.038409       6.625281  -24.075   \n",
       "commentnums_pre2                    1313.388737    1719.513354      0.0   \n",
       "cancelrate_pre                         0.344422       0.179147      0.0   \n",
       "novoters_pre2                       1787.197614    2316.712985      1.0   \n",
       "novoters_pre                         1890.69845    3116.120062      1.0   \n",
       "ctrip_profits                          4.208495       9.314438  -44.313   \n",
       "deltaprice_pre2_t1                      3.28374       48.80588  -2296.0   \n",
       "lowestprice_pre                      315.954583     463.723643      1.0   \n",
       "uv_pre                               107.846076     186.731907    0.007   \n",
       "uv_pre2                               103.35299     157.117863    0.007   \n",
       "lowestprice_pre2                     318.541812     351.913035      1.0   \n",
       "lasthtlordergap                     101830.9194  122784.313864      0.0   \n",
       "businessrate_pre2                      0.368237       0.219945      0.0   \n",
       "cityuvs                               10.648278      15.696682    0.007   \n",
       "cityorders                              2.25325       3.538453    0.007   \n",
       "lastpvgap                          12049.409382   25601.374138      0.0   \n",
       "cr                                     1.137476       0.204789      1.0   \n",
       "sid                                  153.702414     277.807697      0.0   \n",
       "visitnum_oneyear                   18551.846682  228860.311117      1.0   \n",
       "h                                     14.462315       6.301575      0.0   \n",
       "\n",
       "                                        1%       25%       50%       75%  \\\n",
       "label                                  0.0       0.0       0.0       1.0   \n",
       "sampleid                          36205.88  312320.0  599637.0  887460.0   \n",
       "d                                      NaN       NaN       NaN       NaN   \n",
       "arrival                                NaN       NaN       NaN       NaN   \n",
       "iforderpv_24h                          0.0       0.0       0.0       0.0   \n",
       "decisionhabit_user                     1.0       2.0       3.0       5.0   \n",
       "historyvisit_7ordernum                 1.0       1.0       1.0       2.0   \n",
       "historyvisit_totalordernum             1.0       2.0       6.0      14.0   \n",
       "hotelcr                                1.0      1.03      1.05      1.09   \n",
       "ordercanceledprecent                   0.0       0.0      0.25      0.57   \n",
       "landhalfhours                          0.0       0.0       0.0       4.0   \n",
       "ordercanncelednum                      0.0       0.0       2.0     153.0   \n",
       "commentnums                            1.0     115.0     514.0    1670.0   \n",
       "starprefer                            20.0      53.3      69.4      80.3   \n",
       "novoters                               1.0     157.0     692.0    2196.0   \n",
       "consuming_capacity                     8.0      22.0      33.0      51.0   \n",
       "historyvisit_avghotelnum               1.0       2.0       4.0       7.0   \n",
       "cancelrate                             2.0     137.0     503.0    1373.0   \n",
       "historyvisit_visit_detailpagenum       1.0       6.0      18.0      44.0   \n",
       "delta_price1                      -1227.55     -31.0      81.0     226.0   \n",
       "price_sensitive                        0.0       5.0      16.0      33.0   \n",
       "hoteluv                              0.167    10.427     36.18   107.747   \n",
       "businessrate_pre                      0.01      0.15      0.39      0.57   \n",
       "ordernum_oneyear                       1.0       2.0       6.0      14.0   \n",
       "cr_pre                                 1.0      1.03      1.06      1.09   \n",
       "avgprice                              91.0     232.0     350.0     524.0   \n",
       "lowestprice                           37.0     116.0     200.0     380.0   \n",
       "firstorder_bu                          3.0      12.0      13.0      13.0   \n",
       "customereval_pre2                      0.0       2.0       3.0       4.0   \n",
       "delta_price2                        -949.0     -29.0      69.0     198.0   \n",
       "commentnums_pre                        1.0     137.0     592.0    1862.0   \n",
       "customer_value_profit             -0.29678     0.269     0.991     3.138   \n",
       "commentnums_pre2                       3.0     270.0     768.0    1780.0   \n",
       "cancelrate_pre                        0.05      0.23      0.32      0.42   \n",
       "novoters_pre2                          5.0     391.0    1054.0    2413.0   \n",
       "novoters_pre                           2.0     187.0     783.0    2453.0   \n",
       "ctrip_profits                       -0.393      0.34     1.347      4.32   \n",
       "deltaprice_pre2_t1                  -103.0      -3.0       2.0      10.0   \n",
       "lowestprice_pre                       38.0     118.0     208.0     385.0   \n",
       "uv_pre                                0.24    12.533      42.5   124.707   \n",
       "uv_pre2                                0.5    17.563    51.287     126.2   \n",
       "lowestprice_pre2                      52.0     145.0     233.0     388.0   \n",
       "lasthtlordergap                      244.0   14999.0   46890.0  138953.0   \n",
       "businessrate_pre2                     0.01      0.17       0.4      0.55   \n",
       "cityuvs                              0.013     0.827     3.527    13.327   \n",
       "cityorders                           0.007     0.127     0.627     2.747   \n",
       "lastpvgap                              0.0     551.0    2848.0   10726.0   \n",
       "cr                                     1.0       1.0      1.05      1.21   \n",
       "sid                                    1.0      17.0      62.0     180.0   \n",
       "visitnum_oneyear                      21.0     471.0    1315.0    3141.0   \n",
       "h                                      0.0      11.0      15.0      20.0   \n",
       "\n",
       "                                         99%        max  \n",
       "label                                    1.0        1.0  \n",
       "sampleid                          2226892.56  2238426.0  \n",
       "d                                        NaN        NaN  \n",
       "arrival                                  NaN        NaN  \n",
       "iforderpv_24h                            1.0        1.0  \n",
       "decisionhabit_user                      27.0     3167.0  \n",
       "historyvisit_7ordernum                   7.0      106.0  \n",
       "historyvisit_totalordernum              82.0      711.0  \n",
       "hotelcr                                 1.19       3.18  \n",
       "ordercanceledprecent                     1.0        1.0  \n",
       "landhalfhours                           48.0       49.0  \n",
       "ordercanncelednum                     1752.0    13475.0  \n",
       "commentnums                           8796.0    34189.0  \n",
       "starprefer                             100.0      100.0  \n",
       "novoters                             11576.0    45455.0  \n",
       "consuming_capacity                     100.0      100.0  \n",
       "historyvisit_avghotelnum                29.0     3167.0  \n",
       "cancelrate                            6399.0    18930.0  \n",
       "historyvisit_visit_detailpagenum       262.0     6199.0  \n",
       "delta_price1                          1081.0     5398.0  \n",
       "price_sensitive                        100.0      100.0  \n",
       "hoteluv                              964.113   1722.613  \n",
       "businessrate_pre                         0.8       0.99  \n",
       "ordernum_oneyear                        81.0      711.0  \n",
       "cr_pre                                  1.19       2.95  \n",
       "avgprice                              1491.0     6383.0  \n",
       "lowestprice                           1823.0   100000.0  \n",
       "firstorder_bu                           17.0       21.0  \n",
       "customereval_pre2                        5.5        6.0  \n",
       "delta_price2                          1018.0     5114.0  \n",
       "commentnums_pre                       9732.0    34189.0  \n",
       "customer_value_profit                 28.451    598.064  \n",
       "commentnums_pre2                      7457.0    34189.0  \n",
       "cancelrate_pre                           1.0        1.0  \n",
       "novoters_pre2                        10018.0    45436.0  \n",
       "novoters_pre                         13839.0    45436.0  \n",
       "ctrip_profits                        40.7558     600.82  \n",
       "deltaprice_pre2_t1                     111.0     3324.0  \n",
       "lowestprice_pre                       1750.0   100000.0  \n",
       "uv_pre                              1047.787   1722.613  \n",
       "uv_pre2                             856.7254   1722.613  \n",
       "lowestprice_pre2                      1464.0    43700.0  \n",
       "lasthtlordergap                     484734.0   527026.0  \n",
       "businessrate_pre2                       0.78       0.99  \n",
       "cityuvs                               66.007      67.14  \n",
       "cityorders                            14.453     14.507  \n",
       "lastpvgap                           138722.0   194386.0  \n",
       "cr                                       2.0       11.0  \n",
       "sid                                   1212.0     9956.0  \n",
       "visitnum_oneyear                    262567.0  9651192.0  \n",
       "h                                       23.0       23.0  "
      ]
     },
     "execution_count": 85,
     "metadata": {},
     "output_type": "execute_result"
    }
   ],
   "source": [
    "data.describe([0.01,0.25,0.5,0.75,0.99],include='all').T"
   ]
  },
  {
   "cell_type": "markdown",
   "metadata": {},
   "source": [
    "**定义盖帽法处理异常值**"
   ]
  },
  {
   "cell_type": "code",
   "execution_count": 86,
   "metadata": {},
   "outputs": [
    {
     "data": {
      "text/html": [
       "<div>\n",
       "<style scoped>\n",
       "    .dataframe tbody tr th:only-of-type {\n",
       "        vertical-align: middle;\n",
       "    }\n",
       "\n",
       "    .dataframe tbody tr th {\n",
       "        vertical-align: top;\n",
       "    }\n",
       "\n",
       "    .dataframe thead th {\n",
       "        text-align: right;\n",
       "    }\n",
       "</style>\n",
       "<table border=\"1\" class=\"dataframe\">\n",
       "  <thead>\n",
       "    <tr style=\"text-align: right;\">\n",
       "      <th></th>\n",
       "      <th>count</th>\n",
       "      <th>mean</th>\n",
       "      <th>std</th>\n",
       "      <th>min</th>\n",
       "      <th>1%</th>\n",
       "      <th>25%</th>\n",
       "      <th>50%</th>\n",
       "      <th>75%</th>\n",
       "      <th>99%</th>\n",
       "      <th>max</th>\n",
       "    </tr>\n",
       "  </thead>\n",
       "  <tbody>\n",
       "    <tr>\n",
       "      <th>lowestprice</th>\n",
       "      <td>687931.0</td>\n",
       "      <td>318.806242</td>\n",
       "      <td>575.782415</td>\n",
       "      <td>-3.0</td>\n",
       "      <td>37.0</td>\n",
       "      <td>116.0</td>\n",
       "      <td>200.0</td>\n",
       "      <td>380.0</td>\n",
       "      <td>1823.0</td>\n",
       "      <td>100000.0</td>\n",
       "    </tr>\n",
       "    <tr>\n",
       "      <th>lowestprice_pre</th>\n",
       "      <td>659689.0</td>\n",
       "      <td>315.954583</td>\n",
       "      <td>463.723643</td>\n",
       "      <td>1.0</td>\n",
       "      <td>38.0</td>\n",
       "      <td>118.0</td>\n",
       "      <td>208.0</td>\n",
       "      <td>385.0</td>\n",
       "      <td>1750.0</td>\n",
       "      <td>100000.0</td>\n",
       "    </tr>\n",
       "  </tbody>\n",
       "</table>\n",
       "</div>"
      ],
      "text/plain": [
       "                    count        mean         std  min    1%    25%    50%  \\\n",
       "lowestprice      687931.0  318.806242  575.782415 -3.0  37.0  116.0  200.0   \n",
       "lowestprice_pre  659689.0  315.954583  463.723643  1.0  38.0  118.0  208.0   \n",
       "\n",
       "                   75%     99%       max  \n",
       "lowestprice      380.0  1823.0  100000.0  \n",
       "lowestprice_pre  385.0  1750.0  100000.0  "
      ]
     },
     "execution_count": 86,
     "metadata": {},
     "output_type": "execute_result"
    }
   ],
   "source": [
    "data.loc[:,['lowestprice','lowestprice_pre']].describe([0.01,0.25,0.5,0.75,0.99],include='all').T"
   ]
  },
  {
   "cell_type": "code",
   "execution_count": 24,
   "metadata": {},
   "outputs": [],
   "source": [
    "col_01 = ['lowestprice','lowestprice_pre'] # 偏态严重"
   ]
  },
  {
   "cell_type": "code",
   "execution_count": 22,
   "metadata": {},
   "outputs": [],
   "source": [
    "def block_lower(x):\n",
    "# x是输⼊入的Series对象,替换1%分位数\n",
    "    ql = x.quantile(.01) # 返回分位数，括号内填入的是分位数的百分比，如果括号内是0.5那么就是中位数，如果是0.25就是下四分位数\n",
    "    out = x.mask(x<ql,ql) # https://vimsky.com/zh-tw/examples/usage/python-pandas-series-mask.html\n",
    "    return(out)\n",
    "\n",
    "def block_upper(x):\n",
    "# x是输⼊入的Series对象,替换99%分位数\n",
    "    qu = x.quantile(.99)\n",
    "    out = x.mask(x>qu,qu)\n",
    "    return(out)"
   ]
  },
  {
   "cell_type": "code",
   "execution_count": 25,
   "metadata": {},
   "outputs": [],
   "source": [
    "data.loc[:,col_01]=data.loc[:,col_01].apply(block_upper)\n",
    "\n",
    "data.loc[:,col_01]=data.loc[:,col_01].apply(block_lower)"
   ]
  },
  {
   "cell_type": "code",
   "execution_count": 26,
   "metadata": {},
   "outputs": [
    {
     "data": {
      "text/html": [
       "<div>\n",
       "<style scoped>\n",
       "    .dataframe tbody tr th:only-of-type {\n",
       "        vertical-align: middle;\n",
       "    }\n",
       "\n",
       "    .dataframe tbody tr th {\n",
       "        vertical-align: top;\n",
       "    }\n",
       "\n",
       "    .dataframe thead th {\n",
       "        text-align: right;\n",
       "    }\n",
       "</style>\n",
       "<table border=\"1\" class=\"dataframe\">\n",
       "  <thead>\n",
       "    <tr style=\"text-align: right;\">\n",
       "      <th></th>\n",
       "      <th>count</th>\n",
       "      <th>mean</th>\n",
       "      <th>std</th>\n",
       "      <th>min</th>\n",
       "      <th>1%</th>\n",
       "      <th>25%</th>\n",
       "      <th>50%</th>\n",
       "      <th>75%</th>\n",
       "      <th>99%</th>\n",
       "      <th>max</th>\n",
       "    </tr>\n",
       "  </thead>\n",
       "  <tbody>\n",
       "    <tr>\n",
       "      <th>lowestprice</th>\n",
       "      <td>687931.0</td>\n",
       "      <td>305.025771</td>\n",
       "      <td>297.382838</td>\n",
       "      <td>37.0</td>\n",
       "      <td>37.0</td>\n",
       "      <td>116.0</td>\n",
       "      <td>200.0</td>\n",
       "      <td>380.0</td>\n",
       "      <td>1823.0</td>\n",
       "      <td>1823.0</td>\n",
       "    </tr>\n",
       "    <tr>\n",
       "      <th>lowestprice_pre</th>\n",
       "      <td>659689.0</td>\n",
       "      <td>304.439507</td>\n",
       "      <td>287.192512</td>\n",
       "      <td>38.0</td>\n",
       "      <td>38.0</td>\n",
       "      <td>118.0</td>\n",
       "      <td>208.0</td>\n",
       "      <td>385.0</td>\n",
       "      <td>1750.0</td>\n",
       "      <td>1750.0</td>\n",
       "    </tr>\n",
       "  </tbody>\n",
       "</table>\n",
       "</div>"
      ],
      "text/plain": [
       "                    count        mean         std   min    1%    25%    50%  \\\n",
       "lowestprice      687931.0  305.025771  297.382838  37.0  37.0  116.0  200.0   \n",
       "lowestprice_pre  659689.0  304.439507  287.192512  38.0  38.0  118.0  208.0   \n",
       "\n",
       "                   75%     99%     max  \n",
       "lowestprice      380.0  1823.0  1823.0  \n",
       "lowestprice_pre  385.0  1750.0  1750.0  "
      ]
     },
     "execution_count": 26,
     "metadata": {},
     "output_type": "execute_result"
    }
   ],
   "source": [
    "data.loc[:,['lowestprice','lowestprice_pre']].describe([0.01,0.25,0.5,0.75,0.99],include='all').T"
   ]
  },
  {
   "cell_type": "markdown",
   "metadata": {},
   "source": [
    "### 18 - 数据划分"
   ]
  },
  {
   "cell_type": "code",
   "execution_count": 27,
   "metadata": {},
   "outputs": [],
   "source": [
    "data_copy = data.copy(deep=True) # 备份数据,deep=True是深拷贝，同浅拷贝有所不同，他不会因为备份数据改变而改变"
   ]
  },
  {
   "cell_type": "code",
   "execution_count": 29,
   "metadata": {},
   "outputs": [
    {
     "name": "stdout",
     "output_type": "stream",
     "text": [
      "<class 'pandas.core.frame.DataFrame'>\n",
      "RangeIndex: 689945 entries, 0 to 689944\n",
      "Data columns (total 51 columns):\n",
      " #   Column                            Non-Null Count   Dtype  \n",
      "---  ------                            --------------   -----  \n",
      " 0   label                             689945 non-null  int64  \n",
      " 1   sampleid                          689945 non-null  int64  \n",
      " 2   d                                 689945 non-null  object \n",
      " 3   arrival                           689945 non-null  object \n",
      " 4   iforderpv_24h                     689945 non-null  int64  \n",
      " 5   decisionhabit_user                385450 non-null  float64\n",
      " 6   historyvisit_7ordernum            82915 non-null   float64\n",
      " 7   historyvisit_totalordernum        386525 non-null  float64\n",
      " 8   hotelcr                           689148 non-null  float64\n",
      " 9   ordercanceledprecent              447831 non-null  float64\n",
      " 10  landhalfhours                     661312 non-null  float64\n",
      " 11  ordercanncelednum                 447831 non-null  float64\n",
      " 12  commentnums                       622029 non-null  float64\n",
      " 13  starprefer                        464892 non-null  float64\n",
      " 14  novoters                          672918 non-null  float64\n",
      " 15  consuming_capacity                463837 non-null  float64\n",
      " 16  historyvisit_avghotelnum          387876 non-null  float64\n",
      " 17  cancelrate                        678227 non-null  float64\n",
      " 18  historyvisit_visit_detailpagenum  307234 non-null  float64\n",
      " 19  delta_price1                      437146 non-null  float64\n",
      " 20  price_sensitive                   463837 non-null  float64\n",
      " 21  hoteluv                           689148 non-null  float64\n",
      " 22  businessrate_pre                  483896 non-null  float64\n",
      " 23  ordernum_oneyear                  447831 non-null  float64\n",
      " 24  cr_pre                            660548 non-null  float64\n",
      " 25  avgprice                          457261 non-null  float64\n",
      " 26  lowestprice                       687931 non-null  float64\n",
      " 27  firstorder_bu                     376993 non-null  float64\n",
      " 28  customereval_pre2                 661312 non-null  float64\n",
      " 29  delta_price2                      437750 non-null  float64\n",
      " 30  commentnums_pre                   598368 non-null  float64\n",
      " 31  customer_value_profit             439123 non-null  float64\n",
      " 32  commentnums_pre2                  648457 non-null  float64\n",
      " 33  cancelrate_pre                    653015 non-null  float64\n",
      " 34  novoters_pre2                     657616 non-null  float64\n",
      " 35  novoters_pre                      648956 non-null  float64\n",
      " 36  ctrip_profits                     445187 non-null  float64\n",
      " 37  deltaprice_pre2_t1                543180 non-null  float64\n",
      " 38  lowestprice_pre                   659689 non-null  float64\n",
      " 39  uv_pre                            660548 non-null  float64\n",
      " 40  uv_pre2                           661189 non-null  float64\n",
      " 41  lowestprice_pre2                  660664 non-null  float64\n",
      " 42  lasthtlordergap                   447831 non-null  float64\n",
      " 43  businessrate_pre2                 602960 non-null  float64\n",
      " 44  cityuvs                           682274 non-null  float64\n",
      " 45  cityorders                        651263 non-null  float64\n",
      " 46  lastpvgap                         592818 non-null  float64\n",
      " 47  cr                                457896 non-null  float64\n",
      " 48  sid                               689945 non-null  int64  \n",
      " 49  visitnum_oneyear                  592910 non-null  float64\n",
      " 50  h                                 689945 non-null  int64  \n",
      "dtypes: float64(44), int64(5), object(2)\n",
      "memory usage: 268.5+ MB\n"
     ]
    }
   ],
   "source": [
    "data_copy.info()"
   ]
  },
  {
   "cell_type": "markdown",
   "metadata": {},
   "source": [
    "运用切片选取数据"
   ]
  },
  {
   "cell_type": "code",
   "execution_count": 28,
   "metadata": {},
   "outputs": [],
   "source": [
    "X = data_copy.iloc[:,2:]\n",
    "y = data_copy.label"
   ]
  },
  {
   "cell_type": "code",
   "execution_count": 30,
   "metadata": {},
   "outputs": [],
   "source": [
    "# test_size为测试集所占比例，random_state为随机种子，用于锁定随机数\n",
    "Xtrain,Xtest,Ytrain,Ytest = train_test_split(X,y,test_size=0.3,random_state=666)"
   ]
  },
  {
   "cell_type": "markdown",
   "metadata": {},
   "source": [
    "### 19 - 特征筛选"
   ]
  },
  {
   "cell_type": "markdown",
   "metadata": {},
   "source": [
    "将不同类型的变量进行区别对待处理"
   ]
  },
  {
   "cell_type": "code",
   "execution_count": 31,
   "metadata": {},
   "outputs": [],
   "source": [
    "cols = X.columns.to_list()\n",
    "col_no = ['sid','iforderpv_24h','h'] #没有缺失值的特征\n",
    "col_clf = ['decisionhabit_user'] # 分类型变量\n",
    "col_neg = ['delta_price1','delta_price2','customer_value_profit'\n",
    "           ,'ctrip_profits','deltaprice_pre2_t1'] # 含有负数\n",
    "col_35 = ['firstorder_bu','decisionhabit_user','historyvisit_totalordernum'\n",
    " ,'historyvisit_avghotelnum','customer_value_profit','ctrip_profits','ordernum_oneyear'\n",
    " ,'lasthtlordergap','ordercanceledprecent','ordercanncelednum'] # 缺失35% —— 55%"
   ]
  },
  {
   "cell_type": "markdown",
   "metadata": {},
   "source": [
    "筛选方差大于100的列"
   ]
  },
  {
   "cell_type": "code",
   "execution_count": 32,
   "metadata": {},
   "outputs": [
    {
     "data": {
      "text/plain": [
       "Index(['sampleid', 'ordercanncelednum', 'commentnums', 'novoters',\n",
       "       'cancelrate', 'delta_price1', 'hoteluv', 'avgprice', 'lowestprice',\n",
       "       'delta_price2', 'commentnums_pre', 'commentnums_pre2', 'novoters_pre2',\n",
       "       'novoters_pre', 'lowestprice_pre', 'uv_pre', 'uv_pre2',\n",
       "       'lowestprice_pre2', 'lasthtlordergap', 'lastpvgap', 'sid',\n",
       "       'visitnum_oneyear'],\n",
       "      dtype='object')"
      ]
     },
     "execution_count": 32,
     "metadata": {},
     "output_type": "execute_result"
    }
   ],
   "source": [
    "data.columns[data.describe(include='all').T['std'] >100]"
   ]
  },
  {
   "cell_type": "code",
   "execution_count": 33,
   "metadata": {},
   "outputs": [],
   "source": [
    "col_std = data.columns[data.describe(include='all').T['std'] >100].to_list() # std >100"
   ]
  },
  {
   "cell_type": "code",
   "execution_count": 34,
   "metadata": {},
   "outputs": [],
   "source": [
    "col_norm = list(set(cols)-set(col_clf + col_std + col_neg + col_no +col_35))"
   ]
  },
  {
   "cell_type": "code",
   "execution_count": 35,
   "metadata": {},
   "outputs": [
    {
     "data": {
      "text/plain": [
       "['consuming_capacity',\n",
       " 'customereval_pre2',\n",
       " 'cityorders',\n",
       " 'starprefer',\n",
       " 'historyvisit_7ordernum',\n",
       " 'arrival',\n",
       " 'businessrate_pre2',\n",
       " 'cancelrate_pre',\n",
       " 'cr',\n",
       " 'cr_pre',\n",
       " 'hotelcr',\n",
       " 'historyvisit_visit_detailpagenum',\n",
       " 'cityuvs',\n",
       " 'landhalfhours',\n",
       " 'd',\n",
       " 'businessrate_pre',\n",
       " 'price_sensitive']"
      ]
     },
     "execution_count": 35,
     "metadata": {},
     "output_type": "execute_result"
    }
   ],
   "source": [
    "col_norm"
   ]
  },
  {
   "cell_type": "markdown",
   "metadata": {},
   "source": [
    "通过remove删除列"
   ]
  },
  {
   "cell_type": "code",
   "execution_count": 36,
   "metadata": {},
   "outputs": [],
   "source": [
    "col_std.remove('delta_price1')\n",
    "col_std.remove('delta_price2')\n",
    "col_std.remove('sampleid')\n",
    "col_std.remove('lasthtlordergap')"
   ]
  },
  {
   "cell_type": "markdown",
   "metadata": {},
   "source": [
    "### 20 - 缺失值填补"
   ]
  },
  {
   "cell_type": "markdown",
   "metadata": {},
   "source": [
    "- 分类型变量用 '众数填补' —— col_clf\n",
    "- 含有负数的特征用 '中值填补' —— col_neg\n",
    "- std > 100 方差大于100的连续型变量用 '中值填补' —— col_std\n",
    "- 缺失35%——55%用 '常数 -1 填充' 单独做一类\n",
    "- 其余变量用 '均值填补' —— col_norm"
   ]
  },
  {
   "cell_type": "code",
   "execution_count": 37,
   "metadata": {},
   "outputs": [],
   "source": [
    "Xtrain.loc[:,col_clf] = Xtrain.loc[:,col_clf].fillna(Xtrain.loc[:,col_clf].mode()) # 众数"
   ]
  },
  {
   "cell_type": "code",
   "execution_count": 38,
   "metadata": {},
   "outputs": [],
   "source": [
    "Xtrain.loc[:,col_neg] = Xtrain.loc[:,col_neg].fillna(Xtrain.loc[:,col_neg].median()) # 中位数"
   ]
  },
  {
   "cell_type": "code",
   "execution_count": 39,
   "metadata": {},
   "outputs": [],
   "source": [
    "Xtrain.loc[:,col_std] = Xtrain.loc[:,col_std].fillna(Xtrain.loc[:,col_std].median())"
   ]
  },
  {
   "cell_type": "code",
   "execution_count": 40,
   "metadata": {},
   "outputs": [
    {
     "name": "stderr",
     "output_type": "stream",
     "text": [
      "C:\\Users\\86159\\AppData\\Local\\Temp\\ipykernel_4904\\1303577457.py:1: FutureWarning: Dropping of nuisance columns in DataFrame reductions (with 'numeric_only=None') is deprecated; in a future version this will raise TypeError.  Select only valid columns before calling the reduction.\n",
      "  Xtrain.loc[:,col_norm] = Xtrain.loc[:,col_norm].fillna(Xtrain.loc[:,col_norm].mean())\n"
     ]
    }
   ],
   "source": [
    "Xtrain.loc[:,col_norm] = Xtrain.loc[:,col_norm].fillna(Xtrain.loc[:,col_norm].mean())"
   ]
  },
  {
   "cell_type": "code",
   "execution_count": 41,
   "metadata": {},
   "outputs": [],
   "source": [
    "Xtrain.loc[:,col_35] = Xtrain.loc[:,col_35].fillna(-1)"
   ]
  },
  {
   "cell_type": "markdown",
   "metadata": {},
   "source": [
    "**检查缺失值填补情况**"
   ]
  },
  {
   "cell_type": "markdown",
   "metadata": {},
   "source": [
    "查看训练集合的缺失值情况"
   ]
  },
  {
   "cell_type": "code",
   "execution_count": 42,
   "metadata": {},
   "outputs": [
    {
     "data": {
      "text/plain": [
       "0"
      ]
     },
     "execution_count": 42,
     "metadata": {},
     "output_type": "execute_result"
    }
   ],
   "source": [
    "Xtrain.isna().any().sum()"
   ]
  },
  {
   "cell_type": "markdown",
   "metadata": {},
   "source": [
    "查看数据集合的缺失情况"
   ]
  },
  {
   "cell_type": "code",
   "execution_count": 43,
   "metadata": {},
   "outputs": [
    {
     "data": {
      "text/plain": [
       "44"
      ]
     },
     "execution_count": 43,
     "metadata": {},
     "output_type": "execute_result"
    }
   ],
   "source": [
    "Xtest.isna().any().sum()"
   ]
  },
  {
   "cell_type": "code",
   "execution_count": 42,
   "metadata": {},
   "outputs": [],
   "source": [
    "# 特征创造\n",
    "# ordernum_oneyear_train = Xtrain.loc[:,'ordernum_oneyear'].reset_index(drop=True)\n",
    "# ordernum_oneyear_test = Xtest.loc[:,'ordernum_oneyear'].reset_index(drop=True)\n",
    "# avgprice_train = Xtrain.loc[:,'avgprice'].reset_index(drop=True)\n",
    "# avgprice_test = Xtest.loc[:,'avgprice'].reset_index(drop=True)\n",
    "\n",
    "# M_train = ordernum_oneyear_train * avgprice_train\n",
    "\n",
    "# M_test = ordernum_oneyear_test * avgprice_test\n",
    "\n",
    "# M_train.to_csv('M_train.csv')\n",
    "# M_test.to_csv('M_test.csv')"
   ]
  },
  {
   "cell_type": "markdown",
   "metadata": {},
   "source": [
    "## 特征选择"
   ]
  },
  {
   "cell_type": "markdown",
   "metadata": {},
   "source": [
    "查看正负样本均衡与否"
   ]
  },
  {
   "cell_type": "code",
   "execution_count": 44,
   "metadata": {},
   "outputs": [
    {
     "data": {
      "text/plain": [
       "0    500588\n",
       "1    189357\n",
       "Name: label, dtype: int64"
      ]
     },
     "execution_count": 44,
     "metadata": {},
     "output_type": "execute_result"
    }
   ],
   "source": [
    "y.value_counts()"
   ]
  },
  {
   "cell_type": "markdown",
   "metadata": {},
   "source": [
    "### 方差过滤"
   ]
  },
  {
   "cell_type": "markdown",
   "metadata": {},
   "source": [
    "https://scikit-learn.org/stable/modules/generated/sklearn.feature_selection.VarianceThreshold.html"
   ]
  },
  {
   "cell_type": "markdown",
   "metadata": {},
   "source": [
    "删除日期列"
   ]
  },
  {
   "cell_type": "code",
   "execution_count": 45,
   "metadata": {},
   "outputs": [],
   "source": [
    "Xtrain = Xtrain.drop(columns=['d', 'arrival'])\n",
    "Xtest = Xtest.drop(columns=['d', 'arrival'])"
   ]
  },
  {
   "cell_type": "markdown",
   "metadata": {},
   "source": [
    "方差过滤"
   ]
  },
  {
   "cell_type": "code",
   "execution_count": 52,
   "metadata": {},
   "outputs": [],
   "source": [
    "selector = VarianceThreshold()\n",
    "Xtrain_var0 = selector.fit(Xtrain).transform(Xtrain) # 删除 0 方差后的新数组"
   ]
  },
  {
   "cell_type": "code",
   "execution_count": 46,
   "metadata": {},
   "outputs": [
    {
     "data": {
      "text/html": [
       "<style>#sk-container-id-1 {color: black;background-color: white;}#sk-container-id-1 pre{padding: 0;}#sk-container-id-1 div.sk-toggleable {background-color: white;}#sk-container-id-1 label.sk-toggleable__label {cursor: pointer;display: block;width: 100%;margin-bottom: 0;padding: 0.3em;box-sizing: border-box;text-align: center;}#sk-container-id-1 label.sk-toggleable__label-arrow:before {content: \"▸\";float: left;margin-right: 0.25em;color: #696969;}#sk-container-id-1 label.sk-toggleable__label-arrow:hover:before {color: black;}#sk-container-id-1 div.sk-estimator:hover label.sk-toggleable__label-arrow:before {color: black;}#sk-container-id-1 div.sk-toggleable__content {max-height: 0;max-width: 0;overflow: hidden;text-align: left;background-color: #f0f8ff;}#sk-container-id-1 div.sk-toggleable__content pre {margin: 0.2em;color: black;border-radius: 0.25em;background-color: #f0f8ff;}#sk-container-id-1 input.sk-toggleable__control:checked~div.sk-toggleable__content {max-height: 200px;max-width: 100%;overflow: auto;}#sk-container-id-1 input.sk-toggleable__control:checked~label.sk-toggleable__label-arrow:before {content: \"▾\";}#sk-container-id-1 div.sk-estimator input.sk-toggleable__control:checked~label.sk-toggleable__label {background-color: #d4ebff;}#sk-container-id-1 div.sk-label input.sk-toggleable__control:checked~label.sk-toggleable__label {background-color: #d4ebff;}#sk-container-id-1 input.sk-hidden--visually {border: 0;clip: rect(1px 1px 1px 1px);clip: rect(1px, 1px, 1px, 1px);height: 1px;margin: -1px;overflow: hidden;padding: 0;position: absolute;width: 1px;}#sk-container-id-1 div.sk-estimator {font-family: monospace;background-color: #f0f8ff;border: 1px dotted black;border-radius: 0.25em;box-sizing: border-box;margin-bottom: 0.5em;}#sk-container-id-1 div.sk-estimator:hover {background-color: #d4ebff;}#sk-container-id-1 div.sk-parallel-item::after {content: \"\";width: 100%;border-bottom: 1px solid gray;flex-grow: 1;}#sk-container-id-1 div.sk-label:hover label.sk-toggleable__label {background-color: #d4ebff;}#sk-container-id-1 div.sk-serial::before {content: \"\";position: absolute;border-left: 1px solid gray;box-sizing: border-box;top: 0;bottom: 0;left: 50%;z-index: 0;}#sk-container-id-1 div.sk-serial {display: flex;flex-direction: column;align-items: center;background-color: white;padding-right: 0.2em;padding-left: 0.2em;position: relative;}#sk-container-id-1 div.sk-item {position: relative;z-index: 1;}#sk-container-id-1 div.sk-parallel {display: flex;align-items: stretch;justify-content: center;background-color: white;position: relative;}#sk-container-id-1 div.sk-item::before, #sk-container-id-1 div.sk-parallel-item::before {content: \"\";position: absolute;border-left: 1px solid gray;box-sizing: border-box;top: 0;bottom: 0;left: 50%;z-index: -1;}#sk-container-id-1 div.sk-parallel-item {display: flex;flex-direction: column;z-index: 1;position: relative;background-color: white;}#sk-container-id-1 div.sk-parallel-item:first-child::after {align-self: flex-end;width: 50%;}#sk-container-id-1 div.sk-parallel-item:last-child::after {align-self: flex-start;width: 50%;}#sk-container-id-1 div.sk-parallel-item:only-child::after {width: 0;}#sk-container-id-1 div.sk-dashed-wrapped {border: 1px dashed gray;margin: 0 0.4em 0.5em 0.4em;box-sizing: border-box;padding-bottom: 0.4em;background-color: white;}#sk-container-id-1 div.sk-label label {font-family: monospace;font-weight: bold;display: inline-block;line-height: 1.2em;}#sk-container-id-1 div.sk-label-container {text-align: center;}#sk-container-id-1 div.sk-container {/* jupyter's `normalize.less` sets `[hidden] { display: none; }` but bootstrap.min.css set `[hidden] { display: none !important; }` so we also need the `!important` here to be able to override the default hidden behavior on the sphinx rendered scikit-learn.org. See: https://github.com/scikit-learn/scikit-learn/issues/21755 */display: inline-block !important;position: relative;}#sk-container-id-1 div.sk-text-repr-fallback {display: none;}</style><div id=\"sk-container-id-1\" class=\"sk-top-container\"><div class=\"sk-text-repr-fallback\"><pre>VarianceThreshold()</pre><b>In a Jupyter environment, please rerun this cell to show the HTML representation or trust the notebook. <br />On GitHub, the HTML representation is unable to render, please try loading this page with nbviewer.org.</b></div><div class=\"sk-container\" hidden><div class=\"sk-item\"><div class=\"sk-estimator sk-toggleable\"><input class=\"sk-toggleable__control sk-hidden--visually\" id=\"sk-estimator-id-1\" type=\"checkbox\" checked><label for=\"sk-estimator-id-1\" class=\"sk-toggleable__label sk-toggleable__label-arrow\">VarianceThreshold</label><div class=\"sk-toggleable__content\"><pre>VarianceThreshold()</pre></div></div></div></div></div>"
      ],
      "text/plain": [
       "VarianceThreshold()"
      ]
     },
     "execution_count": 46,
     "metadata": {},
     "output_type": "execute_result"
    }
   ],
   "source": [
    "VarianceThreshold().fit(Xtrain)"
   ]
  },
  {
   "cell_type": "code",
   "execution_count": 49,
   "metadata": {},
   "outputs": [
    {
     "data": {
      "text/plain": [
       "array([[ 1.00000000e+00,  6.00000000e+00,  1.00000000e+00, ...,\n",
       "         1.11000000e+02,  2.16200000e+03,  1.80000000e+01],\n",
       "       [ 0.00000000e+00,  2.00000000e+00,  1.85898497e+00, ...,\n",
       "         5.40000000e+01,  1.39700000e+03,  2.20000000e+01],\n",
       "       [ 0.00000000e+00,  1.00000000e+00,  1.00000000e+00, ...,\n",
       "         3.85000000e+02,  2.88100000e+03,  1.50000000e+01],\n",
       "       ...,\n",
       "       [ 1.00000000e+00, -1.00000000e+00,  1.85898497e+00, ...,\n",
       "         6.00000000e+00,  1.77200000e+03,  3.00000000e+00],\n",
       "       [ 0.00000000e+00, -1.00000000e+00,  1.00000000e+00, ...,\n",
       "         6.55000000e+02,  1.31600000e+03,  2.10000000e+01],\n",
       "       [ 0.00000000e+00, -1.00000000e+00,  1.85898497e+00, ...,\n",
       "         8.00000000e+00,  1.31600000e+03,  2.30000000e+01]])"
      ]
     },
     "execution_count": 49,
     "metadata": {},
     "output_type": "execute_result"
    }
   ],
   "source": [
    "VarianceThreshold().fit(Xtrain).transform(Xtrain) # 等同于 VarianceThreshold().fit_transform(Xtrain)"
   ]
  },
  {
   "cell_type": "code",
   "execution_count": 48,
   "metadata": {},
   "outputs": [
    {
     "data": {
      "text/plain": [
       "(482961, 47)"
      ]
     },
     "execution_count": 48,
     "metadata": {},
     "output_type": "execute_result"
    }
   ],
   "source": [
    "VarianceThreshold().fit(Xtrain).transform(Xtrain).shape"
   ]
  },
  {
   "cell_type": "code",
   "execution_count": 50,
   "metadata": {},
   "outputs": [
    {
     "data": {
      "text/plain": [
       "(482961, 47)"
      ]
     },
     "execution_count": 50,
     "metadata": {},
     "output_type": "execute_result"
    }
   ],
   "source": [
    "Xtrain.shape"
   ]
  },
  {
   "cell_type": "markdown",
   "metadata": {},
   "source": [
    "过滤完后查看数据形状"
   ]
  },
  {
   "cell_type": "code",
   "execution_count": 123,
   "metadata": {},
   "outputs": [
    {
     "data": {
      "text/plain": [
       "(482961, 47)"
      ]
     },
     "execution_count": 123,
     "metadata": {},
     "output_type": "execute_result"
    }
   ],
   "source": [
    "Xtrain.shape"
   ]
  },
  {
   "cell_type": "code",
   "execution_count": 124,
   "metadata": {
    "scrolled": true
   },
   "outputs": [
    {
     "data": {
      "text/plain": [
       "(482961, 47)"
      ]
     },
     "execution_count": 124,
     "metadata": {},
     "output_type": "execute_result"
    }
   ],
   "source": [
    "Xtrain_var0.shape"
   ]
  },
  {
   "cell_type": "markdown",
   "metadata": {},
   "source": [
    "### F_检验"
   ]
  },
  {
   "cell_type": "markdown",
   "metadata": {},
   "source": [
    "https://scikit-learn.org/stable/modules/generated/sklearn.feature_selection.f_classif.html\n",
    "\n",
    "http://lijiancheng0614.github.io/scikit-learn/modules/generated/sklearn.feature_selection.f_classif.html"
   ]
  },
  {
   "cell_type": "code",
   "execution_count": 53,
   "metadata": {},
   "outputs": [],
   "source": [
    "F , pvalues_f = f_classif(Xtrain,Ytrain)"
   ]
  },
  {
   "cell_type": "markdown",
   "metadata": {},
   "source": [
    "查看F值"
   ]
  },
  {
   "cell_type": "code",
   "execution_count": 55,
   "metadata": {},
   "outputs": [
    {
     "data": {
      "text/plain": [
       "array([5.91193624e+03, 1.93995904e+00, 5.66187178e+02, 1.10748523e+04,\n",
       "       6.52588756e+03, 5.72616656e+03, 2.34402404e+02, 4.71035154e+03,\n",
       "       9.63228309e-01, 3.48993536e+01, 2.69161646e+00, 2.96230367e+02,\n",
       "       4.45001376e+00, 4.09092508e+01, 1.84634401e-01, 6.66912134e+02,\n",
       "       4.02901071e+00, 1.31726129e+03, 6.45113345e+03, 1.24045963e+04,\n",
       "       6.35625789e+03, 1.11075725e+02, 2.11018777e+03, 9.11616695e+02,\n",
       "       3.76655886e+02, 9.85304381e+02, 8.61980927e+00, 2.95985745e+03,\n",
       "       3.59246695e+01, 1.79738069e+02, 7.67313405e+00, 3.04910588e-02,\n",
       "       2.70403338e+03, 1.18798987e+01, 1.52209921e+03, 1.52800082e+03,\n",
       "       1.97523458e+03, 1.67256060e+03, 4.20295879e+02, 8.55081976e+03,\n",
       "       4.81856327e+03, 4.54167636e+03, 6.54280347e+01, 1.58147894e+04,\n",
       "       6.31860633e+01, 3.35011334e+02, 2.98914773e+03])"
      ]
     },
     "execution_count": 55,
     "metadata": {},
     "output_type": "execute_result"
    }
   ],
   "source": [
    "F"
   ]
  },
  {
   "cell_type": "code",
   "execution_count": 54,
   "metadata": {},
   "outputs": [
    {
     "data": {
      "text/plain": [
       "(47,)"
      ]
     },
     "execution_count": 54,
     "metadata": {},
     "output_type": "execute_result"
    }
   ],
   "source": [
    "F.shape"
   ]
  },
  {
   "cell_type": "markdown",
   "metadata": {},
   "source": [
    "查看p值"
   ]
  },
  {
   "cell_type": "code",
   "execution_count": 56,
   "metadata": {},
   "outputs": [
    {
     "data": {
      "text/plain": [
       "array([0.00000000e+000, 1.63673622e-001, 4.47689829e-125, 0.00000000e+000,\n",
       "       0.00000000e+000, 0.00000000e+000, 6.72579265e-053, 0.00000000e+000,\n",
       "       3.26375337e-001, 3.47427483e-009, 1.00878081e-001, 2.28516134e-066,\n",
       "       3.49014787e-002, 1.59609407e-010, 6.67420584e-001, 5.90640741e-147,\n",
       "       4.47247156e-002, 4.92139290e-288, 0.00000000e+000, 0.00000000e+000,\n",
       "       0.00000000e+000, 5.73245469e-026, 0.00000000e+000, 4.50308055e-200,\n",
       "       7.16278251e-084, 4.64497778e-216, 3.32542335e-003, 0.00000000e+000,\n",
       "       2.05240027e-009, 5.62279399e-041, 5.60511624e-003, 8.61380748e-001,\n",
       "       0.00000000e+000, 5.67478538e-004, 0.00000000e+000, 0.00000000e+000,\n",
       "       0.00000000e+000, 0.00000000e+000, 2.30633608e-093, 0.00000000e+000,\n",
       "       0.00000000e+000, 0.00000000e+000, 6.04130835e-016, 0.00000000e+000,\n",
       "       1.88475684e-015, 8.25479550e-075, 0.00000000e+000])"
      ]
     },
     "execution_count": 56,
     "metadata": {},
     "output_type": "execute_result"
    }
   ],
   "source": [
    "pvalues_f # 其中的数越大，相关性越低"
   ]
  },
  {
   "cell_type": "code",
   "execution_count": 57,
   "metadata": {},
   "outputs": [
    {
     "data": {
      "text/plain": [
       "(47,)"
      ]
     },
     "execution_count": 57,
     "metadata": {},
     "output_type": "execute_result"
    }
   ],
   "source": [
    "pvalues_f.shape"
   ]
  },
  {
   "cell_type": "markdown",
   "metadata": {},
   "source": [
    "**与标签没有显著相关性的变量有7个**"
   ]
  },
  {
   "cell_type": "code",
   "execution_count": 58,
   "metadata": {},
   "outputs": [
    {
     "data": {
      "text/plain": [
       "7"
      ]
     },
     "execution_count": 58,
     "metadata": {},
     "output_type": "execute_result"
    }
   ],
   "source": [
    "(pvalues_f>0.01).sum()"
   ]
  },
  {
   "cell_type": "markdown",
   "metadata": {},
   "source": [
    "**剔除没有相关性的变量**"
   ]
  },
  {
   "cell_type": "code",
   "execution_count": 59,
   "metadata": {
    "scrolled": true
   },
   "outputs": [
    {
     "data": {
      "text/plain": [
       "['iforderpv_24h',\n",
       " 'historyvisit_7ordernum',\n",
       " 'historyvisit_totalordernum',\n",
       " 'hotelcr',\n",
       " 'ordercanceledprecent',\n",
       " 'landhalfhours',\n",
       " 'ordercanncelednum',\n",
       " 'starprefer',\n",
       " 'consuming_capacity',\n",
       " 'cancelrate',\n",
       " 'delta_price1',\n",
       " 'hoteluv',\n",
       " 'businessrate_pre',\n",
       " 'ordernum_oneyear',\n",
       " 'cr_pre',\n",
       " 'avgprice',\n",
       " 'lowestprice',\n",
       " 'firstorder_bu',\n",
       " 'customereval_pre2',\n",
       " 'delta_price2',\n",
       " 'commentnums_pre',\n",
       " 'customer_value_profit',\n",
       " 'commentnums_pre2',\n",
       " 'cancelrate_pre',\n",
       " 'novoters_pre2',\n",
       " 'ctrip_profits',\n",
       " 'deltaprice_pre2_t1',\n",
       " 'lowestprice_pre',\n",
       " 'uv_pre',\n",
       " 'uv_pre2',\n",
       " 'lowestprice_pre2',\n",
       " 'lasthtlordergap',\n",
       " 'businessrate_pre2',\n",
       " 'cityuvs',\n",
       " 'cityorders',\n",
       " 'lastpvgap',\n",
       " 'cr',\n",
       " 'sid',\n",
       " 'visitnum_oneyear',\n",
       " 'h']"
      ]
     },
     "execution_count": 59,
     "metadata": {},
     "output_type": "execute_result"
    }
   ],
   "source": [
    "col_f = list(Xtrain.columns[pvalues_f<0.01])\n",
    "col_f"
   ]
  },
  {
   "cell_type": "code",
   "execution_count": 60,
   "metadata": {},
   "outputs": [],
   "source": [
    "Xtrain = Xtrain.loc[:,col_f] # 通过切片筛选所需要的数据\n",
    "Xtest = Xtest.loc[:,col_f]"
   ]
  },
  {
   "cell_type": "markdown",
   "metadata": {},
   "source": [
    "重置索引"
   ]
  },
  {
   "cell_type": "code",
   "execution_count": 64,
   "metadata": {},
   "outputs": [],
   "source": [
    "Xtrain.index = range(Xtrain.shape[0]) # 重置索引\n",
    "Ytrain = Ytrain.reset_index(drop=True) # 重置索引且删除下来的索引列\n",
    "Xtest.index = range(Xtest.shape[0]) # 重置索引\n",
    "\n",
    "Ytest = Ytest.reset_index(drop=True)"
   ]
  },
  {
   "cell_type": "code",
   "execution_count": 108,
   "metadata": {},
   "outputs": [
    {
     "data": {
      "text/html": [
       "<div>\n",
       "<style scoped>\n",
       "    .dataframe tbody tr th:only-of-type {\n",
       "        vertical-align: middle;\n",
       "    }\n",
       "\n",
       "    .dataframe tbody tr th {\n",
       "        vertical-align: top;\n",
       "    }\n",
       "\n",
       "    .dataframe thead th {\n",
       "        text-align: right;\n",
       "    }\n",
       "</style>\n",
       "<table border=\"1\" class=\"dataframe\">\n",
       "  <thead>\n",
       "    <tr style=\"text-align: right;\">\n",
       "      <th></th>\n",
       "      <th>iforderpv_24h</th>\n",
       "      <th>historyvisit_7ordernum</th>\n",
       "      <th>historyvisit_totalordernum</th>\n",
       "      <th>hotelcr</th>\n",
       "      <th>ordercanceledprecent</th>\n",
       "      <th>landhalfhours</th>\n",
       "      <th>ordercanncelednum</th>\n",
       "      <th>starprefer</th>\n",
       "      <th>consuming_capacity</th>\n",
       "      <th>cancelrate</th>\n",
       "      <th>...</th>\n",
       "      <th>lowestprice_pre2</th>\n",
       "      <th>lasthtlordergap</th>\n",
       "      <th>businessrate_pre2</th>\n",
       "      <th>cityuvs</th>\n",
       "      <th>cityorders</th>\n",
       "      <th>lastpvgap</th>\n",
       "      <th>cr</th>\n",
       "      <th>sid</th>\n",
       "      <th>visitnum_oneyear</th>\n",
       "      <th>h</th>\n",
       "    </tr>\n",
       "  </thead>\n",
       "  <tbody>\n",
       "    <tr>\n",
       "      <th>0</th>\n",
       "      <td>1</td>\n",
       "      <td>1.000000</td>\n",
       "      <td>6.0</td>\n",
       "      <td>1.04</td>\n",
       "      <td>0.84</td>\n",
       "      <td>9.0</td>\n",
       "      <td>16.0</td>\n",
       "      <td>90.000000</td>\n",
       "      <td>44.000000</td>\n",
       "      <td>1076.0</td>\n",
       "      <td>...</td>\n",
       "      <td>338.0</td>\n",
       "      <td>713.0</td>\n",
       "      <td>0.55000</td>\n",
       "      <td>5.387</td>\n",
       "      <td>0.680000</td>\n",
       "      <td>312.0</td>\n",
       "      <td>1.140000</td>\n",
       "      <td>111</td>\n",
       "      <td>2162.0</td>\n",
       "      <td>18</td>\n",
       "    </tr>\n",
       "    <tr>\n",
       "      <th>1</th>\n",
       "      <td>0</td>\n",
       "      <td>1.858985</td>\n",
       "      <td>25.0</td>\n",
       "      <td>1.05</td>\n",
       "      <td>0.99</td>\n",
       "      <td>0.0</td>\n",
       "      <td>374.0</td>\n",
       "      <td>63.300000</td>\n",
       "      <td>24.000000</td>\n",
       "      <td>744.0</td>\n",
       "      <td>...</td>\n",
       "      <td>728.0</td>\n",
       "      <td>97890.0</td>\n",
       "      <td>0.36838</td>\n",
       "      <td>3.853</td>\n",
       "      <td>0.027000</td>\n",
       "      <td>3594.0</td>\n",
       "      <td>1.000000</td>\n",
       "      <td>54</td>\n",
       "      <td>1397.0</td>\n",
       "      <td>22</td>\n",
       "    </tr>\n",
       "    <tr>\n",
       "      <th>2</th>\n",
       "      <td>0</td>\n",
       "      <td>1.000000</td>\n",
       "      <td>5.0</td>\n",
       "      <td>1.01</td>\n",
       "      <td>0.00</td>\n",
       "      <td>24.0</td>\n",
       "      <td>0.0</td>\n",
       "      <td>84.000000</td>\n",
       "      <td>84.000000</td>\n",
       "      <td>149.0</td>\n",
       "      <td>...</td>\n",
       "      <td>562.0</td>\n",
       "      <td>4601.0</td>\n",
       "      <td>0.02000</td>\n",
       "      <td>11.573</td>\n",
       "      <td>0.813000</td>\n",
       "      <td>299.0</td>\n",
       "      <td>1.070000</td>\n",
       "      <td>385</td>\n",
       "      <td>2881.0</td>\n",
       "      <td>15</td>\n",
       "    </tr>\n",
       "    <tr>\n",
       "      <th>3</th>\n",
       "      <td>1</td>\n",
       "      <td>1.858985</td>\n",
       "      <td>-1.0</td>\n",
       "      <td>1.11</td>\n",
       "      <td>-1.00</td>\n",
       "      <td>3.0</td>\n",
       "      <td>2.0</td>\n",
       "      <td>67.543379</td>\n",
       "      <td>39.176679</td>\n",
       "      <td>543.0</td>\n",
       "      <td>...</td>\n",
       "      <td>149.0</td>\n",
       "      <td>-1.0</td>\n",
       "      <td>0.18000</td>\n",
       "      <td>10.567</td>\n",
       "      <td>3.033000</td>\n",
       "      <td>1273.0</td>\n",
       "      <td>1.000000</td>\n",
       "      <td>37</td>\n",
       "      <td>1218.0</td>\n",
       "      <td>15</td>\n",
       "    </tr>\n",
       "    <tr>\n",
       "      <th>4</th>\n",
       "      <td>1</td>\n",
       "      <td>1.858985</td>\n",
       "      <td>1.0</td>\n",
       "      <td>1.06</td>\n",
       "      <td>0.00</td>\n",
       "      <td>0.0</td>\n",
       "      <td>0.0</td>\n",
       "      <td>40.000000</td>\n",
       "      <td>13.000000</td>\n",
       "      <td>276.0</td>\n",
       "      <td>...</td>\n",
       "      <td>99.0</td>\n",
       "      <td>52076.0</td>\n",
       "      <td>0.36838</td>\n",
       "      <td>0.160</td>\n",
       "      <td>0.013000</td>\n",
       "      <td>31216.0</td>\n",
       "      <td>2.000000</td>\n",
       "      <td>61</td>\n",
       "      <td>318.0</td>\n",
       "      <td>5</td>\n",
       "    </tr>\n",
       "    <tr>\n",
       "      <th>...</th>\n",
       "      <td>...</td>\n",
       "      <td>...</td>\n",
       "      <td>...</td>\n",
       "      <td>...</td>\n",
       "      <td>...</td>\n",
       "      <td>...</td>\n",
       "      <td>...</td>\n",
       "      <td>...</td>\n",
       "      <td>...</td>\n",
       "      <td>...</td>\n",
       "      <td>...</td>\n",
       "      <td>...</td>\n",
       "      <td>...</td>\n",
       "      <td>...</td>\n",
       "      <td>...</td>\n",
       "      <td>...</td>\n",
       "      <td>...</td>\n",
       "      <td>...</td>\n",
       "      <td>...</td>\n",
       "      <td>...</td>\n",
       "      <td>...</td>\n",
       "    </tr>\n",
       "    <tr>\n",
       "      <th>482956</th>\n",
       "      <td>0</td>\n",
       "      <td>1.000000</td>\n",
       "      <td>2.0</td>\n",
       "      <td>1.06</td>\n",
       "      <td>0.50</td>\n",
       "      <td>0.0</td>\n",
       "      <td>1.0</td>\n",
       "      <td>80.000000</td>\n",
       "      <td>19.000000</td>\n",
       "      <td>439.0</td>\n",
       "      <td>...</td>\n",
       "      <td>333.0</td>\n",
       "      <td>1947.0</td>\n",
       "      <td>0.71000</td>\n",
       "      <td>8.080</td>\n",
       "      <td>2.047000</td>\n",
       "      <td>1852.0</td>\n",
       "      <td>1.500000</td>\n",
       "      <td>6</td>\n",
       "      <td>289.0</td>\n",
       "      <td>12</td>\n",
       "    </tr>\n",
       "    <tr>\n",
       "      <th>482957</th>\n",
       "      <td>1</td>\n",
       "      <td>1.858985</td>\n",
       "      <td>1.0</td>\n",
       "      <td>1.01</td>\n",
       "      <td>1.00</td>\n",
       "      <td>24.0</td>\n",
       "      <td>1.0</td>\n",
       "      <td>84.000000</td>\n",
       "      <td>100.000000</td>\n",
       "      <td>171.0</td>\n",
       "      <td>...</td>\n",
       "      <td>1283.0</td>\n",
       "      <td>484891.0</td>\n",
       "      <td>0.04000</td>\n",
       "      <td>0.287</td>\n",
       "      <td>0.013000</td>\n",
       "      <td>5922.0</td>\n",
       "      <td>1.137801</td>\n",
       "      <td>246</td>\n",
       "      <td>558.0</td>\n",
       "      <td>23</td>\n",
       "    </tr>\n",
       "    <tr>\n",
       "      <th>482958</th>\n",
       "      <td>1</td>\n",
       "      <td>1.858985</td>\n",
       "      <td>-1.0</td>\n",
       "      <td>1.07</td>\n",
       "      <td>-1.00</td>\n",
       "      <td>0.0</td>\n",
       "      <td>2.0</td>\n",
       "      <td>67.543379</td>\n",
       "      <td>39.176679</td>\n",
       "      <td>1282.0</td>\n",
       "      <td>...</td>\n",
       "      <td>548.0</td>\n",
       "      <td>-1.0</td>\n",
       "      <td>0.52000</td>\n",
       "      <td>1.440</td>\n",
       "      <td>0.113000</td>\n",
       "      <td>2033.0</td>\n",
       "      <td>1.137801</td>\n",
       "      <td>6</td>\n",
       "      <td>1772.0</td>\n",
       "      <td>3</td>\n",
       "    </tr>\n",
       "    <tr>\n",
       "      <th>482959</th>\n",
       "      <td>0</td>\n",
       "      <td>1.000000</td>\n",
       "      <td>-1.0</td>\n",
       "      <td>1.01</td>\n",
       "      <td>-1.00</td>\n",
       "      <td>0.0</td>\n",
       "      <td>2.0</td>\n",
       "      <td>40.000000</td>\n",
       "      <td>29.000000</td>\n",
       "      <td>42.0</td>\n",
       "      <td>...</td>\n",
       "      <td>179.0</td>\n",
       "      <td>-1.0</td>\n",
       "      <td>0.01000</td>\n",
       "      <td>0.467</td>\n",
       "      <td>2.250719</td>\n",
       "      <td>2838.0</td>\n",
       "      <td>1.137801</td>\n",
       "      <td>655</td>\n",
       "      <td>1316.0</td>\n",
       "      <td>21</td>\n",
       "    </tr>\n",
       "    <tr>\n",
       "      <th>482960</th>\n",
       "      <td>0</td>\n",
       "      <td>1.858985</td>\n",
       "      <td>-1.0</td>\n",
       "      <td>1.04</td>\n",
       "      <td>-1.00</td>\n",
       "      <td>0.0</td>\n",
       "      <td>2.0</td>\n",
       "      <td>80.000000</td>\n",
       "      <td>24.000000</td>\n",
       "      <td>1022.0</td>\n",
       "      <td>...</td>\n",
       "      <td>234.0</td>\n",
       "      <td>-1.0</td>\n",
       "      <td>0.59000</td>\n",
       "      <td>8.707</td>\n",
       "      <td>1.520000</td>\n",
       "      <td>2838.0</td>\n",
       "      <td>1.137801</td>\n",
       "      <td>8</td>\n",
       "      <td>1316.0</td>\n",
       "      <td>23</td>\n",
       "    </tr>\n",
       "  </tbody>\n",
       "</table>\n",
       "<p>482961 rows × 40 columns</p>\n",
       "</div>"
      ],
      "text/plain": [
       "        iforderpv_24h  historyvisit_7ordernum  historyvisit_totalordernum  \\\n",
       "0                   1                1.000000                         6.0   \n",
       "1                   0                1.858985                        25.0   \n",
       "2                   0                1.000000                         5.0   \n",
       "3                   1                1.858985                        -1.0   \n",
       "4                   1                1.858985                         1.0   \n",
       "...               ...                     ...                         ...   \n",
       "482956              0                1.000000                         2.0   \n",
       "482957              1                1.858985                         1.0   \n",
       "482958              1                1.858985                        -1.0   \n",
       "482959              0                1.000000                        -1.0   \n",
       "482960              0                1.858985                        -1.0   \n",
       "\n",
       "        hotelcr  ordercanceledprecent  landhalfhours  ordercanncelednum  \\\n",
       "0          1.04                  0.84            9.0               16.0   \n",
       "1          1.05                  0.99            0.0              374.0   \n",
       "2          1.01                  0.00           24.0                0.0   \n",
       "3          1.11                 -1.00            3.0                2.0   \n",
       "4          1.06                  0.00            0.0                0.0   \n",
       "...         ...                   ...            ...                ...   \n",
       "482956     1.06                  0.50            0.0                1.0   \n",
       "482957     1.01                  1.00           24.0                1.0   \n",
       "482958     1.07                 -1.00            0.0                2.0   \n",
       "482959     1.01                 -1.00            0.0                2.0   \n",
       "482960     1.04                 -1.00            0.0                2.0   \n",
       "\n",
       "        starprefer  consuming_capacity  cancelrate  ...  lowestprice_pre2  \\\n",
       "0        90.000000           44.000000      1076.0  ...             338.0   \n",
       "1        63.300000           24.000000       744.0  ...             728.0   \n",
       "2        84.000000           84.000000       149.0  ...             562.0   \n",
       "3        67.543379           39.176679       543.0  ...             149.0   \n",
       "4        40.000000           13.000000       276.0  ...              99.0   \n",
       "...            ...                 ...         ...  ...               ...   \n",
       "482956   80.000000           19.000000       439.0  ...             333.0   \n",
       "482957   84.000000          100.000000       171.0  ...            1283.0   \n",
       "482958   67.543379           39.176679      1282.0  ...             548.0   \n",
       "482959   40.000000           29.000000        42.0  ...             179.0   \n",
       "482960   80.000000           24.000000      1022.0  ...             234.0   \n",
       "\n",
       "        lasthtlordergap  businessrate_pre2  cityuvs  cityorders  lastpvgap  \\\n",
       "0                 713.0            0.55000    5.387    0.680000      312.0   \n",
       "1               97890.0            0.36838    3.853    0.027000     3594.0   \n",
       "2                4601.0            0.02000   11.573    0.813000      299.0   \n",
       "3                  -1.0            0.18000   10.567    3.033000     1273.0   \n",
       "4               52076.0            0.36838    0.160    0.013000    31216.0   \n",
       "...                 ...                ...      ...         ...        ...   \n",
       "482956           1947.0            0.71000    8.080    2.047000     1852.0   \n",
       "482957         484891.0            0.04000    0.287    0.013000     5922.0   \n",
       "482958             -1.0            0.52000    1.440    0.113000     2033.0   \n",
       "482959             -1.0            0.01000    0.467    2.250719     2838.0   \n",
       "482960             -1.0            0.59000    8.707    1.520000     2838.0   \n",
       "\n",
       "              cr  sid  visitnum_oneyear   h  \n",
       "0       1.140000  111            2162.0  18  \n",
       "1       1.000000   54            1397.0  22  \n",
       "2       1.070000  385            2881.0  15  \n",
       "3       1.000000   37            1218.0  15  \n",
       "4       2.000000   61             318.0   5  \n",
       "...          ...  ...               ...  ..  \n",
       "482956  1.500000    6             289.0  12  \n",
       "482957  1.137801  246             558.0  23  \n",
       "482958  1.137801    6            1772.0   3  \n",
       "482959  1.137801  655            1316.0  21  \n",
       "482960  1.137801    8            1316.0  23  \n",
       "\n",
       "[482961 rows x 40 columns]"
      ]
     },
     "execution_count": 108,
     "metadata": {},
     "output_type": "execute_result"
    }
   ],
   "source": [
    "Xtrain"
   ]
  },
  {
   "cell_type": "code",
   "execution_count": 109,
   "metadata": {},
   "outputs": [
    {
     "data": {
      "text/plain": [
       "0         0\n",
       "1         0\n",
       "2         0\n",
       "3         0\n",
       "4         0\n",
       "         ..\n",
       "482956    0\n",
       "482957    1\n",
       "482958    0\n",
       "482959    0\n",
       "482960    0\n",
       "Name: label, Length: 482961, dtype: int64"
      ]
     },
     "execution_count": 109,
     "metadata": {},
     "output_type": "execute_result"
    }
   ],
   "source": [
    "Ytrain"
   ]
  },
  {
   "cell_type": "markdown",
   "metadata": {},
   "source": [
    "### 嵌入法筛选特征"
   ]
  },
  {
   "cell_type": "markdown",
   "metadata": {},
   "source": [
    "https://scikit-learn.org/stable/modules/generated/sklearn.ensemble.RandomForestClassifier.html\n",
    "\n",
    "https://scikit-learn.org/stable/modules/generated/sklearn.feature_selection.SelectFromModel.html\n",
    "\n",
    "https://cloud.tencent.com/developer/article/1770568"
   ]
  },
  {
   "cell_type": "code",
   "execution_count": 65,
   "metadata": {},
   "outputs": [
    {
     "name": "stderr",
     "output_type": "stream",
     "text": [
      "C:\\Users\\86159\\AppData\\Local\\Packages\\PythonSoftwareFoundation.Python.3.9_qbz5n2kfra8p0\\LocalCache\\local-packages\\Python39\\site-packages\\sklearn\\feature_selection\\_base.py:96: UserWarning: No features were selected: either the data is too noisy or the selection test too strict.\n",
      "  warnings.warn(\n"
     ]
    }
   ],
   "source": [
    "# 初步探索\n",
    "RFC_clf = RFC(n_estimators=10,random_state=0)\n",
    "X_embedded = SelectFromModel(RFC_clf,threshold=0.05).fit_transform(Xtrain,Ytrain)"
   ]
  },
  {
   "cell_type": "markdown",
   "metadata": {},
   "source": [
    "没有选择任何特征：要么是数据的噪声太大，要么是选择测试太严格。"
   ]
  },
  {
   "cell_type": "code",
   "execution_count": 66,
   "metadata": {},
   "outputs": [
    {
     "data": {
      "text/html": [
       "<style>#sk-container-id-2 {color: black;background-color: white;}#sk-container-id-2 pre{padding: 0;}#sk-container-id-2 div.sk-toggleable {background-color: white;}#sk-container-id-2 label.sk-toggleable__label {cursor: pointer;display: block;width: 100%;margin-bottom: 0;padding: 0.3em;box-sizing: border-box;text-align: center;}#sk-container-id-2 label.sk-toggleable__label-arrow:before {content: \"▸\";float: left;margin-right: 0.25em;color: #696969;}#sk-container-id-2 label.sk-toggleable__label-arrow:hover:before {color: black;}#sk-container-id-2 div.sk-estimator:hover label.sk-toggleable__label-arrow:before {color: black;}#sk-container-id-2 div.sk-toggleable__content {max-height: 0;max-width: 0;overflow: hidden;text-align: left;background-color: #f0f8ff;}#sk-container-id-2 div.sk-toggleable__content pre {margin: 0.2em;color: black;border-radius: 0.25em;background-color: #f0f8ff;}#sk-container-id-2 input.sk-toggleable__control:checked~div.sk-toggleable__content {max-height: 200px;max-width: 100%;overflow: auto;}#sk-container-id-2 input.sk-toggleable__control:checked~label.sk-toggleable__label-arrow:before {content: \"▾\";}#sk-container-id-2 div.sk-estimator input.sk-toggleable__control:checked~label.sk-toggleable__label {background-color: #d4ebff;}#sk-container-id-2 div.sk-label input.sk-toggleable__control:checked~label.sk-toggleable__label {background-color: #d4ebff;}#sk-container-id-2 input.sk-hidden--visually {border: 0;clip: rect(1px 1px 1px 1px);clip: rect(1px, 1px, 1px, 1px);height: 1px;margin: -1px;overflow: hidden;padding: 0;position: absolute;width: 1px;}#sk-container-id-2 div.sk-estimator {font-family: monospace;background-color: #f0f8ff;border: 1px dotted black;border-radius: 0.25em;box-sizing: border-box;margin-bottom: 0.5em;}#sk-container-id-2 div.sk-estimator:hover {background-color: #d4ebff;}#sk-container-id-2 div.sk-parallel-item::after {content: \"\";width: 100%;border-bottom: 1px solid gray;flex-grow: 1;}#sk-container-id-2 div.sk-label:hover label.sk-toggleable__label {background-color: #d4ebff;}#sk-container-id-2 div.sk-serial::before {content: \"\";position: absolute;border-left: 1px solid gray;box-sizing: border-box;top: 0;bottom: 0;left: 50%;z-index: 0;}#sk-container-id-2 div.sk-serial {display: flex;flex-direction: column;align-items: center;background-color: white;padding-right: 0.2em;padding-left: 0.2em;position: relative;}#sk-container-id-2 div.sk-item {position: relative;z-index: 1;}#sk-container-id-2 div.sk-parallel {display: flex;align-items: stretch;justify-content: center;background-color: white;position: relative;}#sk-container-id-2 div.sk-item::before, #sk-container-id-2 div.sk-parallel-item::before {content: \"\";position: absolute;border-left: 1px solid gray;box-sizing: border-box;top: 0;bottom: 0;left: 50%;z-index: -1;}#sk-container-id-2 div.sk-parallel-item {display: flex;flex-direction: column;z-index: 1;position: relative;background-color: white;}#sk-container-id-2 div.sk-parallel-item:first-child::after {align-self: flex-end;width: 50%;}#sk-container-id-2 div.sk-parallel-item:last-child::after {align-self: flex-start;width: 50%;}#sk-container-id-2 div.sk-parallel-item:only-child::after {width: 0;}#sk-container-id-2 div.sk-dashed-wrapped {border: 1px dashed gray;margin: 0 0.4em 0.5em 0.4em;box-sizing: border-box;padding-bottom: 0.4em;background-color: white;}#sk-container-id-2 div.sk-label label {font-family: monospace;font-weight: bold;display: inline-block;line-height: 1.2em;}#sk-container-id-2 div.sk-label-container {text-align: center;}#sk-container-id-2 div.sk-container {/* jupyter's `normalize.less` sets `[hidden] { display: none; }` but bootstrap.min.css set `[hidden] { display: none !important; }` so we also need the `!important` here to be able to override the default hidden behavior on the sphinx rendered scikit-learn.org. See: https://github.com/scikit-learn/scikit-learn/issues/21755 */display: inline-block !important;position: relative;}#sk-container-id-2 div.sk-text-repr-fallback {display: none;}</style><div id=\"sk-container-id-2\" class=\"sk-top-container\"><div class=\"sk-text-repr-fallback\"><pre>RandomForestClassifier(n_estimators=10, random_state=0)</pre><b>In a Jupyter environment, please rerun this cell to show the HTML representation or trust the notebook. <br />On GitHub, the HTML representation is unable to render, please try loading this page with nbviewer.org.</b></div><div class=\"sk-container\" hidden><div class=\"sk-item\"><div class=\"sk-estimator sk-toggleable\"><input class=\"sk-toggleable__control sk-hidden--visually\" id=\"sk-estimator-id-2\" type=\"checkbox\" checked><label for=\"sk-estimator-id-2\" class=\"sk-toggleable__label sk-toggleable__label-arrow\">RandomForestClassifier</label><div class=\"sk-toggleable__content\"><pre>RandomForestClassifier(n_estimators=10, random_state=0)</pre></div></div></div></div></div>"
      ],
      "text/plain": [
       "RandomForestClassifier(n_estimators=10, random_state=0)"
      ]
     },
     "execution_count": 66,
     "metadata": {},
     "output_type": "execute_result"
    }
   ],
   "source": [
    "RFC_clf # RandomForestClassifier：随机森林分类器"
   ]
  },
  {
   "cell_type": "code",
   "execution_count": 68,
   "metadata": {},
   "outputs": [
    {
     "data": {
      "text/html": [
       "<style>#sk-container-id-3 {color: black;background-color: white;}#sk-container-id-3 pre{padding: 0;}#sk-container-id-3 div.sk-toggleable {background-color: white;}#sk-container-id-3 label.sk-toggleable__label {cursor: pointer;display: block;width: 100%;margin-bottom: 0;padding: 0.3em;box-sizing: border-box;text-align: center;}#sk-container-id-3 label.sk-toggleable__label-arrow:before {content: \"▸\";float: left;margin-right: 0.25em;color: #696969;}#sk-container-id-3 label.sk-toggleable__label-arrow:hover:before {color: black;}#sk-container-id-3 div.sk-estimator:hover label.sk-toggleable__label-arrow:before {color: black;}#sk-container-id-3 div.sk-toggleable__content {max-height: 0;max-width: 0;overflow: hidden;text-align: left;background-color: #f0f8ff;}#sk-container-id-3 div.sk-toggleable__content pre {margin: 0.2em;color: black;border-radius: 0.25em;background-color: #f0f8ff;}#sk-container-id-3 input.sk-toggleable__control:checked~div.sk-toggleable__content {max-height: 200px;max-width: 100%;overflow: auto;}#sk-container-id-3 input.sk-toggleable__control:checked~label.sk-toggleable__label-arrow:before {content: \"▾\";}#sk-container-id-3 div.sk-estimator input.sk-toggleable__control:checked~label.sk-toggleable__label {background-color: #d4ebff;}#sk-container-id-3 div.sk-label input.sk-toggleable__control:checked~label.sk-toggleable__label {background-color: #d4ebff;}#sk-container-id-3 input.sk-hidden--visually {border: 0;clip: rect(1px 1px 1px 1px);clip: rect(1px, 1px, 1px, 1px);height: 1px;margin: -1px;overflow: hidden;padding: 0;position: absolute;width: 1px;}#sk-container-id-3 div.sk-estimator {font-family: monospace;background-color: #f0f8ff;border: 1px dotted black;border-radius: 0.25em;box-sizing: border-box;margin-bottom: 0.5em;}#sk-container-id-3 div.sk-estimator:hover {background-color: #d4ebff;}#sk-container-id-3 div.sk-parallel-item::after {content: \"\";width: 100%;border-bottom: 1px solid gray;flex-grow: 1;}#sk-container-id-3 div.sk-label:hover label.sk-toggleable__label {background-color: #d4ebff;}#sk-container-id-3 div.sk-serial::before {content: \"\";position: absolute;border-left: 1px solid gray;box-sizing: border-box;top: 0;bottom: 0;left: 50%;z-index: 0;}#sk-container-id-3 div.sk-serial {display: flex;flex-direction: column;align-items: center;background-color: white;padding-right: 0.2em;padding-left: 0.2em;position: relative;}#sk-container-id-3 div.sk-item {position: relative;z-index: 1;}#sk-container-id-3 div.sk-parallel {display: flex;align-items: stretch;justify-content: center;background-color: white;position: relative;}#sk-container-id-3 div.sk-item::before, #sk-container-id-3 div.sk-parallel-item::before {content: \"\";position: absolute;border-left: 1px solid gray;box-sizing: border-box;top: 0;bottom: 0;left: 50%;z-index: -1;}#sk-container-id-3 div.sk-parallel-item {display: flex;flex-direction: column;z-index: 1;position: relative;background-color: white;}#sk-container-id-3 div.sk-parallel-item:first-child::after {align-self: flex-end;width: 50%;}#sk-container-id-3 div.sk-parallel-item:last-child::after {align-self: flex-start;width: 50%;}#sk-container-id-3 div.sk-parallel-item:only-child::after {width: 0;}#sk-container-id-3 div.sk-dashed-wrapped {border: 1px dashed gray;margin: 0 0.4em 0.5em 0.4em;box-sizing: border-box;padding-bottom: 0.4em;background-color: white;}#sk-container-id-3 div.sk-label label {font-family: monospace;font-weight: bold;display: inline-block;line-height: 1.2em;}#sk-container-id-3 div.sk-label-container {text-align: center;}#sk-container-id-3 div.sk-container {/* jupyter's `normalize.less` sets `[hidden] { display: none; }` but bootstrap.min.css set `[hidden] { display: none !important; }` so we also need the `!important` here to be able to override the default hidden behavior on the sphinx rendered scikit-learn.org. See: https://github.com/scikit-learn/scikit-learn/issues/21755 */display: inline-block !important;position: relative;}#sk-container-id-3 div.sk-text-repr-fallback {display: none;}</style><div id=\"sk-container-id-3\" class=\"sk-top-container\"><div class=\"sk-text-repr-fallback\"><pre>SelectFromModel(estimator=RandomForestClassifier(n_estimators=10,\n",
       "                                                 random_state=0),\n",
       "                threshold=0.05)</pre><b>In a Jupyter environment, please rerun this cell to show the HTML representation or trust the notebook. <br />On GitHub, the HTML representation is unable to render, please try loading this page with nbviewer.org.</b></div><div class=\"sk-container\" hidden><div class=\"sk-item sk-dashed-wrapped\"><div class=\"sk-label-container\"><div class=\"sk-label sk-toggleable\"><input class=\"sk-toggleable__control sk-hidden--visually\" id=\"sk-estimator-id-3\" type=\"checkbox\" ><label for=\"sk-estimator-id-3\" class=\"sk-toggleable__label sk-toggleable__label-arrow\">SelectFromModel</label><div class=\"sk-toggleable__content\"><pre>SelectFromModel(estimator=RandomForestClassifier(n_estimators=10,\n",
       "                                                 random_state=0),\n",
       "                threshold=0.05)</pre></div></div></div><div class=\"sk-parallel\"><div class=\"sk-parallel-item\"><div class=\"sk-item\"><div class=\"sk-label-container\"><div class=\"sk-label sk-toggleable\"><input class=\"sk-toggleable__control sk-hidden--visually\" id=\"sk-estimator-id-4\" type=\"checkbox\" ><label for=\"sk-estimator-id-4\" class=\"sk-toggleable__label sk-toggleable__label-arrow\">estimator: RandomForestClassifier</label><div class=\"sk-toggleable__content\"><pre>RandomForestClassifier(n_estimators=10, random_state=0)</pre></div></div></div><div class=\"sk-serial\"><div class=\"sk-item\"><div class=\"sk-estimator sk-toggleable\"><input class=\"sk-toggleable__control sk-hidden--visually\" id=\"sk-estimator-id-5\" type=\"checkbox\" ><label for=\"sk-estimator-id-5\" class=\"sk-toggleable__label sk-toggleable__label-arrow\">RandomForestClassifier</label><div class=\"sk-toggleable__content\"><pre>RandomForestClassifier(n_estimators=10, random_state=0)</pre></div></div></div></div></div></div></div></div></div></div>"
      ],
      "text/plain": [
       "SelectFromModel(estimator=RandomForestClassifier(n_estimators=10,\n",
       "                                                 random_state=0),\n",
       "                threshold=0.05)"
      ]
     },
     "execution_count": 68,
     "metadata": {},
     "output_type": "execute_result"
    }
   ],
   "source": [
    "SelectFromModel(RFC_clf,threshold=0.05) # estimator：估计器；SelectFromModel：从模型中选择"
   ]
  },
  {
   "cell_type": "code",
   "execution_count": 67,
   "metadata": {},
   "outputs": [
    {
     "data": {
      "text/plain": [
       "array([], shape=(482961, 0), dtype=float64)"
      ]
     },
     "execution_count": 67,
     "metadata": {},
     "output_type": "execute_result"
    }
   ],
   "source": [
    "X_embedded"
   ]
  },
  {
   "cell_type": "code",
   "execution_count": 70,
   "metadata": {},
   "outputs": [
    {
     "data": {
      "text/plain": [
       "(482961, 40)"
      ]
     },
     "execution_count": 70,
     "metadata": {},
     "output_type": "execute_result"
    }
   ],
   "source": [
    "Xtrain.shape"
   ]
  },
  {
   "cell_type": "markdown",
   "metadata": {},
   "source": [
    "**利用随机森林调出特征重要性**"
   ]
  },
  {
   "cell_type": "code",
   "execution_count": 76,
   "metadata": {},
   "outputs": [],
   "source": [
    "importance = RFC_clf.fit(Xtrain,Ytrain).feature_importances_"
   ]
  },
  {
   "cell_type": "code",
   "execution_count": 71,
   "metadata": {},
   "outputs": [
    {
     "data": {
      "text/html": [
       "<style>#sk-container-id-4 {color: black;background-color: white;}#sk-container-id-4 pre{padding: 0;}#sk-container-id-4 div.sk-toggleable {background-color: white;}#sk-container-id-4 label.sk-toggleable__label {cursor: pointer;display: block;width: 100%;margin-bottom: 0;padding: 0.3em;box-sizing: border-box;text-align: center;}#sk-container-id-4 label.sk-toggleable__label-arrow:before {content: \"▸\";float: left;margin-right: 0.25em;color: #696969;}#sk-container-id-4 label.sk-toggleable__label-arrow:hover:before {color: black;}#sk-container-id-4 div.sk-estimator:hover label.sk-toggleable__label-arrow:before {color: black;}#sk-container-id-4 div.sk-toggleable__content {max-height: 0;max-width: 0;overflow: hidden;text-align: left;background-color: #f0f8ff;}#sk-container-id-4 div.sk-toggleable__content pre {margin: 0.2em;color: black;border-radius: 0.25em;background-color: #f0f8ff;}#sk-container-id-4 input.sk-toggleable__control:checked~div.sk-toggleable__content {max-height: 200px;max-width: 100%;overflow: auto;}#sk-container-id-4 input.sk-toggleable__control:checked~label.sk-toggleable__label-arrow:before {content: \"▾\";}#sk-container-id-4 div.sk-estimator input.sk-toggleable__control:checked~label.sk-toggleable__label {background-color: #d4ebff;}#sk-container-id-4 div.sk-label input.sk-toggleable__control:checked~label.sk-toggleable__label {background-color: #d4ebff;}#sk-container-id-4 input.sk-hidden--visually {border: 0;clip: rect(1px 1px 1px 1px);clip: rect(1px, 1px, 1px, 1px);height: 1px;margin: -1px;overflow: hidden;padding: 0;position: absolute;width: 1px;}#sk-container-id-4 div.sk-estimator {font-family: monospace;background-color: #f0f8ff;border: 1px dotted black;border-radius: 0.25em;box-sizing: border-box;margin-bottom: 0.5em;}#sk-container-id-4 div.sk-estimator:hover {background-color: #d4ebff;}#sk-container-id-4 div.sk-parallel-item::after {content: \"\";width: 100%;border-bottom: 1px solid gray;flex-grow: 1;}#sk-container-id-4 div.sk-label:hover label.sk-toggleable__label {background-color: #d4ebff;}#sk-container-id-4 div.sk-serial::before {content: \"\";position: absolute;border-left: 1px solid gray;box-sizing: border-box;top: 0;bottom: 0;left: 50%;z-index: 0;}#sk-container-id-4 div.sk-serial {display: flex;flex-direction: column;align-items: center;background-color: white;padding-right: 0.2em;padding-left: 0.2em;position: relative;}#sk-container-id-4 div.sk-item {position: relative;z-index: 1;}#sk-container-id-4 div.sk-parallel {display: flex;align-items: stretch;justify-content: center;background-color: white;position: relative;}#sk-container-id-4 div.sk-item::before, #sk-container-id-4 div.sk-parallel-item::before {content: \"\";position: absolute;border-left: 1px solid gray;box-sizing: border-box;top: 0;bottom: 0;left: 50%;z-index: -1;}#sk-container-id-4 div.sk-parallel-item {display: flex;flex-direction: column;z-index: 1;position: relative;background-color: white;}#sk-container-id-4 div.sk-parallel-item:first-child::after {align-self: flex-end;width: 50%;}#sk-container-id-4 div.sk-parallel-item:last-child::after {align-self: flex-start;width: 50%;}#sk-container-id-4 div.sk-parallel-item:only-child::after {width: 0;}#sk-container-id-4 div.sk-dashed-wrapped {border: 1px dashed gray;margin: 0 0.4em 0.5em 0.4em;box-sizing: border-box;padding-bottom: 0.4em;background-color: white;}#sk-container-id-4 div.sk-label label {font-family: monospace;font-weight: bold;display: inline-block;line-height: 1.2em;}#sk-container-id-4 div.sk-label-container {text-align: center;}#sk-container-id-4 div.sk-container {/* jupyter's `normalize.less` sets `[hidden] { display: none; }` but bootstrap.min.css set `[hidden] { display: none !important; }` so we also need the `!important` here to be able to override the default hidden behavior on the sphinx rendered scikit-learn.org. See: https://github.com/scikit-learn/scikit-learn/issues/21755 */display: inline-block !important;position: relative;}#sk-container-id-4 div.sk-text-repr-fallback {display: none;}</style><div id=\"sk-container-id-4\" class=\"sk-top-container\"><div class=\"sk-text-repr-fallback\"><pre>RandomForestClassifier(n_estimators=10, random_state=0)</pre><b>In a Jupyter environment, please rerun this cell to show the HTML representation or trust the notebook. <br />On GitHub, the HTML representation is unable to render, please try loading this page with nbviewer.org.</b></div><div class=\"sk-container\" hidden><div class=\"sk-item\"><div class=\"sk-estimator sk-toggleable\"><input class=\"sk-toggleable__control sk-hidden--visually\" id=\"sk-estimator-id-6\" type=\"checkbox\" checked><label for=\"sk-estimator-id-6\" class=\"sk-toggleable__label sk-toggleable__label-arrow\">RandomForestClassifier</label><div class=\"sk-toggleable__content\"><pre>RandomForestClassifier(n_estimators=10, random_state=0)</pre></div></div></div></div></div>"
      ],
      "text/plain": [
       "RandomForestClassifier(n_estimators=10, random_state=0)"
      ]
     },
     "execution_count": 71,
     "metadata": {},
     "output_type": "execute_result"
    }
   ],
   "source": [
    "RFC_clf.fit(Xtrain,Ytrain)"
   ]
  },
  {
   "cell_type": "code",
   "execution_count": 77,
   "metadata": {},
   "outputs": [
    {
     "data": {
      "text/plain": [
       "array([0.01156298, 0.01124423, 0.01603135, 0.01696446, 0.01757582,\n",
       "       0.01610963, 0.01827279, 0.02068493, 0.0208077 , 0.01977797,\n",
       "       0.01781692, 0.0205374 , 0.02145331, 0.01889979, 0.0215288 ,\n",
       "       0.02311268, 0.0211745 , 0.01059171, 0.02257649, 0.01982048,\n",
       "       0.02586689, 0.02613122, 0.02517602, 0.0253274 , 0.02548618,\n",
       "       0.02867502, 0.02452528, 0.0271405 , 0.02818511, 0.0280574 ,\n",
       "       0.02785365, 0.02970648, 0.0324781 , 0.04181169, 0.03812163,\n",
       "       0.03831572, 0.04338588, 0.03902758, 0.04048731, 0.03769701])"
      ]
     },
     "execution_count": 77,
     "metadata": {},
     "output_type": "execute_result"
    }
   ],
   "source": [
    "importance"
   ]
  },
  {
   "cell_type": "code",
   "execution_count": 79,
   "metadata": {},
   "outputs": [
    {
     "data": {
      "text/plain": [
       "0.04338587876711012"
      ]
     },
     "execution_count": 79,
     "metadata": {},
     "output_type": "execute_result"
    }
   ],
   "source": [
    "importance.max()"
   ]
  },
  {
   "cell_type": "markdown",
   "metadata": {},
   "source": [
    "同样，结束后查看下数据的形状"
   ]
  },
  {
   "cell_type": "code",
   "execution_count": 73,
   "metadata": {},
   "outputs": [
    {
     "data": {
      "text/plain": [
       "(482961, 40)"
      ]
     },
     "execution_count": 73,
     "metadata": {},
     "output_type": "execute_result"
    }
   ],
   "source": [
    "Xtrain.shape"
   ]
  },
  {
   "cell_type": "code",
   "execution_count": 74,
   "metadata": {},
   "outputs": [
    {
     "data": {
      "text/plain": [
       "(482961,)"
      ]
     },
     "execution_count": 74,
     "metadata": {},
     "output_type": "execute_result"
    }
   ],
   "source": [
    "Ytrain.shape"
   ]
  },
  {
   "cell_type": "markdown",
   "metadata": {},
   "source": [
    "**嵌入法画学习曲线**"
   ]
  },
  {
   "cell_type": "markdown",
   "metadata": {},
   "source": [
    "利用随机森林特征重要性属性feature_importances_定义阈值范围，以嵌入选择模型SelectFromModel为基础，通过交叉验证cross_val_score得到每个阈值下模型得分情况。\n",
    "\n",
    "https://scikit-learn.org.cn/view/663.html"
   ]
  },
  {
   "cell_type": "code",
   "execution_count": 78,
   "metadata": {},
   "outputs": [
    {
     "name": "stdout",
     "output_type": "stream",
     "text": [
      "27:38:071590\n"
     ]
    },
    {
     "data": {
      "image/png": "[encoded data removed]",
      "text/plain": [
       "<Figure size 640x480 with 1 Axes>"
      ]
     },
     "metadata": {},
     "output_type": "display_data"
    }
   ],
   "source": [
    "importance = RFC_clf.fit(Xtrain,Ytrain).feature_importances_\n",
    "threshold = np.linspace(0,importance.max(),20) # https://numpy.org/doc/stable/reference/generated/numpy.linspace.html\n",
    "score = []\n",
    "time0 = time()\n",
    "for i in threshold:\n",
    "    X_embedded = SelectFromModel(RFC_clf,threshold=i).fit_transform(Xtrain,Ytrain) # 特征筛选后的数据集\n",
    "    val = cross_val_score(RFC_clf,X_embedded,Ytrain,cv=5).mean() # https://scikit-learn.org.cn/view/663.html ,评分（通过交叉验证评估准确率）\n",
    "    score.append(val)\n",
    "print(datetime.datetime.fromtimestamp(time()-time0).strftime(\"%M:%S:%f\"))\n",
    "plt.plot(threshold,score)\n",
    "plt.show()"
   ]
  },
  {
   "cell_type": "code",
   "execution_count": 80,
   "metadata": {},
   "outputs": [
    {
     "data": {
      "text/plain": [
       "array([0.        , 0.00228347, 0.00456693, 0.0068504 , 0.00913387,\n",
       "       0.01141734, 0.0137008 , 0.01598427, 0.01826774, 0.02055121,\n",
       "       0.02283467, 0.02511814, 0.02740161, 0.02968507, 0.03196854,\n",
       "       0.03425201, 0.03653548, 0.03881894, 0.04110241, 0.04338588])"
      ]
     },
     "execution_count": 80,
     "metadata": {},
     "output_type": "execute_result"
    }
   ],
   "source": [
    "threshold"
   ]
  },
  {
   "cell_type": "code",
   "execution_count": 83,
   "metadata": {},
   "outputs": [
    {
     "data": {
      "text/plain": [
       "[0.8769714352476192,\n",
       " 0.8769714352476192,\n",
       " 0.8769714352476192,\n",
       " 0.8769714352476192,\n",
       " 0.8769714352476192,\n",
       " 0.8764268755773748,\n",
       " 0.8755427471087543,\n",
       " 0.8755427471087543,\n",
       " 0.8846407932403071,\n",
       " 0.891997490002867,\n",
       " 0.8975962837242353,\n",
       " 0.8981263486045261,\n",
       " 0.9146183608085018,\n",
       " 0.9323071655407743,\n",
       " 0.9261824457966024,\n",
       " 0.942771776306282,\n",
       " 0.942771776306282,\n",
       " 0.9335536403715878,\n",
       " 0.7747188711705298,\n",
       " 0.7308478339724491]"
      ]
     },
     "execution_count": 83,
     "metadata": {},
     "output_type": "execute_result"
    }
   ],
   "source": [
    "score"
   ]
  },
  {
   "cell_type": "code",
   "execution_count": 82,
   "metadata": {},
   "outputs": [
    {
     "data": {
      "text/plain": [
       "0.942771776306282"
      ]
     },
     "execution_count": 82,
     "metadata": {},
     "output_type": "execute_result"
    }
   ],
   "source": [
    "np.max(score) #最高分"
   ]
  },
  {
   "cell_type": "markdown",
   "metadata": {},
   "source": [
    "最高分对应的重要性阈值"
   ]
  },
  {
   "cell_type": "code",
   "execution_count": 84,
   "metadata": {},
   "outputs": [
    {
     "data": {
      "text/plain": [
       "0.034252009552981674"
      ]
     },
     "execution_count": 84,
     "metadata": {},
     "output_type": "execute_result"
    }
   ],
   "source": [
    "threshold[np.argmax(score)]"
   ]
  },
  {
   "cell_type": "code",
   "execution_count": 91,
   "metadata": {},
   "outputs": [],
   "source": [
    "X_embedded = SelectFromModel(RFC_clf,threshold=0.031000416340192495).fit_transform(Xtrain,Ytrain) # 用最高分前一个 threshold 筛选"
   ]
  },
  {
   "cell_type": "code",
   "execution_count": 92,
   "metadata": {},
   "outputs": [
    {
     "data": {
      "text/plain": [
       "(482961, 8)"
      ]
     },
     "execution_count": 92,
     "metadata": {},
     "output_type": "execute_result"
    }
   ],
   "source": [
    "X_embedded.shape"
   ]
  },
  {
   "cell_type": "code",
   "execution_count": 93,
   "metadata": {},
   "outputs": [
    {
     "data": {
      "text/plain": [
       "array([[5.50000000e-01, 5.38700000e+00, 6.80000000e-01, ...,\n",
       "        1.11000000e+02, 2.16200000e+03, 1.80000000e+01],\n",
       "       [3.68380423e-01, 3.85300000e+00, 2.70000000e-02, ...,\n",
       "        5.40000000e+01, 1.39700000e+03, 2.20000000e+01],\n",
       "       [2.00000000e-02, 1.15730000e+01, 8.13000000e-01, ...,\n",
       "        3.85000000e+02, 2.88100000e+03, 1.50000000e+01],\n",
       "       ...,\n",
       "       [5.20000000e-01, 1.44000000e+00, 1.13000000e-01, ...,\n",
       "        6.00000000e+00, 1.77200000e+03, 3.00000000e+00],\n",
       "       [1.00000000e-02, 4.67000000e-01, 2.25071866e+00, ...,\n",
       "        6.55000000e+02, 1.31600000e+03, 2.10000000e+01],\n",
       "       [5.90000000e-01, 8.70700000e+00, 1.52000000e+00, ...,\n",
       "        8.00000000e+00, 1.31600000e+03, 2.30000000e+01]])"
      ]
     },
     "execution_count": 93,
     "metadata": {},
     "output_type": "execute_result"
    }
   ],
   "source": [
    "X_embedded"
   ]
  },
  {
   "cell_type": "code",
   "execution_count": 94,
   "metadata": {},
   "outputs": [
    {
     "data": {
      "text/plain": [
       "array([0.01156298, 0.01124423, 0.01603135, 0.01696446, 0.01757582,\n",
       "       0.01610963, 0.01827279, 0.02068493, 0.0208077 , 0.01977797,\n",
       "       0.01781692, 0.0205374 , 0.02145331, 0.01889979, 0.0215288 ,\n",
       "       0.02311268, 0.0211745 , 0.01059171, 0.02257649, 0.01982048,\n",
       "       0.02586689, 0.02613122, 0.02517602, 0.0253274 , 0.02548618,\n",
       "       0.02867502, 0.02452528, 0.0271405 , 0.02818511, 0.0280574 ,\n",
       "       0.02785365, 0.02970648, 0.0324781 , 0.04181169, 0.03812163,\n",
       "       0.03831572, 0.04338588, 0.03902758, 0.04048731, 0.03769701])"
      ]
     },
     "execution_count": 94,
     "metadata": {},
     "output_type": "execute_result"
    }
   ],
   "source": [
    "RFC_clf.feature_importances_ # 前面的 importance"
   ]
  },
  {
   "cell_type": "code",
   "execution_count": 95,
   "metadata": {},
   "outputs": [
    {
     "data": {
      "text/plain": [
       "array([False, False, False, False, False, False, False, False, False,\n",
       "       False, False, False, False, False, False, False, False, False,\n",
       "       False, False, False, False, False, False, False, False, False,\n",
       "       False, False, False, False, False,  True,  True,  True,  True,\n",
       "        True,  True,  True,  True])"
      ]
     },
     "execution_count": 95,
     "metadata": {},
     "output_type": "execute_result"
    }
   ],
   "source": [
    "RFC_clf.feature_importances_>0.031000416340192495"
   ]
  },
  {
   "cell_type": "code",
   "execution_count": 96,
   "metadata": {},
   "outputs": [],
   "source": [
    "col_k = list(Xtrain.columns[RFC_clf.feature_importances_>0.031000416340192495])"
   ]
  },
  {
   "cell_type": "code",
   "execution_count": 97,
   "metadata": {},
   "outputs": [
    {
     "data": {
      "text/plain": [
       "['businessrate_pre2',\n",
       " 'cityuvs',\n",
       " 'cityorders',\n",
       " 'lastpvgap',\n",
       " 'cr',\n",
       " 'sid',\n",
       " 'visitnum_oneyear',\n",
       " 'h']"
      ]
     },
     "execution_count": 97,
     "metadata": {},
     "output_type": "execute_result"
    }
   ],
   "source": [
    "col_k"
   ]
  },
  {
   "cell_type": "markdown",
   "metadata": {},
   "source": [
    "**利用阈值选择出 8 个特征**"
   ]
  },
  {
   "cell_type": "code",
   "execution_count": 99,
   "metadata": {},
   "outputs": [],
   "source": [
    "col_k_ = ['lasthtlordergap',\n",
    " 'cityorders',\n",
    " 'lastpvgap',\n",
    " 'cr',\n",
    " 'sid',\n",
    " 'visitnum_oneyear',\n",
    " 'h'] # 不需要，后面会把对应的特征删除"
   ]
  },
  {
   "cell_type": "markdown",
   "metadata": {},
   "source": [
    "将数组转行为DataFrame数据框"
   ]
  },
  {
   "cell_type": "code",
   "execution_count": 98,
   "metadata": {},
   "outputs": [
    {
     "data": {
      "text/html": [
       "<div>\n",
       "<style scoped>\n",
       "    .dataframe tbody tr th:only-of-type {\n",
       "        vertical-align: middle;\n",
       "    }\n",
       "\n",
       "    .dataframe tbody tr th {\n",
       "        vertical-align: top;\n",
       "    }\n",
       "\n",
       "    .dataframe thead th {\n",
       "        text-align: right;\n",
       "    }\n",
       "</style>\n",
       "<table border=\"1\" class=\"dataframe\">\n",
       "  <thead>\n",
       "    <tr style=\"text-align: right;\">\n",
       "      <th></th>\n",
       "      <th>businessrate_pre2</th>\n",
       "      <th>cityuvs</th>\n",
       "      <th>cityorders</th>\n",
       "      <th>lastpvgap</th>\n",
       "      <th>cr</th>\n",
       "      <th>sid</th>\n",
       "      <th>visitnum_oneyear</th>\n",
       "      <th>h</th>\n",
       "    </tr>\n",
       "  </thead>\n",
       "  <tbody>\n",
       "    <tr>\n",
       "      <th>0</th>\n",
       "      <td>0.55000</td>\n",
       "      <td>5.387</td>\n",
       "      <td>0.680</td>\n",
       "      <td>312.0</td>\n",
       "      <td>1.14</td>\n",
       "      <td>111.0</td>\n",
       "      <td>2162.0</td>\n",
       "      <td>18.0</td>\n",
       "    </tr>\n",
       "    <tr>\n",
       "      <th>1</th>\n",
       "      <td>0.36838</td>\n",
       "      <td>3.853</td>\n",
       "      <td>0.027</td>\n",
       "      <td>3594.0</td>\n",
       "      <td>1.00</td>\n",
       "      <td>54.0</td>\n",
       "      <td>1397.0</td>\n",
       "      <td>22.0</td>\n",
       "    </tr>\n",
       "    <tr>\n",
       "      <th>2</th>\n",
       "      <td>0.02000</td>\n",
       "      <td>11.573</td>\n",
       "      <td>0.813</td>\n",
       "      <td>299.0</td>\n",
       "      <td>1.07</td>\n",
       "      <td>385.0</td>\n",
       "      <td>2881.0</td>\n",
       "      <td>15.0</td>\n",
       "    </tr>\n",
       "    <tr>\n",
       "      <th>3</th>\n",
       "      <td>0.18000</td>\n",
       "      <td>10.567</td>\n",
       "      <td>3.033</td>\n",
       "      <td>1273.0</td>\n",
       "      <td>1.00</td>\n",
       "      <td>37.0</td>\n",
       "      <td>1218.0</td>\n",
       "      <td>15.0</td>\n",
       "    </tr>\n",
       "    <tr>\n",
       "      <th>4</th>\n",
       "      <td>0.36838</td>\n",
       "      <td>0.160</td>\n",
       "      <td>0.013</td>\n",
       "      <td>31216.0</td>\n",
       "      <td>2.00</td>\n",
       "      <td>61.0</td>\n",
       "      <td>318.0</td>\n",
       "      <td>5.0</td>\n",
       "    </tr>\n",
       "  </tbody>\n",
       "</table>\n",
       "</div>"
      ],
      "text/plain": [
       "   businessrate_pre2  cityuvs  cityorders  lastpvgap    cr    sid  \\\n",
       "0            0.55000    5.387       0.680      312.0  1.14  111.0   \n",
       "1            0.36838    3.853       0.027     3594.0  1.00   54.0   \n",
       "2            0.02000   11.573       0.813      299.0  1.07  385.0   \n",
       "3            0.18000   10.567       3.033     1273.0  1.00   37.0   \n",
       "4            0.36838    0.160       0.013    31216.0  2.00   61.0   \n",
       "\n",
       "   visitnum_oneyear     h  \n",
       "0            2162.0  18.0  \n",
       "1            1397.0  22.0  \n",
       "2            2881.0  15.0  \n",
       "3            1218.0  15.0  \n",
       "4             318.0   5.0  "
      ]
     },
     "execution_count": 98,
     "metadata": {},
     "output_type": "execute_result"
    }
   ],
   "source": [
    "Xtrain_new = pd.DataFrame(X_embedded,columns = col_k )\n",
    "Xtrain_new.head()"
   ]
  },
  {
   "cell_type": "markdown",
   "metadata": {},
   "source": [
    "通过切片索引需要的列，重置索引，并查看前5行"
   ]
  },
  {
   "cell_type": "code",
   "execution_count": 100,
   "metadata": {},
   "outputs": [],
   "source": [
    "Xtest_new = Xtest.loc[:,col_k].reset_index(drop=True).head()"
   ]
  },
  {
   "cell_type": "markdown",
   "metadata": {},
   "source": [
    "查看每个列之间的相关性"
   ]
  },
  {
   "cell_type": "markdown",
   "metadata": {},
   "source": [
    "**过滤高度相关的特征**\n",
    "热图用于特征间的相关性分析，通过绘制热图，分析发现有以下两个高度相关的变量，最终删除特征cityuvs。"
   ]
  },
  {
   "cell_type": "code",
   "execution_count": 102,
   "metadata": {},
   "outputs": [
    {
     "data": {
      "text/html": [
       "<div>\n",
       "<style scoped>\n",
       "    .dataframe tbody tr th:only-of-type {\n",
       "        vertical-align: middle;\n",
       "    }\n",
       "\n",
       "    .dataframe tbody tr th {\n",
       "        vertical-align: top;\n",
       "    }\n",
       "\n",
       "    .dataframe thead th {\n",
       "        text-align: right;\n",
       "    }\n",
       "</style>\n",
       "<table border=\"1\" class=\"dataframe\">\n",
       "  <thead>\n",
       "    <tr style=\"text-align: right;\">\n",
       "      <th></th>\n",
       "      <th>businessrate_pre2</th>\n",
       "      <th>cityuvs</th>\n",
       "      <th>cityorders</th>\n",
       "      <th>lastpvgap</th>\n",
       "      <th>cr</th>\n",
       "      <th>sid</th>\n",
       "      <th>visitnum_oneyear</th>\n",
       "      <th>h</th>\n",
       "    </tr>\n",
       "  </thead>\n",
       "  <tbody>\n",
       "    <tr>\n",
       "      <th>businessrate_pre2</th>\n",
       "      <td>1.000000</td>\n",
       "      <td>0.188272</td>\n",
       "      <td>0.204793</td>\n",
       "      <td>0.009093</td>\n",
       "      <td>0.109480</td>\n",
       "      <td>3.429538e-02</td>\n",
       "      <td>0.005294</td>\n",
       "      <td>1.842357e-02</td>\n",
       "    </tr>\n",
       "    <tr>\n",
       "      <th>cityuvs</th>\n",
       "      <td>0.188272</td>\n",
       "      <td>1.000000</td>\n",
       "      <td>0.977572</td>\n",
       "      <td>0.013895</td>\n",
       "      <td>0.052071</td>\n",
       "      <td>4.212451e-03</td>\n",
       "      <td>-0.004696</td>\n",
       "      <td>-3.797742e-02</td>\n",
       "    </tr>\n",
       "    <tr>\n",
       "      <th>cityorders</th>\n",
       "      <td>0.204793</td>\n",
       "      <td>0.977572</td>\n",
       "      <td>1.000000</td>\n",
       "      <td>0.013008</td>\n",
       "      <td>0.055380</td>\n",
       "      <td>4.582303e-03</td>\n",
       "      <td>-0.003560</td>\n",
       "      <td>-4.065868e-02</td>\n",
       "    </tr>\n",
       "    <tr>\n",
       "      <th>lastpvgap</th>\n",
       "      <td>0.009093</td>\n",
       "      <td>0.013895</td>\n",
       "      <td>0.013008</td>\n",
       "      <td>1.000000</td>\n",
       "      <td>0.005228</td>\n",
       "      <td>-9.018651e-02</td>\n",
       "      <td>-0.016246</td>\n",
       "      <td>1.805242e-02</td>\n",
       "    </tr>\n",
       "    <tr>\n",
       "      <th>cr</th>\n",
       "      <td>0.109480</td>\n",
       "      <td>0.052071</td>\n",
       "      <td>0.055380</td>\n",
       "      <td>0.005228</td>\n",
       "      <td>1.000000</td>\n",
       "      <td>2.981629e-03</td>\n",
       "      <td>0.000437</td>\n",
       "      <td>7.141979e-04</td>\n",
       "    </tr>\n",
       "    <tr>\n",
       "      <th>sid</th>\n",
       "      <td>0.034295</td>\n",
       "      <td>0.004212</td>\n",
       "      <td>0.004582</td>\n",
       "      <td>-0.090187</td>\n",
       "      <td>0.002982</td>\n",
       "      <td>1.000000e+00</td>\n",
       "      <td>-0.027661</td>\n",
       "      <td>-3.709865e-07</td>\n",
       "    </tr>\n",
       "    <tr>\n",
       "      <th>visitnum_oneyear</th>\n",
       "      <td>0.005294</td>\n",
       "      <td>-0.004696</td>\n",
       "      <td>-0.003560</td>\n",
       "      <td>-0.016246</td>\n",
       "      <td>0.000437</td>\n",
       "      <td>-2.766054e-02</td>\n",
       "      <td>1.000000</td>\n",
       "      <td>-1.230602e-02</td>\n",
       "    </tr>\n",
       "    <tr>\n",
       "      <th>h</th>\n",
       "      <td>0.018424</td>\n",
       "      <td>-0.037977</td>\n",
       "      <td>-0.040659</td>\n",
       "      <td>0.018052</td>\n",
       "      <td>0.000714</td>\n",
       "      <td>-3.709865e-07</td>\n",
       "      <td>-0.012306</td>\n",
       "      <td>1.000000e+00</td>\n",
       "    </tr>\n",
       "  </tbody>\n",
       "</table>\n",
       "</div>"
      ],
      "text/plain": [
       "                   businessrate_pre2   cityuvs  cityorders  lastpvgap  \\\n",
       "businessrate_pre2           1.000000  0.188272    0.204793   0.009093   \n",
       "cityuvs                     0.188272  1.000000    0.977572   0.013895   \n",
       "cityorders                  0.204793  0.977572    1.000000   0.013008   \n",
       "lastpvgap                   0.009093  0.013895    0.013008   1.000000   \n",
       "cr                          0.109480  0.052071    0.055380   0.005228   \n",
       "sid                         0.034295  0.004212    0.004582  -0.090187   \n",
       "visitnum_oneyear            0.005294 -0.004696   -0.003560  -0.016246   \n",
       "h                           0.018424 -0.037977   -0.040659   0.018052   \n",
       "\n",
       "                         cr           sid  visitnum_oneyear             h  \n",
       "businessrate_pre2  0.109480  3.429538e-02          0.005294  1.842357e-02  \n",
       "cityuvs            0.052071  4.212451e-03         -0.004696 -3.797742e-02  \n",
       "cityorders         0.055380  4.582303e-03         -0.003560 -4.065868e-02  \n",
       "lastpvgap          0.005228 -9.018651e-02         -0.016246  1.805242e-02  \n",
       "cr                 1.000000  2.981629e-03          0.000437  7.141979e-04  \n",
       "sid                0.002982  1.000000e+00         -0.027661 -3.709865e-07  \n",
       "visitnum_oneyear   0.000437 -2.766054e-02          1.000000 -1.230602e-02  \n",
       "h                  0.000714 -3.709865e-07         -0.012306  1.000000e+00  "
      ]
     },
     "execution_count": 102,
     "metadata": {},
     "output_type": "execute_result"
    }
   ],
   "source": [
    "Xtrain_new.corr() # 特征间相关度"
   ]
  },
  {
   "cell_type": "code",
   "execution_count": 101,
   "metadata": {},
   "outputs": [
    {
     "data": {
      "text/plain": [
       "<AxesSubplot:>"
      ]
     },
     "execution_count": 101,
     "metadata": {},
     "output_type": "execute_result"
    },
    {
     "data": {
      "image/png": "[encoded data removed]",
      "text/plain": [
       "<Figure size 1000x800 with 2 Axes>"
      ]
     },
     "metadata": {},
     "output_type": "display_data"
    }
   ],
   "source": [
    "plt.figure(figsize=(10,8))\n",
    "sns.heatmap(Xtrain_new.corr(),annot=True,linewidths=1)"
   ]
  },
  {
   "cell_type": "markdown",
   "metadata": {},
   "source": [
    "发现cityorders 与 cityuvs 高度相关，删除其中一个列"
   ]
  },
  {
   "cell_type": "code",
   "execution_count": 104,
   "metadata": {},
   "outputs": [
    {
     "data": {
      "text/html": [
       "<div>\n",
       "<style scoped>\n",
       "    .dataframe tbody tr th:only-of-type {\n",
       "        vertical-align: middle;\n",
       "    }\n",
       "\n",
       "    .dataframe tbody tr th {\n",
       "        vertical-align: top;\n",
       "    }\n",
       "\n",
       "    .dataframe thead th {\n",
       "        text-align: right;\n",
       "    }\n",
       "</style>\n",
       "<table border=\"1\" class=\"dataframe\">\n",
       "  <thead>\n",
       "    <tr style=\"text-align: right;\">\n",
       "      <th></th>\n",
       "      <th>businessrate_pre2</th>\n",
       "      <th>cityorders</th>\n",
       "      <th>lastpvgap</th>\n",
       "      <th>cr</th>\n",
       "      <th>sid</th>\n",
       "      <th>visitnum_oneyear</th>\n",
       "      <th>h</th>\n",
       "    </tr>\n",
       "  </thead>\n",
       "  <tbody>\n",
       "    <tr>\n",
       "      <th>0</th>\n",
       "      <td>0.55000</td>\n",
       "      <td>0.680000</td>\n",
       "      <td>312.0</td>\n",
       "      <td>1.140000</td>\n",
       "      <td>111.0</td>\n",
       "      <td>2162.0</td>\n",
       "      <td>18.0</td>\n",
       "    </tr>\n",
       "    <tr>\n",
       "      <th>1</th>\n",
       "      <td>0.36838</td>\n",
       "      <td>0.027000</td>\n",
       "      <td>3594.0</td>\n",
       "      <td>1.000000</td>\n",
       "      <td>54.0</td>\n",
       "      <td>1397.0</td>\n",
       "      <td>22.0</td>\n",
       "    </tr>\n",
       "    <tr>\n",
       "      <th>2</th>\n",
       "      <td>0.02000</td>\n",
       "      <td>0.813000</td>\n",
       "      <td>299.0</td>\n",
       "      <td>1.070000</td>\n",
       "      <td>385.0</td>\n",
       "      <td>2881.0</td>\n",
       "      <td>15.0</td>\n",
       "    </tr>\n",
       "    <tr>\n",
       "      <th>3</th>\n",
       "      <td>0.18000</td>\n",
       "      <td>3.033000</td>\n",
       "      <td>1273.0</td>\n",
       "      <td>1.000000</td>\n",
       "      <td>37.0</td>\n",
       "      <td>1218.0</td>\n",
       "      <td>15.0</td>\n",
       "    </tr>\n",
       "    <tr>\n",
       "      <th>4</th>\n",
       "      <td>0.36838</td>\n",
       "      <td>0.013000</td>\n",
       "      <td>31216.0</td>\n",
       "      <td>2.000000</td>\n",
       "      <td>61.0</td>\n",
       "      <td>318.0</td>\n",
       "      <td>5.0</td>\n",
       "    </tr>\n",
       "    <tr>\n",
       "      <th>...</th>\n",
       "      <td>...</td>\n",
       "      <td>...</td>\n",
       "      <td>...</td>\n",
       "      <td>...</td>\n",
       "      <td>...</td>\n",
       "      <td>...</td>\n",
       "      <td>...</td>\n",
       "    </tr>\n",
       "    <tr>\n",
       "      <th>482956</th>\n",
       "      <td>0.71000</td>\n",
       "      <td>2.047000</td>\n",
       "      <td>1852.0</td>\n",
       "      <td>1.500000</td>\n",
       "      <td>6.0</td>\n",
       "      <td>289.0</td>\n",
       "      <td>12.0</td>\n",
       "    </tr>\n",
       "    <tr>\n",
       "      <th>482957</th>\n",
       "      <td>0.04000</td>\n",
       "      <td>0.013000</td>\n",
       "      <td>5922.0</td>\n",
       "      <td>1.137801</td>\n",
       "      <td>246.0</td>\n",
       "      <td>558.0</td>\n",
       "      <td>23.0</td>\n",
       "    </tr>\n",
       "    <tr>\n",
       "      <th>482958</th>\n",
       "      <td>0.52000</td>\n",
       "      <td>0.113000</td>\n",
       "      <td>2033.0</td>\n",
       "      <td>1.137801</td>\n",
       "      <td>6.0</td>\n",
       "      <td>1772.0</td>\n",
       "      <td>3.0</td>\n",
       "    </tr>\n",
       "    <tr>\n",
       "      <th>482959</th>\n",
       "      <td>0.01000</td>\n",
       "      <td>2.250719</td>\n",
       "      <td>2838.0</td>\n",
       "      <td>1.137801</td>\n",
       "      <td>655.0</td>\n",
       "      <td>1316.0</td>\n",
       "      <td>21.0</td>\n",
       "    </tr>\n",
       "    <tr>\n",
       "      <th>482960</th>\n",
       "      <td>0.59000</td>\n",
       "      <td>1.520000</td>\n",
       "      <td>2838.0</td>\n",
       "      <td>1.137801</td>\n",
       "      <td>8.0</td>\n",
       "      <td>1316.0</td>\n",
       "      <td>23.0</td>\n",
       "    </tr>\n",
       "  </tbody>\n",
       "</table>\n",
       "<p>482961 rows × 7 columns</p>\n",
       "</div>"
      ],
      "text/plain": [
       "        businessrate_pre2  cityorders  lastpvgap        cr    sid  \\\n",
       "0                 0.55000    0.680000      312.0  1.140000  111.0   \n",
       "1                 0.36838    0.027000     3594.0  1.000000   54.0   \n",
       "2                 0.02000    0.813000      299.0  1.070000  385.0   \n",
       "3                 0.18000    3.033000     1273.0  1.000000   37.0   \n",
       "4                 0.36838    0.013000    31216.0  2.000000   61.0   \n",
       "...                   ...         ...        ...       ...    ...   \n",
       "482956            0.71000    2.047000     1852.0  1.500000    6.0   \n",
       "482957            0.04000    0.013000     5922.0  1.137801  246.0   \n",
       "482958            0.52000    0.113000     2033.0  1.137801    6.0   \n",
       "482959            0.01000    2.250719     2838.0  1.137801  655.0   \n",
       "482960            0.59000    1.520000     2838.0  1.137801    8.0   \n",
       "\n",
       "        visitnum_oneyear     h  \n",
       "0                 2162.0  18.0  \n",
       "1                 1397.0  22.0  \n",
       "2                 2881.0  15.0  \n",
       "3                 1218.0  15.0  \n",
       "4                  318.0   5.0  \n",
       "...                  ...   ...  \n",
       "482956             289.0  12.0  \n",
       "482957             558.0  23.0  \n",
       "482958            1772.0   3.0  \n",
       "482959            1316.0  21.0  \n",
       "482960            1316.0  23.0  \n",
       "\n",
       "[482961 rows x 7 columns]"
      ]
     },
     "execution_count": 104,
     "metadata": {},
     "output_type": "execute_result"
    }
   ],
   "source": [
    "Xtrain_new"
   ]
  },
  {
   "cell_type": "code",
   "execution_count": null,
   "metadata": {},
   "outputs": [],
   "source": [
    "Xtrain_new.drop(columns='cityuvs',axis=1,inplace=True)\n",
    "Xtest_new.drop(columns='cityuvs',axis=1,inplace=True)"
   ]
  },
  {
   "cell_type": "markdown",
   "metadata": {},
   "source": [
    "**保存清洗后的数据**"
   ]
  },
  {
   "cell_type": "code",
   "execution_count": 105,
   "metadata": {},
   "outputs": [],
   "source": [
    "Xtrain_new.to_csv('Xtrain_new.csv')\n",
    "Xtest_new.to_csv('Xtest_new.csv')\n",
    "Ytrain.to_csv('Ytrain.csv')\n",
    "Ytest.to_csv('Ytest.csv')"
   ]
  },
  {
   "cell_type": "markdown",
   "metadata": {},
   "source": [
    "## 建模与调参"
   ]
  },
  {
   "cell_type": "markdown",
   "metadata": {},
   "source": [
    "### 弱评估器选择"
   ]
  },
  {
   "cell_type": "code",
   "execution_count": 107,
   "metadata": {},
   "outputs": [
    {
     "name": "stdout",
     "output_type": "stream",
     "text": [
      "24:09:043768\n",
      "0.7254229637542698 0\n"
     ]
    },
    {
     "data": {
      "image/png": "[encoded data removed]",
      "text/plain": [
       "<Figure size 800x600 with 1 Axes>"
      ]
     },
     "metadata": {},
     "output_type": "display_data"
    }
   ],
   "source": [
    "score = []\n",
    "time0 = time()\n",
    "for i in range(10,201,10):\n",
    "    rfc = RFC(n_estimators= i\n",
    "             ,max_depth=3\n",
    "             ,random_state=0)\n",
    "    score_ = cross_val_score(rfc,Xtrain_new,Ytrain,cv=5).mean()\n",
    "    score.append(score_)\n",
    "print(datetime.datetime.fromtimestamp(time()-time0).strftime(\"%M:%S:%f\"))\n",
    "print(max(score),np.argmax(score)) # 返回沿轴的最大值的索引（后一个输出）\n",
    "plt.figure(figsize=(8,6))\n",
    "plt.plot(range(10,201,10),score)\n",
    "plt.show()"
   ]
  },
  {
   "cell_type": "markdown",
   "metadata": {},
   "source": [
    "### 最大深度选择"
   ]
  },
  {
   "cell_type": "code",
   "execution_count": 79,
   "metadata": {},
   "outputs": [
    {
     "name": "stdout",
     "output_type": "stream",
     "text": [
      "05:41:132984\n",
      "得分： 0.8939818849773287 最大深度： 20\n"
     ]
    },
    {
     "data": {
      "image/png": "[encoded data removed]",
      "text/plain": [
       "<Figure size 576x432 with 1 Axes>"
      ]
     },
     "metadata": {
      "needs_background": "light"
     },
     "output_type": "display_data"
    }
   ],
   "source": [
    "score = []\n",
    "time0 = time()\n",
    "for i in np.arange(3, 21, 1):\n",
    "    rfc = RFC(n_estimators= 10\n",
    "             ,max_depth= i\n",
    "             ,random_state=0)\n",
    "    score_ = cross_val_score(rfc,Xtrain_new,Ytrain,cv=5).mean()\n",
    "    score.append(score_)\n",
    "print(datetime.datetime.fromtimestamp(time()-time0).strftime(\"%M:%S:%f\"))\n",
    "print('得分：',max(score),'最大深度：',np.arange(3, 21, 1)[np.argmax(score)])\n",
    "plt.figure(figsize=(8,6))\n",
    "plt.plot(np.arange(3, 21, 1),score)\n",
    "plt.show()"
   ]
  },
  {
   "cell_type": "markdown",
   "metadata": {},
   "source": [
    "### 最小分割样本数选择"
   ]
  },
  {
   "cell_type": "code",
   "execution_count": 80,
   "metadata": {},
   "outputs": [
    {
     "name": "stdout",
     "output_type": "stream",
     "text": [
      "08:21:638368\n",
      "得分： 0.8066083426188453 最小分支数： 2\n"
     ]
    },
    {
     "data": {
      "image/png": "[encoded data removed]",
      "text/plain": [
       "<Figure size 576x432 with 1 Axes>"
      ]
     },
     "metadata": {
      "needs_background": "light"
     },
     "output_type": "display_data"
    }
   ],
   "source": [
    "score_2 = []\n",
    "time0 = time()\n",
    "for i in np.arange(2, 22, 1):\n",
    "    rfc = RFC(n_estimators= 10\n",
    "             ,max_depth= 15\n",
    "             ,min_samples_split= i\n",
    "             ,random_state=0)\n",
    "    score_ = cross_val_score(rfc,Xtrain_new,Ytrain,cv=5).mean()\n",
    "    score_2.append(score_)\n",
    "print(datetime.datetime.fromtimestamp(time()-time0).strftime(\"%M:%S:%f\"))\n",
    "print('得分：',max(score_2),'最小分支数：',np.arange(2, 22, 1)[np.argmax(score_2)])\n",
    "plt.figure(figsize=(8,6))\n",
    "plt.plot(np.arange(2, 22, 1),score_2)\n",
    "plt.show()"
   ]
  },
  {
   "cell_type": "markdown",
   "metadata": {},
   "source": [
    "### 最小叶子结点样本数选择"
   ]
  },
  {
   "cell_type": "code",
   "execution_count": 81,
   "metadata": {},
   "outputs": [
    {
     "name": "stdout",
     "output_type": "stream",
     "text": [
      "04:14:709608\n",
      "得分： 0.8066083426188453 最小叶子数： 1\n"
     ]
    },
    {
     "data": {
      "image/png": "[encoded data removed]",
      "text/plain": [
       "<Figure size 576x432 with 1 Axes>"
      ]
     },
     "metadata": {
      "needs_background": "light"
     },
     "output_type": "display_data"
    }
   ],
   "source": [
    "score_3 = []\n",
    "time0 = time()\n",
    "for i in np.arange(1, 12, 1):\n",
    "    rfc = RFC(n_estimators= 10\n",
    "             ,max_depth= 15\n",
    "             ,min_samples_split= 2\n",
    "             ,min_samples_leaf = i\n",
    "             ,random_state=0)\n",
    "    score_ = cross_val_score(rfc,Xtrain_new,Ytrain,cv=5).mean()\n",
    "    score_3.append(score_)\n",
    "print(datetime.datetime.fromtimestamp(time()-time0).strftime(\"%M:%S:%f\"))\n",
    "print('得分：',max(score_3),'最小叶子数：',np.arange(1, 12, 1)[np.argmax(score_3)])\n",
    "plt.figure(figsize=(8,6))\n",
    "plt.plot(np.arange(1, 12, 1),score_3)\n",
    "plt.show()"
   ]
  },
  {
   "cell_type": "markdown",
   "metadata": {},
   "source": [
    "### 最小评估器再次选择"
   ]
  },
  {
   "cell_type": "code",
   "execution_count": 102,
   "metadata": {},
   "outputs": [
    {
     "name": "stdout",
     "output_type": "stream",
     "text": [
      "31:49:492826\n",
      "0.9043809229615084 最佳分类器数： 180\n"
     ]
    },
    {
     "data": {
      "image/png": "[encoded data removed]",
      "text/plain": [
       "<Figure size 576x432 with 1 Axes>"
      ]
     },
     "metadata": {
      "needs_background": "light"
     },
     "output_type": "display_data"
    }
   ],
   "source": [
    "score_4 = []\n",
    "time0 = time()\n",
    "for i in range(10,201,10):\n",
    "    rfc = RFC(n_estimators= i\n",
    "             ,max_depth=20\n",
    "             ,random_state=0)\n",
    "    score_ = cross_val_score(rfc,Xtrain_new,Ytrain,cv=5).mean()\n",
    "    score_4.append(score_)\n",
    "print(datetime.datetime.fromtimestamp(time()-time0).strftime(\"%H:%M:%S\"))\n",
    "print(max(score_4),'最佳分类器数：',range(10,201,10)[np.argmax(score_4)])\n",
    "plt.figure(figsize=(8,6))\n",
    "plt.plot(range(10,201,10),score_4)\n",
    "plt.show()\n",
    "# 运行1个半小时"
   ]
  },
  {
   "cell_type": "markdown",
   "metadata": {},
   "source": [
    "### 确定参数"
   ]
  },
  {
   "cell_type": "code",
   "execution_count": 106,
   "metadata": {},
   "outputs": [],
   "source": [
    "clf = RFC(n_estimators=180\n",
    "         ,max_depth=15\n",
    "         ,min_samples_leaf=1\n",
    "         ,min_samples_split=2\n",
    "         ,random_state=0\n",
    "         )\n",
    "clf = clf.fit(Xtrain_new,Ytrain)"
   ]
  },
  {
   "cell_type": "markdown",
   "metadata": {},
   "source": [
    "查看训练集和测试集的分数"
   ]
  },
  {
   "cell_type": "code",
   "execution_count": 107,
   "metadata": {},
   "outputs": [
    {
     "data": {
      "text/plain": [
       "0.8311662235362908"
      ]
     },
     "execution_count": 107,
     "metadata": {},
     "output_type": "execute_result"
    }
   ],
   "source": [
    "clf.score(Xtrain_new,Ytrain)"
   ]
  },
  {
   "cell_type": "code",
   "execution_count": 108,
   "metadata": {},
   "outputs": [
    {
     "data": {
      "text/plain": [
       "0.8119391458799907"
      ]
     },
     "execution_count": 108,
     "metadata": {},
     "output_type": "execute_result"
    }
   ],
   "source": [
    "clf.score(Xtest_new,Ytest)"
   ]
  },
  {
   "cell_type": "code",
   "execution_count": 109,
   "metadata": {},
   "outputs": [],
   "source": [
    "clf = RFC(n_estimators=180\n",
    "         ,max_depth=20\n",
    "         ,min_samples_leaf=1\n",
    "         ,min_samples_split=2\n",
    "         ,random_state=0\n",
    "         )\n",
    "clf = clf.fit(Xtrain_new,Ytrain)"
   ]
  },
  {
   "cell_type": "code",
   "execution_count": 110,
   "metadata": {},
   "outputs": [
    {
     "data": {
      "text/plain": [
       "0.9425305870282317"
      ]
     },
     "execution_count": 110,
     "metadata": {},
     "output_type": "execute_result"
    }
   ],
   "source": [
    "clf.score(Xtrain_new,Ytrain)"
   ]
  },
  {
   "cell_type": "code",
   "execution_count": 111,
   "metadata": {},
   "outputs": [
    {
     "data": {
      "text/plain": [
       "0.9049398923983833"
      ]
     },
     "execution_count": 111,
     "metadata": {},
     "output_type": "execute_result"
    }
   ],
   "source": [
    "clf.score(Xtest_new,Ytest)"
   ]
  },
  {
   "cell_type": "markdown",
   "metadata": {},
   "source": [
    "另一种方法使用网格搜素，但不建议使用，耗时特别长"
   ]
  },
  {
   "cell_type": "code",
   "execution_count": null,
   "metadata": {},
   "outputs": [],
   "source": [
    "# from sklearn.model_selection import GridSearchCV \n",
    "# time0 = time()\n",
    "# rfc = RFC(n_estimators= 10\n",
    "#           ,random_state=0)\n",
    "# GS = GridSearchCV(rfc,param_grid,cv=5)\n",
    "# GS.fit(Xtrain_new,ytrain)\n",
    "# print('最佳参数：',GS.best_params_)\n",
    "# print('最高得分：',GS.best_score_)\n",
    "# print(datetime.datetime.fromtimestamp(time()-time0).strftime(\"%H:%M:%S\"))"
   ]
  },
  {
   "cell_type": "markdown",
   "metadata": {},
   "source": [
    "查看特征重要性"
   ]
  },
  {
   "cell_type": "code",
   "execution_count": 112,
   "metadata": {},
   "outputs": [
    {
     "data": {
      "text/plain": [
       "array([0.12778966, 0.13655849, 0.12457015, 0.13714743, 0.10208397,\n",
       "       0.13347588, 0.14272563, 0.09564879])"
      ]
     },
     "execution_count": 112,
     "metadata": {},
     "output_type": "execute_result"
    }
   ],
   "source": [
    "clf.feature_importances_"
   ]
  },
  {
   "cell_type": "markdown",
   "metadata": {},
   "source": [
    "定义函数绘制AUC曲线"
   ]
  },
  {
   "cell_type": "code",
   "execution_count": 116,
   "metadata": {},
   "outputs": [
    {
     "data": {
      "image/png": "[encoded data removed]",
      "text/plain": [
       "<Figure size 504x396 with 1 Axes>"
      ]
     },
     "metadata": {
      "needs_background": "light"
     },
     "output_type": "display_data"
    }
   ],
   "source": [
    "model = RFC(n_estimators=180\n",
    "         ,max_depth=20\n",
    "         ,min_samples_leaf=1\n",
    "         ,min_samples_split=2\n",
    "         ,random_state=0\n",
    "         )\n",
    "# ROC\n",
    "y_score = model.fit(Xtrain_new, Ytrain).predict_proba(Xtest_new)  # 随机森林\n",
    "fpr, tpr, thresholds = roc_curve(Ytest, y_score[:, 1])\n",
    "roc_auc = auc(fpr, tpr)\n",
    "def drawRoc(roc_auc,fpr,tpr):\n",
    "    plt.subplots(figsize=(7, 5.5))\n",
    "    plt.plot(fpr, tpr, color='darkorange', lw=2, label='ROC curve (area = %0.2f)' % roc_auc)\n",
    "    plt.plot([0, 1], [0, 1], color='navy', lw=2, linestyle='--')\n",
    "    plt.xlim([0.0, 1.0])\n",
    "    plt.ylim([0.0, 1.05])\n",
    "    plt.xlabel('False Positive Rate')\n",
    "    plt.ylabel('True Positive Rate')\n",
    "    plt.title('ROC Curve')\n",
    "    plt.legend(loc=\"lower right\")\n",
    "    plt.show()\n",
    "drawRoc(roc_auc, fpr, tpr)"
   ]
  },
  {
   "cell_type": "markdown",
   "metadata": {},
   "source": [
    " "
   ]
  }
 ],
 "metadata": {
  "kernelspec": {
   "display_name": "Python 3.9.13 64-bit (windows store)",
   "language": "python",
   "name": "python3"
  },
  "language_info": {
   "codemirror_mode": {
    "name": "ipython",
    "version": 3
   },
   "file_extension": ".py",
   "mimetype": "text/x-python",
   "name": "python",
   "nbconvert_exporter": "python",
   "pygments_lexer": "ipython3",
   "version": "3.9.13"
  },
  "toc": {
   "base_numbering": 1,
   "nav_menu": {},
   "number_sections": false,
   "sideBar": true,
   "skip_h1_title": false,
   "title_cell": "Table of Contents",
   "title_sidebar": "Contents",
   "toc_cell": false,
   "toc_position": {
    "height": "calc(100% - 180px)",
    "left": "10px",
    "top": "150px",
    "width": "288px"
   },
   "toc_section_display": true,
   "toc_window_display": false
  },
  "vscode": {
   "interpreter": {
    "hash": "459d27636651d6e0981d47e7b6b66a6a6625914282a034fc6e20a575c7313162"
   }
  }
 },
 "nbformat": 4,
 "nbformat_minor": 2
}
